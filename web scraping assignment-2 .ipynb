{
 "cells": [
  {
   "cell_type": "code",
   "execution_count": 1,
   "id": "47b05101",
   "metadata": {},
   "outputs": [],
   "source": [
    "import selenium\n",
    "from selenium import webdriver\n",
    "import warnings\n",
    "warnings.filterwarnings('ignore')"
   ]
  },
  {
   "cell_type": "code",
   "execution_count": 2,
   "id": "a06d7730",
   "metadata": {},
   "outputs": [],
   "source": [
    "#connect to web driver\n",
    "driver=webdriver.Chrome(r'C:\\Users\\Aditya\\OneDrive\\Desktop\\chromedriver.exe')"
   ]
  },
  {
   "cell_type": "code",
   "execution_count": 3,
   "id": "e5b21aa0",
   "metadata": {},
   "outputs": [],
   "source": [
    "url='https://www.naukri.com/'\n",
    "driver.get(url)"
   ]
  },
  {
   "cell_type": "code",
   "execution_count": 4,
   "id": "4afe9756",
   "metadata": {},
   "outputs": [
    {
     "data": {
      "text/plain": [
       "<selenium.webdriver.remote.webelement.WebElement (session=\"663c43330e604c4f051453464bf3cc60\", element=\"8fc3ab0c-d0f2-4ab9-a715-b7740b442a3c\")>"
      ]
     },
     "execution_count": 4,
     "metadata": {},
     "output_type": "execute_result"
    }
   ],
   "source": [
    "#finding web element for search job bar by using class name\n",
    "search_job=driver.find_element_by_class_name(\"suggestor-input \")\n",
    "search_job"
   ]
  },
  {
   "cell_type": "code",
   "execution_count": 65,
   "id": "782febc6",
   "metadata": {},
   "outputs": [],
   "source": [
    "#write on search bar\n",
    "search_job.send_keys('data Analyst')"
   ]
  },
  {
   "cell_type": "code",
   "execution_count": 6,
   "id": "3ba7590a",
   "metadata": {},
   "outputs": [
    {
     "data": {
      "text/plain": [
       "<selenium.webdriver.remote.webelement.WebElement (session=\"663c43330e604c4f051453464bf3cc60\", element=\"2ca4814d-515d-4759-a867-315a66ff3b37\")>"
      ]
     },
     "execution_count": 6,
     "metadata": {},
     "output_type": "execute_result"
    }
   ],
   "source": [
    "#find web element for search loc bar using absolute xpath\n",
    "search_loc=driver.find_element_by_xpath('/html/body/div/div[2]/div[3]/div/div/div[3]/div/div/div/input')\n",
    "search_loc"
   ]
  },
  {
   "cell_type": "code",
   "execution_count": 67,
   "id": "f4d2f3a1",
   "metadata": {},
   "outputs": [],
   "source": [
    "#finding web element for job location\n",
    "search_loc.send_keys('Bangalore')"
   ]
  },
  {
   "cell_type": "code",
   "execution_count": 8,
   "id": "f63e5d5e",
   "metadata": {},
   "outputs": [
    {
     "data": {
      "text/plain": [
       "<selenium.webdriver.remote.webelement.WebElement (session=\"663c43330e604c4f051453464bf3cc60\", element=\"13bcc756-3a44-4f14-bdc2-f08689757f1d\")>"
      ]
     },
     "execution_count": 8,
     "metadata": {},
     "output_type": "execute_result"
    }
   ],
   "source": [
    "#clicking using class name function\n",
    "search_btn=driver.find_element_by_xpath(\"/html/body/div/div[2]/div[3]/div/div/div[6]\")\n",
    "search_btn"
   ]
  },
  {
   "cell_type": "code",
   "execution_count": 69,
   "id": "3fc997b0",
   "metadata": {},
   "outputs": [],
   "source": [
    "search_btn.click()"
   ]
  },
  {
   "cell_type": "code",
   "execution_count": 70,
   "id": "dcb5afb1",
   "metadata": {},
   "outputs": [
    {
     "data": {
      "text/plain": [
       "20"
      ]
     },
     "execution_count": 70,
     "metadata": {},
     "output_type": "execute_result"
    }
   ],
   "source": [
    "#job titles \n",
    "job_titls=driver.find_elements_by_xpath('//a[@class=\"title fw500 ellipsis\"]')\n",
    "len(job_titls)"
   ]
  },
  {
   "cell_type": "code",
   "execution_count": 91,
   "id": "c5332bc7",
   "metadata": {},
   "outputs": [
    {
     "data": {
      "text/plain": [
       "['Hiring -Data Analyst, Business Analyst, MIS Analyst -3rd Party Payroll',\n",
       " 'Business Data Analyst - MIS & Reporting',\n",
       " 'Data Analyst',\n",
       " 'Job Opportunity with Leading MNC - Senior Data Analyst',\n",
       " 'Insights Data analyst',\n",
       " 'Data Analyst',\n",
       " 'Business Analyst (Data Analyst)',\n",
       " 'Business Analyst/ Data Analyst- Capital Market & SQL (Mandatory)',\n",
       " 'Senior Data Analyst',\n",
       " 'Data Analyst',\n",
       " 'Data Analyst',\n",
       " 'Associate Data Analyst',\n",
       " 'Information Manager & Data Analyst',\n",
       " 'Data Analyst',\n",
       " 'Data Analyst (Python, SQL, Excel)',\n",
       " 'Professional 2 Data Analyst',\n",
       " 'Data Analyst - 3rd Party',\n",
       " 'Data Analyst',\n",
       " 'Business Data Analyst',\n",
       " 'Business Data Analyst']"
      ]
     },
     "execution_count": 91,
     "metadata": {},
     "output_type": "execute_result"
    }
   ],
   "source": [
    "#insert job titles into list\n",
    "job_title=[]\n",
    "\n",
    "for i in job_titls:\n",
    "    job_title.append(i.text)\n",
    "\n",
    "job_title"
   ]
  },
  {
   "cell_type": "code",
   "execution_count": 93,
   "id": "95ded16c",
   "metadata": {},
   "outputs": [
    {
     "data": {
      "text/plain": [
       "['Hiring -Data Analyst, Business Analyst, MIS Analyst -3rd Party Payroll',\n",
       " 'Business Data Analyst - MIS & Reporting',\n",
       " 'Data Analyst',\n",
       " 'Job Opportunity with Leading MNC - Senior Data Analyst',\n",
       " 'Insights Data analyst',\n",
       " 'Data Analyst',\n",
       " 'Business Analyst (Data Analyst)',\n",
       " 'Business Analyst/ Data Analyst- Capital Market & SQL (Mandatory)',\n",
       " 'Senior Data Analyst',\n",
       " 'Data Analyst']"
      ]
     },
     "execution_count": 93,
     "metadata": {},
     "output_type": "execute_result"
    }
   ],
   "source": [
    "title=job_title[0:10]\n",
    "title"
   ]
  },
  {
   "cell_type": "code",
   "execution_count": 94,
   "id": "39385283",
   "metadata": {},
   "outputs": [
    {
     "data": {
      "text/plain": [
       "['Bangalore/Bengaluru',\n",
       " 'Bangalore/Bengaluru',\n",
       " 'Bangalore/Bengaluru',\n",
       " 'Bangalore/Bengaluru',\n",
       " 'Bangalore/Bengaluru',\n",
       " 'Bangalore/Bengaluru',\n",
       " 'Hyderabad/Secunderabad, Bangalore/Bengaluru, Delhi / NCR',\n",
       " 'Pune, Bangalore/Bengaluru',\n",
       " 'Remote',\n",
       " 'Bangalore/Bengaluru',\n",
       " 'Hyderabad/Secunderabad, Chennai, Bangalore/Bengaluru\\n(WFH during Covid)',\n",
       " 'Bangalore/Bengaluru',\n",
       " 'Bangalore/Bengaluru',\n",
       " 'Bangalore/Bengaluru',\n",
       " 'Bangalore/Bengaluru',\n",
       " 'Bangalore/Bengaluru',\n",
       " 'Bangalore/Bengaluru',\n",
       " 'Bangalore/Bengaluru',\n",
       " 'Bangalore/Bengaluru',\n",
       " 'Bangalore/Bengaluru']"
      ]
     },
     "execution_count": 94,
     "metadata": {},
     "output_type": "execute_result"
    }
   ],
   "source": [
    "#location\n",
    "location=driver.find_elements_by_xpath('//li[@class=\"fleft grey-text br2 placeHolderLi location\"]')\n",
    "\n",
    "locations=[]\n",
    "\n",
    "for i in location:\n",
    "    locations.append(i.text)\n",
    "    \n",
    "locations"
   ]
  },
  {
   "cell_type": "code",
   "execution_count": 95,
   "id": "40c9d04a",
   "metadata": {},
   "outputs": [
    {
     "data": {
      "text/plain": [
       "['Bangalore/Bengaluru',\n",
       " 'Bangalore/Bengaluru',\n",
       " 'Bangalore/Bengaluru',\n",
       " 'Bangalore/Bengaluru',\n",
       " 'Bangalore/Bengaluru',\n",
       " 'Bangalore/Bengaluru',\n",
       " 'Hyderabad/Secunderabad, Bangalore/Bengaluru, Delhi / NCR',\n",
       " 'Pune, Bangalore/Bengaluru',\n",
       " 'Remote',\n",
       " 'Bangalore/Bengaluru']"
      ]
     },
     "execution_count": 95,
     "metadata": {},
     "output_type": "execute_result"
    }
   ],
   "source": [
    "location=locations[0:10]\n",
    "\n",
    "location"
   ]
  },
  {
   "cell_type": "code",
   "execution_count": 96,
   "id": "d5bc8cbf",
   "metadata": {},
   "outputs": [
    {
     "data": {
      "text/plain": [
       "['Flipkart',\n",
       " 'SHAND PIPE INDUSTRY PVT.LTD',\n",
       " 'THBS',\n",
       " 'Enrich and Enlight',\n",
       " 'Tide Software',\n",
       " 'Shell',\n",
       " 'Genpact',\n",
       " 'Genpact',\n",
       " 'Liventus Technology Services',\n",
       " 'McAfee',\n",
       " 'Ensar Solutions Pvt Ltd',\n",
       " 'Optum',\n",
       " 'Ericsson Global Services',\n",
       " 'IBM',\n",
       " 'Flipkart',\n",
       " 'DXC Technology',\n",
       " 'Flipkart',\n",
       " 'Flipkart',\n",
       " 'Multi Recruit',\n",
       " 'Multi Recruit']"
      ]
     },
     "execution_count": 96,
     "metadata": {},
     "output_type": "execute_result"
    }
   ],
   "source": [
    "#name of the company\n",
    "company=driver.find_elements_by_xpath('//a[@class=\"subTitle ellipsis fleft\"]')\n",
    "\n",
    "company_name=[]\n",
    "\n",
    "for i in company:\n",
    "    company_name.append(i.text)\n",
    "    \n",
    "company_name"
   ]
  },
  {
   "cell_type": "code",
   "execution_count": 97,
   "id": "5958555e",
   "metadata": {},
   "outputs": [
    {
     "data": {
      "text/plain": [
       "['Flipkart',\n",
       " 'SHAND PIPE INDUSTRY PVT.LTD',\n",
       " 'THBS',\n",
       " 'Enrich and Enlight',\n",
       " 'Tide Software',\n",
       " 'Shell',\n",
       " 'Genpact',\n",
       " 'Genpact',\n",
       " 'Liventus Technology Services',\n",
       " 'McAfee']"
      ]
     },
     "execution_count": 97,
     "metadata": {},
     "output_type": "execute_result"
    }
   ],
   "source": [
    "compny_name=company_name[0:10]\n",
    "compny_name"
   ]
  },
  {
   "cell_type": "code",
   "execution_count": 79,
   "id": "6b747773",
   "metadata": {},
   "outputs": [
    {
     "data": {
      "text/plain": [
       "20"
      ]
     },
     "execution_count": 79,
     "metadata": {},
     "output_type": "execute_result"
    }
   ],
   "source": [
    "#experience\n",
    "experience=driver.find_elements_by_xpath('//*[contains(@title,\"Yrs\")]')\n",
    "len(experience)"
   ]
  },
  {
   "cell_type": "code",
   "execution_count": 85,
   "id": "e1347b58",
   "metadata": {},
   "outputs": [
    {
     "data": {
      "text/plain": [
       "[<selenium.webdriver.remote.webelement.WebElement (session=\"7be2060f9d2087a62c76266c3cc12545\", element=\"0b1ecdd7-6dfd-4dee-8a7a-657c6a42ccd5\")>,\n",
       " <selenium.webdriver.remote.webelement.WebElement (session=\"7be2060f9d2087a62c76266c3cc12545\", element=\"1ed319dd-02f1-4d36-a2ad-187502d7f987\")>,\n",
       " <selenium.webdriver.remote.webelement.WebElement (session=\"7be2060f9d2087a62c76266c3cc12545\", element=\"e26728a9-432d-4365-a735-bda34b29321c\")>,\n",
       " <selenium.webdriver.remote.webelement.WebElement (session=\"7be2060f9d2087a62c76266c3cc12545\", element=\"bbc48ea9-9ae0-4bfb-9a3a-98dd3066cc98\")>,\n",
       " <selenium.webdriver.remote.webelement.WebElement (session=\"7be2060f9d2087a62c76266c3cc12545\", element=\"3cc34527-a233-4abf-8a49-0f8a183cd047\")>,\n",
       " <selenium.webdriver.remote.webelement.WebElement (session=\"7be2060f9d2087a62c76266c3cc12545\", element=\"a1f4db9f-9b12-4a83-ae17-0d3fb93b3185\")>,\n",
       " <selenium.webdriver.remote.webelement.WebElement (session=\"7be2060f9d2087a62c76266c3cc12545\", element=\"d0340404-d01c-4ae9-b36c-81bb3b2db6e3\")>,\n",
       " <selenium.webdriver.remote.webelement.WebElement (session=\"7be2060f9d2087a62c76266c3cc12545\", element=\"0023f771-300d-4a4c-bdcd-ac9fe4a87329\")>,\n",
       " <selenium.webdriver.remote.webelement.WebElement (session=\"7be2060f9d2087a62c76266c3cc12545\", element=\"270399a8-b4c4-429b-8c22-ea43992366d1\")>,\n",
       " <selenium.webdriver.remote.webelement.WebElement (session=\"7be2060f9d2087a62c76266c3cc12545\", element=\"179836bf-63a8-43e3-9cdc-40ea03ba2cfe\")>]"
      ]
     },
     "execution_count": 85,
     "metadata": {},
     "output_type": "execute_result"
    }
   ],
   "source": [
    "experience[0:10]"
   ]
  },
  {
   "cell_type": "code",
   "execution_count": 98,
   "id": "b2b54131",
   "metadata": {},
   "outputs": [
    {
     "data": {
      "text/plain": [
       "['1-6 Yrs',\n",
       " '2-6 Yrs',\n",
       " '1-4 Yrs',\n",
       " '5-7 Yrs',\n",
       " '0-4 Yrs',\n",
       " '5-8 Yrs',\n",
       " '6-10 Yrs',\n",
       " '7-12 Yrs',\n",
       " '5-8 Yrs',\n",
       " '2-7 Yrs']"
      ]
     },
     "execution_count": 98,
     "metadata": {},
     "output_type": "execute_result"
    }
   ],
   "source": [
    "exprnc=[]\n",
    "\n",
    "for i in experience:\n",
    "    exprnc.append(i.text)\n",
    "    \n",
    "experience_yrs=exprnc[0:10]\n",
    "\n",
    "experience_yrs"
   ]
  },
  {
   "cell_type": "code",
   "execution_count": 99,
   "id": "bc54e80d",
   "metadata": {},
   "outputs": [
    {
     "data": {
      "text/html": [
       "<div>\n",
       "<style scoped>\n",
       "    .dataframe tbody tr th:only-of-type {\n",
       "        vertical-align: middle;\n",
       "    }\n",
       "\n",
       "    .dataframe tbody tr th {\n",
       "        vertical-align: top;\n",
       "    }\n",
       "\n",
       "    .dataframe thead th {\n",
       "        text-align: right;\n",
       "    }\n",
       "</style>\n",
       "<table border=\"1\" class=\"dataframe\">\n",
       "  <thead>\n",
       "    <tr style=\"text-align: right;\">\n",
       "      <th></th>\n",
       "      <th>job title</th>\n",
       "      <th>job location</th>\n",
       "      <th>name of the company</th>\n",
       "      <th>years of experience</th>\n",
       "    </tr>\n",
       "  </thead>\n",
       "  <tbody>\n",
       "    <tr>\n",
       "      <th>0</th>\n",
       "      <td>Hiring -Data Analyst, Business Analyst, MIS An...</td>\n",
       "      <td>Bangalore/Bengaluru</td>\n",
       "      <td>Flipkart</td>\n",
       "      <td>1-6 Yrs</td>\n",
       "    </tr>\n",
       "    <tr>\n",
       "      <th>1</th>\n",
       "      <td>Business Data Analyst - MIS &amp; Reporting</td>\n",
       "      <td>Bangalore/Bengaluru</td>\n",
       "      <td>SHAND PIPE INDUSTRY PVT.LTD</td>\n",
       "      <td>2-6 Yrs</td>\n",
       "    </tr>\n",
       "    <tr>\n",
       "      <th>2</th>\n",
       "      <td>Data Analyst</td>\n",
       "      <td>Bangalore/Bengaluru</td>\n",
       "      <td>THBS</td>\n",
       "      <td>1-4 Yrs</td>\n",
       "    </tr>\n",
       "    <tr>\n",
       "      <th>3</th>\n",
       "      <td>Job Opportunity with Leading MNC - Senior Data...</td>\n",
       "      <td>Bangalore/Bengaluru</td>\n",
       "      <td>Enrich and Enlight</td>\n",
       "      <td>5-7 Yrs</td>\n",
       "    </tr>\n",
       "    <tr>\n",
       "      <th>4</th>\n",
       "      <td>Insights Data analyst</td>\n",
       "      <td>Bangalore/Bengaluru</td>\n",
       "      <td>Tide Software</td>\n",
       "      <td>0-4 Yrs</td>\n",
       "    </tr>\n",
       "    <tr>\n",
       "      <th>5</th>\n",
       "      <td>Data Analyst</td>\n",
       "      <td>Bangalore/Bengaluru</td>\n",
       "      <td>Shell</td>\n",
       "      <td>5-8 Yrs</td>\n",
       "    </tr>\n",
       "    <tr>\n",
       "      <th>6</th>\n",
       "      <td>Business Analyst (Data Analyst)</td>\n",
       "      <td>Hyderabad/Secunderabad, Bangalore/Bengaluru, D...</td>\n",
       "      <td>Genpact</td>\n",
       "      <td>6-10 Yrs</td>\n",
       "    </tr>\n",
       "    <tr>\n",
       "      <th>7</th>\n",
       "      <td>Business Analyst/ Data Analyst- Capital Market...</td>\n",
       "      <td>Pune, Bangalore/Bengaluru</td>\n",
       "      <td>Genpact</td>\n",
       "      <td>7-12 Yrs</td>\n",
       "    </tr>\n",
       "    <tr>\n",
       "      <th>8</th>\n",
       "      <td>Senior Data Analyst</td>\n",
       "      <td>Remote</td>\n",
       "      <td>Liventus Technology Services</td>\n",
       "      <td>5-8 Yrs</td>\n",
       "    </tr>\n",
       "    <tr>\n",
       "      <th>9</th>\n",
       "      <td>Data Analyst</td>\n",
       "      <td>Bangalore/Bengaluru</td>\n",
       "      <td>McAfee</td>\n",
       "      <td>2-7 Yrs</td>\n",
       "    </tr>\n",
       "  </tbody>\n",
       "</table>\n",
       "</div>"
      ],
      "text/plain": [
       "                                           job title  \\\n",
       "0  Hiring -Data Analyst, Business Analyst, MIS An...   \n",
       "1            Business Data Analyst - MIS & Reporting   \n",
       "2                                       Data Analyst   \n",
       "3  Job Opportunity with Leading MNC - Senior Data...   \n",
       "4                              Insights Data analyst   \n",
       "5                                       Data Analyst   \n",
       "6                    Business Analyst (Data Analyst)   \n",
       "7  Business Analyst/ Data Analyst- Capital Market...   \n",
       "8                                Senior Data Analyst   \n",
       "9                                       Data Analyst   \n",
       "\n",
       "                                        job location  \\\n",
       "0                                Bangalore/Bengaluru   \n",
       "1                                Bangalore/Bengaluru   \n",
       "2                                Bangalore/Bengaluru   \n",
       "3                                Bangalore/Bengaluru   \n",
       "4                                Bangalore/Bengaluru   \n",
       "5                                Bangalore/Bengaluru   \n",
       "6  Hyderabad/Secunderabad, Bangalore/Bengaluru, D...   \n",
       "7                          Pune, Bangalore/Bengaluru   \n",
       "8                                             Remote   \n",
       "9                                Bangalore/Bengaluru   \n",
       "\n",
       "            name of the company years of experience  \n",
       "0                      Flipkart             1-6 Yrs  \n",
       "1   SHAND PIPE INDUSTRY PVT.LTD             2-6 Yrs  \n",
       "2                          THBS             1-4 Yrs  \n",
       "3            Enrich and Enlight             5-7 Yrs  \n",
       "4                 Tide Software             0-4 Yrs  \n",
       "5                         Shell             5-8 Yrs  \n",
       "6                       Genpact            6-10 Yrs  \n",
       "7                       Genpact            7-12 Yrs  \n",
       "8  Liventus Technology Services             5-8 Yrs  \n",
       "9                        McAfee             2-7 Yrs  "
      ]
     },
     "execution_count": 99,
     "metadata": {},
     "output_type": "execute_result"
    }
   ],
   "source": [
    "import pandas as pd\n",
    "df=pd.DataFrame({'job title':title,'job location':location,'name of the company':compny_name,'years of experience':experience_yrs})\n",
    "df"
   ]
  },
  {
   "cell_type": "markdown",
   "id": "a99d5e43",
   "metadata": {},
   "source": [
    "# 2) python program for scraping data(1st 10) from 'https://www.naukri.com/',data scientist,location Bengalore"
   ]
  },
  {
   "cell_type": "code",
   "execution_count": 100,
   "id": "adc51b32",
   "metadata": {},
   "outputs": [],
   "source": [
    "url='https://www.naukri.com/'\n",
    "driver.get(url)"
   ]
  },
  {
   "cell_type": "code",
   "execution_count": 117,
   "id": "8ba0c580",
   "metadata": {},
   "outputs": [
    {
     "data": {
      "text/plain": [
       "<selenium.webdriver.remote.webelement.WebElement (session=\"7be2060f9d2087a62c76266c3cc12545\", element=\"bb2a8693-b7c6-4a50-95ab-680c4ca3dd25\")>"
      ]
     },
     "execution_count": 117,
     "metadata": {},
     "output_type": "execute_result"
    }
   ],
   "source": [
    "#find element job on search bar\n",
    "search_job=driver.find_element_by_class_name(\"suggestor-input \")\n",
    "search_job"
   ]
  },
  {
   "cell_type": "code",
   "execution_count": 118,
   "id": "db27fcba",
   "metadata": {},
   "outputs": [],
   "source": [
    "search_job.send_keys('Data scientist')"
   ]
  },
  {
   "cell_type": "code",
   "execution_count": 119,
   "id": "6afa6067",
   "metadata": {},
   "outputs": [
    {
     "data": {
      "text/plain": [
       "<selenium.webdriver.remote.webelement.WebElement (session=\"7be2060f9d2087a62c76266c3cc12545\", element=\"323c57dc-7d1c-491e-824f-0a1994731901\")>"
      ]
     },
     "execution_count": 119,
     "metadata": {},
     "output_type": "execute_result"
    }
   ],
   "source": [
    "#find element locaiton on search bar\n",
    "search_loc=driver.find_element_by_xpath('/html/body/div/div[2]/div[3]/div/div/div[3]/div/div/div/input')\n",
    "search_loc"
   ]
  },
  {
   "cell_type": "code",
   "execution_count": 120,
   "id": "5166c7f3",
   "metadata": {},
   "outputs": [],
   "source": [
    "search_loc.send_keys('Bangalore')"
   ]
  },
  {
   "cell_type": "code",
   "execution_count": 121,
   "id": "067bb29e",
   "metadata": {},
   "outputs": [
    {
     "data": {
      "text/plain": [
       "<selenium.webdriver.remote.webelement.WebElement (session=\"7be2060f9d2087a62c76266c3cc12545\", element=\"0e30a80b-6757-4f9a-8499-ec24a0aa1b5e\")>"
      ]
     },
     "execution_count": 121,
     "metadata": {},
     "output_type": "execute_result"
    }
   ],
   "source": [
    "#clicking using class name function\n",
    "search_btn=driver.find_element_by_xpath(\"/html/body/div/div[2]/div[3]/div/div/div[6]\")\n",
    "search_btn"
   ]
  },
  {
   "cell_type": "code",
   "execution_count": 122,
   "id": "e6b6185f",
   "metadata": {},
   "outputs": [],
   "source": [
    "search_btn.click()"
   ]
  },
  {
   "cell_type": "code",
   "execution_count": 126,
   "id": "55e42da9",
   "metadata": {},
   "outputs": [
    {
     "data": {
      "text/plain": [
       "[<selenium.webdriver.remote.webelement.WebElement (session=\"7be2060f9d2087a62c76266c3cc12545\", element=\"1cd07e66-1511-423e-8ab8-4ee443234662\")>,\n",
       " <selenium.webdriver.remote.webelement.WebElement (session=\"7be2060f9d2087a62c76266c3cc12545\", element=\"26e4a2fc-bda2-40ec-8f54-b5f70d389380\")>,\n",
       " <selenium.webdriver.remote.webelement.WebElement (session=\"7be2060f9d2087a62c76266c3cc12545\", element=\"51f74626-37b7-4cff-9cfc-75ae7c50798f\")>,\n",
       " <selenium.webdriver.remote.webelement.WebElement (session=\"7be2060f9d2087a62c76266c3cc12545\", element=\"0b12a7a0-4a4f-4ba2-a9a2-81b42debe0e6\")>,\n",
       " <selenium.webdriver.remote.webelement.WebElement (session=\"7be2060f9d2087a62c76266c3cc12545\", element=\"052a3d8c-d2f0-4f48-bc5a-45e955b63916\")>,\n",
       " <selenium.webdriver.remote.webelement.WebElement (session=\"7be2060f9d2087a62c76266c3cc12545\", element=\"1b3b1bf1-dbd0-4d2d-b771-19d3c6d9fa11\")>,\n",
       " <selenium.webdriver.remote.webelement.WebElement (session=\"7be2060f9d2087a62c76266c3cc12545\", element=\"d906493b-e0b9-4133-9f76-97f07c17e505\")>,\n",
       " <selenium.webdriver.remote.webelement.WebElement (session=\"7be2060f9d2087a62c76266c3cc12545\", element=\"011c07fd-d9e6-422b-a7e8-86ac527a6ed6\")>,\n",
       " <selenium.webdriver.remote.webelement.WebElement (session=\"7be2060f9d2087a62c76266c3cc12545\", element=\"e564fa84-5cdc-46da-abf6-a95aa0e0f171\")>,\n",
       " <selenium.webdriver.remote.webelement.WebElement (session=\"7be2060f9d2087a62c76266c3cc12545\", element=\"40b653fd-6f7b-4d79-9cbf-e7a88f50e31b\")>,\n",
       " <selenium.webdriver.remote.webelement.WebElement (session=\"7be2060f9d2087a62c76266c3cc12545\", element=\"1b4e57c8-5d81-4307-bc5d-dd24c9a480b1\")>,\n",
       " <selenium.webdriver.remote.webelement.WebElement (session=\"7be2060f9d2087a62c76266c3cc12545\", element=\"788f0f7a-7e99-42de-9b33-17846e0295fd\")>,\n",
       " <selenium.webdriver.remote.webelement.WebElement (session=\"7be2060f9d2087a62c76266c3cc12545\", element=\"395898e3-824a-4d4f-b838-6674f5fd3999\")>,\n",
       " <selenium.webdriver.remote.webelement.WebElement (session=\"7be2060f9d2087a62c76266c3cc12545\", element=\"36cdf051-2719-4d33-a8c2-cad23b69dc90\")>,\n",
       " <selenium.webdriver.remote.webelement.WebElement (session=\"7be2060f9d2087a62c76266c3cc12545\", element=\"503d7c07-30a6-465a-b138-cebdc2c0550c\")>,\n",
       " <selenium.webdriver.remote.webelement.WebElement (session=\"7be2060f9d2087a62c76266c3cc12545\", element=\"8d3e80fd-4663-47de-a7ea-cafa7c0bd927\")>,\n",
       " <selenium.webdriver.remote.webelement.WebElement (session=\"7be2060f9d2087a62c76266c3cc12545\", element=\"db4b66b0-6627-45db-8675-a15bcd4a6bf7\")>,\n",
       " <selenium.webdriver.remote.webelement.WebElement (session=\"7be2060f9d2087a62c76266c3cc12545\", element=\"48ad5737-79f4-4c23-8d5b-334334a48217\")>,\n",
       " <selenium.webdriver.remote.webelement.WebElement (session=\"7be2060f9d2087a62c76266c3cc12545\", element=\"c9ee3311-7aee-4f65-a9f1-63a00654c27f\")>,\n",
       " <selenium.webdriver.remote.webelement.WebElement (session=\"7be2060f9d2087a62c76266c3cc12545\", element=\"2f76d175-1e64-43e9-864d-eebfa1182bd8\")>]"
      ]
     },
     "execution_count": 126,
     "metadata": {},
     "output_type": "execute_result"
    }
   ],
   "source": [
    "#job titles\n",
    "job_title=driver.find_elements_by_xpath('//a[@class=\"title fw500 ellipsis\"]')\n",
    "job_title"
   ]
  },
  {
   "cell_type": "code",
   "execution_count": 127,
   "id": "ad4b5b30",
   "metadata": {},
   "outputs": [
    {
     "data": {
      "text/plain": [
       "['Senior Data Scientist',\n",
       " 'Data Scientist - Lead / Architect - Looking For Early Joiners - Wipro',\n",
       " 'Lead Data Scientist',\n",
       " 'Associate Data Scientist',\n",
       " 'Senior Data Scientist with Pyspark and Databricks German MNC',\n",
       " 'Senior Data Scientist',\n",
       " 'Senior Data Scientist',\n",
       " 'Data Scientist: Advanced Analytics',\n",
       " 'Spark ML Data Scientist',\n",
       " 'Data Scientist - Tableau / Python / Hadoop']"
      ]
     },
     "execution_count": 127,
     "metadata": {},
     "output_type": "execute_result"
    }
   ],
   "source": [
    "jb_title=[]\n",
    "\n",
    "for i in job_title:\n",
    "    jb_title.append(i.text)\n",
    "    \n",
    "jb_titles=jb_title[0:10]\n",
    "\n",
    "jb_titles"
   ]
  },
  {
   "cell_type": "code",
   "execution_count": 128,
   "id": "519ac9ae",
   "metadata": {},
   "outputs": [
    {
     "data": {
      "text/plain": [
       "[<selenium.webdriver.remote.webelement.WebElement (session=\"7be2060f9d2087a62c76266c3cc12545\", element=\"02af0f7b-7a60-47b7-a66e-01b3198b800d\")>,\n",
       " <selenium.webdriver.remote.webelement.WebElement (session=\"7be2060f9d2087a62c76266c3cc12545\", element=\"eca4b23e-5df1-4aa9-a788-639c81d38f39\")>,\n",
       " <selenium.webdriver.remote.webelement.WebElement (session=\"7be2060f9d2087a62c76266c3cc12545\", element=\"da8cb936-4011-460d-8921-805a53a92cac\")>,\n",
       " <selenium.webdriver.remote.webelement.WebElement (session=\"7be2060f9d2087a62c76266c3cc12545\", element=\"05326dc9-3187-48fc-b010-49e8c777f8c0\")>,\n",
       " <selenium.webdriver.remote.webelement.WebElement (session=\"7be2060f9d2087a62c76266c3cc12545\", element=\"55f3680c-0bca-4faa-8b78-50f34fcb491f\")>,\n",
       " <selenium.webdriver.remote.webelement.WebElement (session=\"7be2060f9d2087a62c76266c3cc12545\", element=\"a16a663a-1730-479b-9f6a-4f5f2120273b\")>,\n",
       " <selenium.webdriver.remote.webelement.WebElement (session=\"7be2060f9d2087a62c76266c3cc12545\", element=\"972416a8-65d2-4665-a9ea-de637982faa9\")>,\n",
       " <selenium.webdriver.remote.webelement.WebElement (session=\"7be2060f9d2087a62c76266c3cc12545\", element=\"6bb6f162-ce5b-4a84-9ce0-f8e80310c586\")>,\n",
       " <selenium.webdriver.remote.webelement.WebElement (session=\"7be2060f9d2087a62c76266c3cc12545\", element=\"761f81b6-078f-4673-8662-0510dc8f5dc2\")>,\n",
       " <selenium.webdriver.remote.webelement.WebElement (session=\"7be2060f9d2087a62c76266c3cc12545\", element=\"47c1facc-6110-4c7b-a067-3ad983b570ad\")>,\n",
       " <selenium.webdriver.remote.webelement.WebElement (session=\"7be2060f9d2087a62c76266c3cc12545\", element=\"59150562-4baa-47b0-8689-b5ef48709ba5\")>,\n",
       " <selenium.webdriver.remote.webelement.WebElement (session=\"7be2060f9d2087a62c76266c3cc12545\", element=\"212a39c6-7802-469d-bf9f-a5ad19a7cc57\")>,\n",
       " <selenium.webdriver.remote.webelement.WebElement (session=\"7be2060f9d2087a62c76266c3cc12545\", element=\"a24bdfc4-2e00-4d5e-92fd-9a12b154d172\")>,\n",
       " <selenium.webdriver.remote.webelement.WebElement (session=\"7be2060f9d2087a62c76266c3cc12545\", element=\"fe391e6e-3035-49c4-9d74-b68b5283ca9e\")>,\n",
       " <selenium.webdriver.remote.webelement.WebElement (session=\"7be2060f9d2087a62c76266c3cc12545\", element=\"2988794b-dbe3-4762-9177-4ed3aec16596\")>,\n",
       " <selenium.webdriver.remote.webelement.WebElement (session=\"7be2060f9d2087a62c76266c3cc12545\", element=\"bcf5c31e-ad0b-4a1e-ac91-3870f7bfd3f5\")>,\n",
       " <selenium.webdriver.remote.webelement.WebElement (session=\"7be2060f9d2087a62c76266c3cc12545\", element=\"095aea83-8480-4067-95bb-7346b6e91c1e\")>,\n",
       " <selenium.webdriver.remote.webelement.WebElement (session=\"7be2060f9d2087a62c76266c3cc12545\", element=\"19411b2b-7b19-4779-9025-ca389b4412af\")>,\n",
       " <selenium.webdriver.remote.webelement.WebElement (session=\"7be2060f9d2087a62c76266c3cc12545\", element=\"7d3055c6-5e74-40e9-88da-20aba250affd\")>,\n",
       " <selenium.webdriver.remote.webelement.WebElement (session=\"7be2060f9d2087a62c76266c3cc12545\", element=\"058d1418-6a7e-4a4d-8367-412d5fdcaf50\")>]"
      ]
     },
     "execution_count": 128,
     "metadata": {},
     "output_type": "execute_result"
    }
   ],
   "source": [
    "#location\n",
    "location=driver.find_elements_by_xpath('//li[@class=\"fleft grey-text br2 placeHolderLi location\"]')\n",
    "location"
   ]
  },
  {
   "cell_type": "code",
   "execution_count": 129,
   "id": "95ab53ca",
   "metadata": {},
   "outputs": [
    {
     "data": {
      "text/plain": [
       "['Bangalore/Bengaluru',\n",
       " 'Kochi/Cochin, Kolkata, Pune, Gurgaon/Gurugram, Chennai, Coimbatore, Bangalore/Bengaluru, Mumbai (All Areas), Hyderabad',\n",
       " 'Bangalore/Bengaluru',\n",
       " 'Bangalore/Bengaluru\\n(WFH during Covid)',\n",
       " 'Bangalore/Bengaluru',\n",
       " 'Bangalore/Bengaluru',\n",
       " 'Bangalore/Bengaluru',\n",
       " 'Bangalore/Bengaluru',\n",
       " 'Bangalore/Bengaluru, Pune\\n(WFH during Covid)',\n",
       " 'Hyderabad/Secunderabad, Bangalore/Bengaluru']"
      ]
     },
     "execution_count": 129,
     "metadata": {},
     "output_type": "execute_result"
    }
   ],
   "source": [
    "locations=[]\n",
    "\n",
    "for i in location:\n",
    "    locations.append(i.text)\n",
    "    \n",
    "locatin=locations[0:10]\n",
    "\n",
    "locatin"
   ]
  },
  {
   "cell_type": "code",
   "execution_count": 130,
   "id": "9627b4b6",
   "metadata": {},
   "outputs": [
    {
     "data": {
      "text/plain": [
       "[<selenium.webdriver.remote.webelement.WebElement (session=\"7be2060f9d2087a62c76266c3cc12545\", element=\"63d29ed8-90f6-4003-8073-6f2c51fe9ba0\")>,\n",
       " <selenium.webdriver.remote.webelement.WebElement (session=\"7be2060f9d2087a62c76266c3cc12545\", element=\"ace37b21-5382-454a-808e-ad4ea9be1b73\")>,\n",
       " <selenium.webdriver.remote.webelement.WebElement (session=\"7be2060f9d2087a62c76266c3cc12545\", element=\"ef551ae8-0b5f-4032-8b3a-b4f308105b9e\")>,\n",
       " <selenium.webdriver.remote.webelement.WebElement (session=\"7be2060f9d2087a62c76266c3cc12545\", element=\"1114f57d-74a9-4be7-8b14-ed0b681d5846\")>,\n",
       " <selenium.webdriver.remote.webelement.WebElement (session=\"7be2060f9d2087a62c76266c3cc12545\", element=\"b85f50a0-6efb-480c-8fa0-cbcd3e70c3bf\")>,\n",
       " <selenium.webdriver.remote.webelement.WebElement (session=\"7be2060f9d2087a62c76266c3cc12545\", element=\"c154ef15-3f70-4844-9c49-87620a34584b\")>,\n",
       " <selenium.webdriver.remote.webelement.WebElement (session=\"7be2060f9d2087a62c76266c3cc12545\", element=\"aa81528e-d69f-41e7-beeb-1b795bc2e896\")>,\n",
       " <selenium.webdriver.remote.webelement.WebElement (session=\"7be2060f9d2087a62c76266c3cc12545\", element=\"fd27c74c-5b83-4a4c-8127-fe81572f6c45\")>,\n",
       " <selenium.webdriver.remote.webelement.WebElement (session=\"7be2060f9d2087a62c76266c3cc12545\", element=\"b5296fa0-3522-454f-8bb1-fee0efb2a207\")>,\n",
       " <selenium.webdriver.remote.webelement.WebElement (session=\"7be2060f9d2087a62c76266c3cc12545\", element=\"d016db0f-6c8e-455f-abec-797f8aa016fc\")>,\n",
       " <selenium.webdriver.remote.webelement.WebElement (session=\"7be2060f9d2087a62c76266c3cc12545\", element=\"f9095258-c7a7-4378-aeb7-905ad0b17054\")>,\n",
       " <selenium.webdriver.remote.webelement.WebElement (session=\"7be2060f9d2087a62c76266c3cc12545\", element=\"e35e20ff-497d-4665-97f6-cff8e0d1a7a0\")>,\n",
       " <selenium.webdriver.remote.webelement.WebElement (session=\"7be2060f9d2087a62c76266c3cc12545\", element=\"6b45acc0-dd25-4b75-8951-c6c0b482f891\")>,\n",
       " <selenium.webdriver.remote.webelement.WebElement (session=\"7be2060f9d2087a62c76266c3cc12545\", element=\"777f2f92-d3cf-456a-9744-a9b384aa3e57\")>,\n",
       " <selenium.webdriver.remote.webelement.WebElement (session=\"7be2060f9d2087a62c76266c3cc12545\", element=\"578eac22-a830-4818-b565-aa086f164951\")>,\n",
       " <selenium.webdriver.remote.webelement.WebElement (session=\"7be2060f9d2087a62c76266c3cc12545\", element=\"dae5dbc3-2112-4d52-80c3-96fb4042c058\")>,\n",
       " <selenium.webdriver.remote.webelement.WebElement (session=\"7be2060f9d2087a62c76266c3cc12545\", element=\"f280d67b-7482-43f4-ba52-19c2cad82fb4\")>,\n",
       " <selenium.webdriver.remote.webelement.WebElement (session=\"7be2060f9d2087a62c76266c3cc12545\", element=\"a46a578f-79d7-45f7-9a22-91933a50bd4d\")>,\n",
       " <selenium.webdriver.remote.webelement.WebElement (session=\"7be2060f9d2087a62c76266c3cc12545\", element=\"ef3f7859-d027-4259-9342-16a5c2acb3ff\")>,\n",
       " <selenium.webdriver.remote.webelement.WebElement (session=\"7be2060f9d2087a62c76266c3cc12545\", element=\"5d6311cc-e549-491d-9a13-2c5c6ddf3009\")>]"
      ]
     },
     "execution_count": 130,
     "metadata": {},
     "output_type": "execute_result"
    }
   ],
   "source": [
    "#company name\n",
    "company=driver.find_elements_by_xpath('//a[@class=\"subTitle ellipsis fleft\"]')\n",
    "company"
   ]
  },
  {
   "cell_type": "code",
   "execution_count": 132,
   "id": "83fe1daf",
   "metadata": {},
   "outputs": [
    {
     "data": {
      "text/plain": [
       "['Microsoft',\n",
       " 'Wipro',\n",
       " 'Societe Generale',\n",
       " 'Synechron',\n",
       " 'Valuable Consulting',\n",
       " 'Search Advisers Services ( GUJ ) Pvt. Ltd.',\n",
       " 'Search Advisers Services ( GUJ ) Pvt. Ltd.',\n",
       " 'IBM',\n",
       " 'Wipro',\n",
       " 'CliqHR Recruitment Services']"
      ]
     },
     "execution_count": 132,
     "metadata": {},
     "output_type": "execute_result"
    }
   ],
   "source": [
    "company_name=[]\n",
    "\n",
    "for i in company:\n",
    "    company_name.append(i.text)\n",
    "    \n",
    "cmpny_name=company_name[0:10]\n",
    "cmpny_name"
   ]
  },
  {
   "cell_type": "code",
   "execution_count": 133,
   "id": "d098c709",
   "metadata": {},
   "outputs": [
    {
     "data": {
      "text/html": [
       "<div>\n",
       "<style scoped>\n",
       "    .dataframe tbody tr th:only-of-type {\n",
       "        vertical-align: middle;\n",
       "    }\n",
       "\n",
       "    .dataframe tbody tr th {\n",
       "        vertical-align: top;\n",
       "    }\n",
       "\n",
       "    .dataframe thead th {\n",
       "        text-align: right;\n",
       "    }\n",
       "</style>\n",
       "<table border=\"1\" class=\"dataframe\">\n",
       "  <thead>\n",
       "    <tr style=\"text-align: right;\">\n",
       "      <th></th>\n",
       "      <th>job title</th>\n",
       "      <th>location</th>\n",
       "      <th>company_name</th>\n",
       "    </tr>\n",
       "  </thead>\n",
       "  <tbody>\n",
       "    <tr>\n",
       "      <th>0</th>\n",
       "      <td>Senior Data Scientist</td>\n",
       "      <td>Bangalore/Bengaluru</td>\n",
       "      <td>Microsoft</td>\n",
       "    </tr>\n",
       "    <tr>\n",
       "      <th>1</th>\n",
       "      <td>Data Scientist - Lead / Architect - Looking Fo...</td>\n",
       "      <td>Kochi/Cochin, Kolkata, Pune, Gurgaon/Gurugram,...</td>\n",
       "      <td>Wipro</td>\n",
       "    </tr>\n",
       "    <tr>\n",
       "      <th>2</th>\n",
       "      <td>Lead Data Scientist</td>\n",
       "      <td>Bangalore/Bengaluru</td>\n",
       "      <td>Societe Generale</td>\n",
       "    </tr>\n",
       "    <tr>\n",
       "      <th>3</th>\n",
       "      <td>Associate Data Scientist</td>\n",
       "      <td>Bangalore/Bengaluru\\n(WFH during Covid)</td>\n",
       "      <td>Synechron</td>\n",
       "    </tr>\n",
       "    <tr>\n",
       "      <th>4</th>\n",
       "      <td>Senior Data Scientist with Pyspark and Databri...</td>\n",
       "      <td>Bangalore/Bengaluru</td>\n",
       "      <td>Valuable Consulting</td>\n",
       "    </tr>\n",
       "    <tr>\n",
       "      <th>5</th>\n",
       "      <td>Senior Data Scientist</td>\n",
       "      <td>Bangalore/Bengaluru</td>\n",
       "      <td>Search Advisers Services ( GUJ ) Pvt. Ltd.</td>\n",
       "    </tr>\n",
       "    <tr>\n",
       "      <th>6</th>\n",
       "      <td>Senior Data Scientist</td>\n",
       "      <td>Bangalore/Bengaluru</td>\n",
       "      <td>Search Advisers Services ( GUJ ) Pvt. Ltd.</td>\n",
       "    </tr>\n",
       "    <tr>\n",
       "      <th>7</th>\n",
       "      <td>Data Scientist: Advanced Analytics</td>\n",
       "      <td>Bangalore/Bengaluru</td>\n",
       "      <td>IBM</td>\n",
       "    </tr>\n",
       "    <tr>\n",
       "      <th>8</th>\n",
       "      <td>Spark ML Data Scientist</td>\n",
       "      <td>Bangalore/Bengaluru, Pune\\n(WFH during Covid)</td>\n",
       "      <td>Wipro</td>\n",
       "    </tr>\n",
       "    <tr>\n",
       "      <th>9</th>\n",
       "      <td>Data Scientist - Tableau / Python / Hadoop</td>\n",
       "      <td>Hyderabad/Secunderabad, Bangalore/Bengaluru</td>\n",
       "      <td>CliqHR Recruitment Services</td>\n",
       "    </tr>\n",
       "  </tbody>\n",
       "</table>\n",
       "</div>"
      ],
      "text/plain": [
       "                                           job title  \\\n",
       "0                              Senior Data Scientist   \n",
       "1  Data Scientist - Lead / Architect - Looking Fo...   \n",
       "2                                Lead Data Scientist   \n",
       "3                           Associate Data Scientist   \n",
       "4  Senior Data Scientist with Pyspark and Databri...   \n",
       "5                              Senior Data Scientist   \n",
       "6                              Senior Data Scientist   \n",
       "7                 Data Scientist: Advanced Analytics   \n",
       "8                            Spark ML Data Scientist   \n",
       "9         Data Scientist - Tableau / Python / Hadoop   \n",
       "\n",
       "                                            location  \\\n",
       "0                                Bangalore/Bengaluru   \n",
       "1  Kochi/Cochin, Kolkata, Pune, Gurgaon/Gurugram,...   \n",
       "2                                Bangalore/Bengaluru   \n",
       "3            Bangalore/Bengaluru\\n(WFH during Covid)   \n",
       "4                                Bangalore/Bengaluru   \n",
       "5                                Bangalore/Bengaluru   \n",
       "6                                Bangalore/Bengaluru   \n",
       "7                                Bangalore/Bengaluru   \n",
       "8      Bangalore/Bengaluru, Pune\\n(WFH during Covid)   \n",
       "9        Hyderabad/Secunderabad, Bangalore/Bengaluru   \n",
       "\n",
       "                                 company_name  \n",
       "0                                   Microsoft  \n",
       "1                                       Wipro  \n",
       "2                            Societe Generale  \n",
       "3                                   Synechron  \n",
       "4                         Valuable Consulting  \n",
       "5  Search Advisers Services ( GUJ ) Pvt. Ltd.  \n",
       "6  Search Advisers Services ( GUJ ) Pvt. Ltd.  \n",
       "7                                         IBM  \n",
       "8                                       Wipro  \n",
       "9                 CliqHR Recruitment Services  "
      ]
     },
     "execution_count": 133,
     "metadata": {},
     "output_type": "execute_result"
    }
   ],
   "source": [
    "df=pd.DataFrame({'job title':jb_titles,'location':locatin,'company_name':cmpny_name})\n",
    "df"
   ]
  },
  {
   "cell_type": "markdown",
   "id": "33eedad0",
   "metadata": {},
   "source": [
    "# 3) python programe to scrap first 10 elements (job-title=data scientist,location=delhi/ncr,salary=3-6 lakhs)"
   ]
  },
  {
   "cell_type": "code",
   "execution_count": 5,
   "id": "76a7005d",
   "metadata": {},
   "outputs": [],
   "source": [
    "search_job.send_keys('Data scientist')"
   ]
  },
  {
   "cell_type": "code",
   "execution_count": 10,
   "id": "ef0eeded",
   "metadata": {},
   "outputs": [
    {
     "data": {
      "text/plain": [
       "<selenium.webdriver.remote.webelement.WebElement (session=\"663c43330e604c4f051453464bf3cc60\", element=\"f12253dd-295a-437d-8bc8-8149225cd6e6\")>"
      ]
     },
     "execution_count": 10,
     "metadata": {},
     "output_type": "execute_result"
    }
   ],
   "source": [
    "#location using filters\n",
    "location=driver.find_element_by_xpath('/html/body/div[1]/div[3]/div[2]/section[1]/div[2]/div[3]/div[2]/div[2]/label/i')\n",
    "location"
   ]
  },
  {
   "cell_type": "code",
   "execution_count": 11,
   "id": "5048dd2d",
   "metadata": {},
   "outputs": [],
   "source": [
    "location.click()"
   ]
  },
  {
   "cell_type": "code",
   "execution_count": 12,
   "id": "69577756",
   "metadata": {},
   "outputs": [
    {
     "data": {
      "text/plain": [
       "<selenium.webdriver.remote.webelement.WebElement (session=\"663c43330e604c4f051453464bf3cc60\", element=\"d643f934-ce5b-4448-babe-7178bfdea52c\")>"
      ]
     },
     "execution_count": 12,
     "metadata": {},
     "output_type": "execute_result"
    }
   ],
   "source": [
    "#using filters for salary using absolute xpath\n",
    "salary=driver.find_element_by_xpath('/html/body/div[1]/div[3]/div[2]/section[1]/div[2]/div[4]/div[2]/div[2]/label/i')\n",
    "salary"
   ]
  },
  {
   "cell_type": "code",
   "execution_count": 13,
   "id": "7758c00e",
   "metadata": {},
   "outputs": [],
   "source": [
    "salary.click()"
   ]
  },
  {
   "cell_type": "code",
   "execution_count": 14,
   "id": "09b98c93",
   "metadata": {},
   "outputs": [
    {
     "data": {
      "text/plain": [
       "20"
      ]
     },
     "execution_count": 14,
     "metadata": {},
     "output_type": "execute_result"
    }
   ],
   "source": [
    "#job titles \n",
    "job_titls=driver.find_elements_by_xpath('//a[@class=\"title fw500 ellipsis\"]')\n",
    "len(job_titls)"
   ]
  },
  {
   "cell_type": "code",
   "execution_count": 15,
   "id": "77b3599c",
   "metadata": {},
   "outputs": [
    {
     "data": {
      "text/plain": [
       "['Data Scientist II',\n",
       " 'Opening For Data Scientist',\n",
       " 'Data Scientist',\n",
       " 'Lead Data Scientist - KYC/Fraud/Marketing',\n",
       " 'Junior Data Scientist - Goods & Service Tax Network, Delhi',\n",
       " 'Data Analyst / Data Scientist / Business Analytics / Fresher - MNC',\n",
       " 'Associate Data Scientist - Java/ Scala/ Apache Server',\n",
       " 'Data Scientist',\n",
       " 'Data Scientist (ML AI Engineer) / InfoObjects Inc.',\n",
       " 'Data Scientist']"
      ]
     },
     "execution_count": 15,
     "metadata": {},
     "output_type": "execute_result"
    }
   ],
   "source": [
    "job_titles=[]\n",
    "\n",
    "for i in job_titls:\n",
    "    job_titles.append(i.text)\n",
    "    \n",
    "titles=job_titles[0:10]\n",
    "\n",
    "titles\n",
    "    "
   ]
  },
  {
   "cell_type": "code",
   "execution_count": 19,
   "id": "c266749f",
   "metadata": {},
   "outputs": [
    {
     "data": {
      "text/plain": [
       "20"
      ]
     },
     "execution_count": 19,
     "metadata": {},
     "output_type": "execute_result"
    }
   ],
   "source": [
    "#location\n",
    "location=driver.find_elements_by_xpath('//li[@class=\"fleft grey-text br2 placeHolderLi location\"]')\n",
    "len(location)"
   ]
  },
  {
   "cell_type": "code",
   "execution_count": 20,
   "id": "57074d23",
   "metadata": {},
   "outputs": [
    {
     "data": {
      "text/plain": [
       "['Delhi / NCR',\n",
       " 'Gurgaon/Gurugram',\n",
       " 'Noida',\n",
       " 'New Delhi',\n",
       " 'Delhi / NCR',\n",
       " 'Noida, New Delhi, Delhi / NCR',\n",
       " 'Noida',\n",
       " 'Gurgaon/Gurugram\\n(WFH during Covid)',\n",
       " 'Indore, Jaipur, Delhi / NCR\\n(WFH during Covid)',\n",
       " 'New Delhi']"
      ]
     },
     "execution_count": 20,
     "metadata": {},
     "output_type": "execute_result"
    }
   ],
   "source": [
    "locations=[]\n",
    "\n",
    "for i in location:\n",
    "    locations.append(i.text)\n",
    "    \n",
    "loctins=locations[0:10]\n",
    "\n",
    "loctins"
   ]
  },
  {
   "cell_type": "code",
   "execution_count": 21,
   "id": "d5465982",
   "metadata": {},
   "outputs": [
    {
     "data": {
      "text/plain": [
       "20"
      ]
     },
     "execution_count": 21,
     "metadata": {},
     "output_type": "execute_result"
    }
   ],
   "source": [
    "#company name\n",
    "company=driver.find_elements_by_xpath('//a[@class=\"subTitle ellipsis fleft\"]')\n",
    "len(company)"
   ]
  },
  {
   "cell_type": "code",
   "execution_count": 24,
   "id": "45b88e17",
   "metadata": {},
   "outputs": [],
   "source": [
    "company_name=[]\n",
    "\n",
    "for i in company:\n",
    "    company_name.append(i.text)"
   ]
  },
  {
   "cell_type": "code",
   "execution_count": 26,
   "id": "1da77d07",
   "metadata": {},
   "outputs": [
    {
     "data": {
      "text/plain": [
       "['Chegg',\n",
       " 'Care Health Insurance',\n",
       " 'Stefanini',\n",
       " 'Tide Software',\n",
       " 'NISG (National Institute for Smart Government)',\n",
       " 'GABA Consultancy services',\n",
       " 'Smart work Consultants',\n",
       " 'Zekardo Automotive Solutions',\n",
       " 'INFOOBJECTS SOFTWARE ( INDIA) PRIVATE LIMITED',\n",
       " 'Team Computers Pvt Ltd']"
      ]
     },
     "execution_count": 26,
     "metadata": {},
     "output_type": "execute_result"
    }
   ],
   "source": [
    "cmpny_name=company_name[0:10]\n",
    "cmpny_name"
   ]
  },
  {
   "cell_type": "code",
   "execution_count": 30,
   "id": "c1a45486",
   "metadata": {},
   "outputs": [
    {
     "data": {
      "text/plain": [
       "20"
      ]
     },
     "execution_count": 30,
     "metadata": {},
     "output_type": "execute_result"
    }
   ],
   "source": [
    "#scrap experience using contains method \n",
    "exprn=driver.find_elements_by_xpath('//*[contains(@title,\"Yrs\")]')\n",
    "len(exprn)"
   ]
  },
  {
   "cell_type": "code",
   "execution_count": 33,
   "id": "10823b16",
   "metadata": {},
   "outputs": [
    {
     "data": {
      "text/plain": [
       "['2-6 Yrs',\n",
       " '1-5 Yrs',\n",
       " '3-8 Yrs',\n",
       " '1-6 Yrs',\n",
       " '3-8 Yrs',\n",
       " '0-0 Yrs',\n",
       " '1-4 Yrs',\n",
       " '5-8 Yrs',\n",
       " '3-7 Yrs',\n",
       " '2-6 Yrs']"
      ]
     },
     "execution_count": 33,
     "metadata": {},
     "output_type": "execute_result"
    }
   ],
   "source": [
    "experience=[]\n",
    "\n",
    "for i in exprn:\n",
    "    experience.append(i.text)\n",
    "    \n",
    "expnc=experience[0:10]\n",
    "\n",
    "expnc"
   ]
  },
  {
   "cell_type": "code",
   "execution_count": 34,
   "id": "0e44d729",
   "metadata": {},
   "outputs": [
    {
     "data": {
      "text/html": [
       "<div>\n",
       "<style scoped>\n",
       "    .dataframe tbody tr th:only-of-type {\n",
       "        vertical-align: middle;\n",
       "    }\n",
       "\n",
       "    .dataframe tbody tr th {\n",
       "        vertical-align: top;\n",
       "    }\n",
       "\n",
       "    .dataframe thead th {\n",
       "        text-align: right;\n",
       "    }\n",
       "</style>\n",
       "<table border=\"1\" class=\"dataframe\">\n",
       "  <thead>\n",
       "    <tr style=\"text-align: right;\">\n",
       "      <th></th>\n",
       "      <th>job title</th>\n",
       "      <th>job location</th>\n",
       "      <th>experience</th>\n",
       "      <th>company_name</th>\n",
       "    </tr>\n",
       "  </thead>\n",
       "  <tbody>\n",
       "    <tr>\n",
       "      <th>0</th>\n",
       "      <td>Data Scientist II</td>\n",
       "      <td>Delhi / NCR</td>\n",
       "      <td>2-6 Yrs</td>\n",
       "      <td>Chegg</td>\n",
       "    </tr>\n",
       "    <tr>\n",
       "      <th>1</th>\n",
       "      <td>Opening For Data Scientist</td>\n",
       "      <td>Gurgaon/Gurugram</td>\n",
       "      <td>1-5 Yrs</td>\n",
       "      <td>Care Health Insurance</td>\n",
       "    </tr>\n",
       "    <tr>\n",
       "      <th>2</th>\n",
       "      <td>Data Scientist</td>\n",
       "      <td>Noida</td>\n",
       "      <td>3-8 Yrs</td>\n",
       "      <td>Stefanini</td>\n",
       "    </tr>\n",
       "    <tr>\n",
       "      <th>3</th>\n",
       "      <td>Lead Data Scientist - KYC/Fraud/Marketing</td>\n",
       "      <td>New Delhi</td>\n",
       "      <td>1-6 Yrs</td>\n",
       "      <td>Tide Software</td>\n",
       "    </tr>\n",
       "    <tr>\n",
       "      <th>4</th>\n",
       "      <td>Junior Data Scientist - Goods &amp; Service Tax Ne...</td>\n",
       "      <td>Delhi / NCR</td>\n",
       "      <td>3-8 Yrs</td>\n",
       "      <td>NISG (National Institute for Smart Government)</td>\n",
       "    </tr>\n",
       "    <tr>\n",
       "      <th>5</th>\n",
       "      <td>Data Analyst / Data Scientist / Business Analy...</td>\n",
       "      <td>Noida, New Delhi, Delhi / NCR</td>\n",
       "      <td>0-0 Yrs</td>\n",
       "      <td>GABA Consultancy services</td>\n",
       "    </tr>\n",
       "    <tr>\n",
       "      <th>6</th>\n",
       "      <td>Associate Data Scientist - Java/ Scala/ Apache...</td>\n",
       "      <td>Noida</td>\n",
       "      <td>1-4 Yrs</td>\n",
       "      <td>Smart work Consultants</td>\n",
       "    </tr>\n",
       "    <tr>\n",
       "      <th>7</th>\n",
       "      <td>Data Scientist</td>\n",
       "      <td>Gurgaon/Gurugram\\n(WFH during Covid)</td>\n",
       "      <td>5-8 Yrs</td>\n",
       "      <td>Zekardo Automotive Solutions</td>\n",
       "    </tr>\n",
       "    <tr>\n",
       "      <th>8</th>\n",
       "      <td>Data Scientist (ML AI Engineer) / InfoObjects ...</td>\n",
       "      <td>Indore, Jaipur, Delhi / NCR\\n(WFH during Covid)</td>\n",
       "      <td>3-7 Yrs</td>\n",
       "      <td>INFOOBJECTS SOFTWARE ( INDIA) PRIVATE LIMITED</td>\n",
       "    </tr>\n",
       "    <tr>\n",
       "      <th>9</th>\n",
       "      <td>Data Scientist</td>\n",
       "      <td>New Delhi</td>\n",
       "      <td>2-6 Yrs</td>\n",
       "      <td>Team Computers Pvt Ltd</td>\n",
       "    </tr>\n",
       "  </tbody>\n",
       "</table>\n",
       "</div>"
      ],
      "text/plain": [
       "                                           job title  \\\n",
       "0                                  Data Scientist II   \n",
       "1                         Opening For Data Scientist   \n",
       "2                                     Data Scientist   \n",
       "3          Lead Data Scientist - KYC/Fraud/Marketing   \n",
       "4  Junior Data Scientist - Goods & Service Tax Ne...   \n",
       "5  Data Analyst / Data Scientist / Business Analy...   \n",
       "6  Associate Data Scientist - Java/ Scala/ Apache...   \n",
       "7                                     Data Scientist   \n",
       "8  Data Scientist (ML AI Engineer) / InfoObjects ...   \n",
       "9                                     Data Scientist   \n",
       "\n",
       "                                      job location experience  \\\n",
       "0                                      Delhi / NCR    2-6 Yrs   \n",
       "1                                 Gurgaon/Gurugram    1-5 Yrs   \n",
       "2                                            Noida    3-8 Yrs   \n",
       "3                                        New Delhi    1-6 Yrs   \n",
       "4                                      Delhi / NCR    3-8 Yrs   \n",
       "5                    Noida, New Delhi, Delhi / NCR    0-0 Yrs   \n",
       "6                                            Noida    1-4 Yrs   \n",
       "7             Gurgaon/Gurugram\\n(WFH during Covid)    5-8 Yrs   \n",
       "8  Indore, Jaipur, Delhi / NCR\\n(WFH during Covid)    3-7 Yrs   \n",
       "9                                        New Delhi    2-6 Yrs   \n",
       "\n",
       "                                     company_name  \n",
       "0                                           Chegg  \n",
       "1                           Care Health Insurance  \n",
       "2                                       Stefanini  \n",
       "3                                   Tide Software  \n",
       "4  NISG (National Institute for Smart Government)  \n",
       "5                       GABA Consultancy services  \n",
       "6                          Smart work Consultants  \n",
       "7                    Zekardo Automotive Solutions  \n",
       "8   INFOOBJECTS SOFTWARE ( INDIA) PRIVATE LIMITED  \n",
       "9                          Team Computers Pvt Ltd  "
      ]
     },
     "execution_count": 34,
     "metadata": {},
     "output_type": "execute_result"
    }
   ],
   "source": [
    "import pandas as pd\n",
    "df=pd.DataFrame({'job title':titles,'job location':loctins,'experience':expnc,'company_name':cmpny_name})\n",
    "df"
   ]
  },
  {
   "cell_type": "markdown",
   "id": "fb29f9f4",
   "metadata": {},
   "source": [
    "# 4)scrap data from flipkart for sunglasses data of 100 products (product,description of product and price)"
   ]
  },
  {
   "cell_type": "code",
   "execution_count": 2,
   "id": "c44ffa97",
   "metadata": {},
   "outputs": [],
   "source": [
    "#connect to web driver\n",
    "driver=webdriver.Chrome(r'C:\\Users\\Aditya\\OneDrive\\Desktop\\chromedriver.exe')"
   ]
  },
  {
   "cell_type": "code",
   "execution_count": 3,
   "id": "d35b9219",
   "metadata": {},
   "outputs": [],
   "source": [
    "url='https://www.flipkart.com/'\n",
    "driver.get(url)"
   ]
  },
  {
   "cell_type": "code",
   "execution_count": 4,
   "id": "fc801ead",
   "metadata": {},
   "outputs": [
    {
     "data": {
      "text/plain": [
       "<selenium.webdriver.remote.webelement.WebElement (session=\"a6147a1b676a493a652e3ee580472844\", element=\"d73bf026-35ee-4898-8960-d7e3d116f78f\")>"
      ]
     },
     "execution_count": 4,
     "metadata": {},
     "output_type": "execute_result"
    }
   ],
   "source": [
    "#find element for search bar for product name by xpath\n",
    "search_prdct=driver.find_element_by_xpath('/html/body/div[1]/div/div[1]/div[1]/div[2]/div[2]/form/div/div/input')\n",
    "search_prdct"
   ]
  },
  {
   "cell_type": "code",
   "execution_count": 5,
   "id": "9df70660",
   "metadata": {},
   "outputs": [],
   "source": [
    "search_prdct.send_keys('sunglasses')"
   ]
  },
  {
   "cell_type": "code",
   "execution_count": 6,
   "id": "0f2d2df3",
   "metadata": {},
   "outputs": [
    {
     "data": {
      "text/plain": [
       "<selenium.webdriver.remote.webelement.WebElement (session=\"a6147a1b676a493a652e3ee580472844\", element=\"c0fbd1c3-a796-4b40-8fe8-7a805398a128\")>"
      ]
     },
     "execution_count": 6,
     "metadata": {},
     "output_type": "execute_result"
    }
   ],
   "source": [
    "#find element for clicking on search button \n",
    "search_btn=driver.find_element_by_xpath('/html/body/div[1]/div/div[1]/div[1]/div[2]/div[2]/form/div/button')\n",
    "search_btn"
   ]
  },
  {
   "cell_type": "code",
   "execution_count": 8,
   "id": "0d9b4a2e",
   "metadata": {},
   "outputs": [],
   "source": [
    "search_btn.click()"
   ]
  },
  {
   "cell_type": "code",
   "execution_count": 58,
   "id": "bd5a4fce",
   "metadata": {},
   "outputs": [
    {
     "data": {
      "text/plain": [
       "40"
      ]
     },
     "execution_count": 58,
     "metadata": {},
     "output_type": "execute_result"
    }
   ],
   "source": [
    "#product name in first page\n",
    "product_name1=driver.find_elements_by_xpath('//div[@class=\"_2WkVRV\"]')\n",
    "len(product_name1)"
   ]
  },
  {
   "cell_type": "code",
   "execution_count": 59,
   "id": "a4ccd136",
   "metadata": {},
   "outputs": [
    {
     "data": {
      "text/plain": [
       "['VINCENT CHASE',\n",
       " 'VILLAIN',\n",
       " 'Elligator',\n",
       " 'SUNBEE',\n",
       " 'SHAAH COLLECTIONS',\n",
       " 'SRPM',\n",
       " 'New Specs',\n",
       " 'VINCENT CHASE',\n",
       " 'Fastrack',\n",
       " 'Johaena',\n",
       " 'SHAAH COLLECTIONS',\n",
       " 'VINCENT CHASE',\n",
       " 'SUNBEE',\n",
       " 'kingsunglasses',\n",
       " 'Elligator',\n",
       " 'ROZZETTA CRAFT',\n",
       " 'PIRASO',\n",
       " 'PIRASO',\n",
       " 'ROZZETTA CRAFT',\n",
       " 'VINCENT CHASE',\n",
       " 'PHENOMENAL',\n",
       " 'Johaena',\n",
       " 'Fastrack',\n",
       " 'VINCENT CHASE',\n",
       " 'PIRASO',\n",
       " 'Fastrack',\n",
       " 'PHENOMENAL',\n",
       " 'VINCENT CHASE',\n",
       " 'PHENOMENAL',\n",
       " 'GANSTA',\n",
       " 'Rich Club',\n",
       " 'VILLAIN',\n",
       " 'Rich Club',\n",
       " 'Singco India',\n",
       " 'kingsunglasses',\n",
       " 'VINCENT CHASE',\n",
       " 'Elligator',\n",
       " 'Elligator',\n",
       " 'SUNBEE',\n",
       " 'ROZZETTA CRAFT']"
      ]
     },
     "execution_count": 59,
     "metadata": {},
     "output_type": "execute_result"
    }
   ],
   "source": [
    "products_name=[]\n",
    "\n",
    "for i in product_name1:\n",
    "    products_name.append(i.text)\n",
    "    \n",
    "products_name"
   ]
  },
  {
   "cell_type": "code",
   "execution_count": 60,
   "id": "b2115c3a",
   "metadata": {},
   "outputs": [
    {
     "data": {
      "text/plain": [
       "40"
      ]
     },
     "execution_count": 60,
     "metadata": {},
     "output_type": "execute_result"
    }
   ],
   "source": [
    "#product name in 2nd page\n",
    "product_name2=driver.find_elements_by_xpath('//div[@class=\"_2WkVRV\"]')\n",
    "len(product_name2)"
   ]
  },
  {
   "cell_type": "code",
   "execution_count": 61,
   "id": "6519fb5b",
   "metadata": {},
   "outputs": [
    {
     "data": {
      "text/plain": [
       "['Elligator',\n",
       " 'SRPM',\n",
       " 'DEIXELS',\n",
       " 'ROZZETTA CRAFT',\n",
       " 'PIRASO',\n",
       " 'maxa',\n",
       " 'PIRASO',\n",
       " 'AISLIN',\n",
       " 'kingsunglasses',\n",
       " 'agera',\n",
       " 'Singco India',\n",
       " 'ROYAL SON',\n",
       " 'ROYAL SON',\n",
       " 'PHENOMENAL',\n",
       " 'New Specs',\n",
       " 'VINCENT CHASE',\n",
       " 'ROZZETTA CRAFT',\n",
       " 'kingsunglasses',\n",
       " 'ROYAL SON',\n",
       " 'VINCENT CHASE',\n",
       " 'Lee Topper',\n",
       " 'Elligator',\n",
       " 'Silver Kartz',\n",
       " 'AISLIN',\n",
       " 'DEIXELS',\n",
       " 'Silver Kartz',\n",
       " 'kingsunglasses',\n",
       " 'AISLIN',\n",
       " 'PIRASO',\n",
       " 'New Specs',\n",
       " 'Lee Topper',\n",
       " 'ROZZETTA CRAFT',\n",
       " 'Lee Topper',\n",
       " 'ROYAL SON',\n",
       " 'Singco India',\n",
       " 'VINCENT CHASE',\n",
       " 'ROZZETTA CRAFT',\n",
       " 'hipe',\n",
       " 'Fastrack',\n",
       " 'Poloport']"
      ]
     },
     "execution_count": 61,
     "metadata": {},
     "output_type": "execute_result"
    }
   ],
   "source": [
    "products_name2=[]\n",
    "\n",
    "for i in product_name2:\n",
    "    products_name2.append(i.text)\n",
    "    \n",
    "products_name2"
   ]
  },
  {
   "cell_type": "code",
   "execution_count": 62,
   "id": "97ad7df7",
   "metadata": {},
   "outputs": [
    {
     "data": {
      "text/plain": [
       "['New Specs',\n",
       " 'hipe',\n",
       " 'Fastrack',\n",
       " 'AISLIN',\n",
       " 'PHENOMENAL',\n",
       " 'New Specs',\n",
       " 'ROYAL SON',\n",
       " 'Sewell',\n",
       " 'kingsunglasses',\n",
       " 'VILLAIN',\n",
       " 'PHENOMENAL',\n",
       " 'VINCENT CHASE',\n",
       " 'Rich Club',\n",
       " 'hipe',\n",
       " 'SRPM',\n",
       " 'VINCENT CHASE',\n",
       " 'ROZZETTA CRAFT',\n",
       " 'Fastrack',\n",
       " 'New Specs',\n",
       " 'ROYAL SON']"
      ]
     },
     "execution_count": 62,
     "metadata": {},
     "output_type": "execute_result"
    }
   ],
   "source": [
    "#3rd page\n",
    "product_name3=driver.find_elements_by_xpath('//div[@class=\"_2WkVRV\"]')\n",
    "\n",
    "\n",
    "products_name3=[]\n",
    "\n",
    "for i in product_name3:\n",
    "    products_name3.append(i.text)\n",
    "    \n",
    "name3=products_name3[0:20]\n",
    "\n",
    "name3"
   ]
  },
  {
   "cell_type": "code",
   "execution_count": 63,
   "id": "356eb4cb",
   "metadata": {},
   "outputs": [
    {
     "data": {
      "text/plain": [
       "100"
      ]
     },
     "execution_count": 63,
     "metadata": {},
     "output_type": "execute_result"
    }
   ],
   "source": [
    "names=products_name+products_name2+name3\n",
    "\n",
    "len(names)"
   ]
  },
  {
   "cell_type": "code",
   "execution_count": 26,
   "id": "0cbbc2b3",
   "metadata": {},
   "outputs": [
    {
     "data": {
      "text/plain": [
       "40"
      ]
     },
     "execution_count": 26,
     "metadata": {},
     "output_type": "execute_result"
    }
   ],
   "source": [
    "#description of the product\n",
    "descrptn=driver.find_elements_by_xpath('//a[@class=\"IRpwTa\"]')\n",
    "len(descrptn)"
   ]
  },
  {
   "cell_type": "code",
   "execution_count": 32,
   "id": "8fa2be28",
   "metadata": {},
   "outputs": [
    {
     "data": {
      "text/plain": [
       "40"
      ]
     },
     "execution_count": 32,
     "metadata": {},
     "output_type": "execute_result"
    }
   ],
   "source": [
    "#description in 2nd page\n",
    "description=driver.find_elements_by_xpath('//a[@class=\"IRpwTa\"]')\n",
    "len(description)"
   ]
  },
  {
   "cell_type": "code",
   "execution_count": 37,
   "id": "f312e2d6",
   "metadata": {},
   "outputs": [
    {
     "data": {
      "text/plain": [
       "20"
      ]
     },
     "execution_count": 37,
     "metadata": {},
     "output_type": "execute_result"
    }
   ],
   "source": [
    "#description in 3rd page\n",
    "descrptn3=driver.find_elements_by_xpath('//a[@class=\"IRpwTa\"]')\n",
    "len(descrptn3)\n",
    "description3=descrptn3[0:20]\n",
    "len(description3)"
   ]
  },
  {
   "cell_type": "code",
   "execution_count": 27,
   "id": "e58a31ff",
   "metadata": {},
   "outputs": [],
   "source": [
    "#100 products description \n",
    "prd_desrptn=[]\n",
    "\n",
    "for i in descrptn:\n",
    "    prd_desrptn.append(i.text)\n",
    "    "
   ]
  },
  {
   "cell_type": "code",
   "execution_count": 28,
   "id": "80bb94b3",
   "metadata": {},
   "outputs": [
    {
     "data": {
      "text/plain": [
       "40"
      ]
     },
     "execution_count": 28,
     "metadata": {},
     "output_type": "execute_result"
    }
   ],
   "source": [
    "len(prd_desrptn)"
   ]
  },
  {
   "cell_type": "code",
   "execution_count": 34,
   "id": "d7a324ba",
   "metadata": {},
   "outputs": [
    {
     "data": {
      "text/plain": [
       "40"
      ]
     },
     "execution_count": 34,
     "metadata": {},
     "output_type": "execute_result"
    }
   ],
   "source": [
    "prd_desrptn2=[]\n",
    "\n",
    "for i in description:\n",
    "    prd_desrptn2.append(i.text)\n",
    "    \n",
    "len(prd_desrptn2)"
   ]
  },
  {
   "cell_type": "code",
   "execution_count": 38,
   "id": "5c1fa9a3",
   "metadata": {},
   "outputs": [
    {
     "data": {
      "text/plain": [
       "20"
      ]
     },
     "execution_count": 38,
     "metadata": {},
     "output_type": "execute_result"
    }
   ],
   "source": [
    "prd_desrptn3=[]\n",
    "\n",
    "for i in description3:\n",
    "    prd_desrptn3.append(i.text)\n",
    "    \n",
    "len(prd_desrptn3)"
   ]
  },
  {
   "cell_type": "code",
   "execution_count": 39,
   "id": "7b280b7d",
   "metadata": {},
   "outputs": [
    {
     "data": {
      "text/plain": [
       "100"
      ]
     },
     "execution_count": 39,
     "metadata": {},
     "output_type": "execute_result"
    }
   ],
   "source": [
    "#product description(adding all the lists)\n",
    "description=prd_desrptn+prd_desrptn2+prd_desrptn3\n",
    "len(description)"
   ]
  },
  {
   "cell_type": "code",
   "execution_count": 42,
   "id": "eae9fd68",
   "metadata": {},
   "outputs": [
    {
     "data": {
      "text/plain": [
       "40"
      ]
     },
     "execution_count": 42,
     "metadata": {},
     "output_type": "execute_result"
    }
   ],
   "source": [
    "#price of the prodct\n",
    "price=driver.find_elements_by_xpath('//div[@class=\"_30jeq3\"]')\n",
    "len(price)"
   ]
  },
  {
   "cell_type": "code",
   "execution_count": 43,
   "id": "c11a6e4c",
   "metadata": {},
   "outputs": [
    {
     "data": {
      "text/plain": [
       "['₹799',\n",
       " '₹1,533',\n",
       " '₹248',\n",
       " '₹243',\n",
       " '₹165',\n",
       " '₹188',\n",
       " '₹599',\n",
       " '₹1,533',\n",
       " '₹239',\n",
       " '₹157',\n",
       " '₹181',\n",
       " '₹1,415',\n",
       " '₹271',\n",
       " '₹186',\n",
       " '₹179',\n",
       " '₹1,533',\n",
       " '₹225',\n",
       " '₹399',\n",
       " '₹200',\n",
       " '₹999',\n",
       " '₹299',\n",
       " '₹225',\n",
       " '₹639',\n",
       " '₹1,415',\n",
       " '₹696',\n",
       " '₹309',\n",
       " '₹299',\n",
       " '₹799',\n",
       " '₹146',\n",
       " '₹203',\n",
       " '₹180',\n",
       " '₹549',\n",
       " '₹165',\n",
       " '₹230',\n",
       " '₹238',\n",
       " '₹999',\n",
       " '₹245',\n",
       " '₹190',\n",
       " '₹202',\n",
       " '₹999']"
      ]
     },
     "execution_count": 43,
     "metadata": {},
     "output_type": "execute_result"
    }
   ],
   "source": [
    "price1=[]\n",
    "\n",
    "for i in price:\n",
    "    price1.append(i.text)\n",
    "price1"
   ]
  },
  {
   "cell_type": "code",
   "execution_count": 44,
   "id": "3c28bc85",
   "metadata": {},
   "outputs": [
    {
     "data": {
      "text/plain": [
       "['₹202',\n",
       " '₹259',\n",
       " '₹349',\n",
       " '₹664',\n",
       " '₹207',\n",
       " '₹276',\n",
       " '₹149',\n",
       " '₹200',\n",
       " '₹180',\n",
       " '₹196',\n",
       " '₹449',\n",
       " '₹799',\n",
       " '₹259',\n",
       " '₹359',\n",
       " '₹199',\n",
       " '₹249',\n",
       " '₹291',\n",
       " '₹269',\n",
       " '₹242',\n",
       " '₹225',\n",
       " '₹209',\n",
       " '₹360',\n",
       " '₹276',\n",
       " '₹225',\n",
       " '₹180',\n",
       " '₹299',\n",
       " '₹639',\n",
       " '₹349',\n",
       " '₹199',\n",
       " '₹232',\n",
       " '₹359',\n",
       " '₹299',\n",
       " '₹549',\n",
       " '₹189',\n",
       " '₹156',\n",
       " '₹1,533',\n",
       " '₹289',\n",
       " '₹249',\n",
       " '₹348',\n",
       " '₹1,533']"
      ]
     },
     "execution_count": 44,
     "metadata": {},
     "output_type": "execute_result"
    }
   ],
   "source": [
    "#price of the prodct\n",
    "p2=driver.find_elements_by_xpath('//div[@class=\"_30jeq3\"]')\n",
    "len(p2)\n",
    "price2=[]\n",
    "for i in p2:\n",
    "    price2.append(i.text)\n",
    "    \n",
    "price2\n",
    "    "
   ]
  },
  {
   "cell_type": "code",
   "execution_count": 45,
   "id": "dbd174e7",
   "metadata": {},
   "outputs": [
    {
     "data": {
      "text/plain": [
       "['₹449',\n",
       " '₹197',\n",
       " '₹199',\n",
       " '₹200',\n",
       " '₹289',\n",
       " '₹233',\n",
       " '₹152',\n",
       " '₹799',\n",
       " '₹189',\n",
       " '₹499',\n",
       " '₹183',\n",
       " '₹249',\n",
       " '₹689',\n",
       " '₹198',\n",
       " '₹204',\n",
       " '₹225',\n",
       " '₹167',\n",
       " '₹235',\n",
       " '₹664',\n",
       " '₹225']"
      ]
     },
     "execution_count": 45,
     "metadata": {},
     "output_type": "execute_result"
    }
   ],
   "source": [
    "#price of the prodct\n",
    "p3=driver.find_elements_by_xpath('//div[@class=\"_30jeq3\"]')\n",
    "len(p3)\n",
    "price3=[]\n",
    "for i in p3:\n",
    "    price3.append(i.text)\n",
    "    \n",
    "price3=price3[0:20]\n",
    "\n",
    "price3\n",
    "    "
   ]
  },
  {
   "cell_type": "code",
   "execution_count": 46,
   "id": "73edde59",
   "metadata": {},
   "outputs": [
    {
     "data": {
      "text/plain": [
       "100"
      ]
     },
     "execution_count": 46,
     "metadata": {},
     "output_type": "execute_result"
    }
   ],
   "source": [
    "prices=price1+price2+price3\n",
    "len(prices)"
   ]
  },
  {
   "cell_type": "code",
   "execution_count": 47,
   "id": "65b46f25",
   "metadata": {},
   "outputs": [
    {
     "data": {
      "text/plain": [
       "40"
      ]
     },
     "execution_count": 47,
     "metadata": {},
     "output_type": "execute_result"
    }
   ],
   "source": [
    "#discount on product in %\n",
    "disc_prnct=driver.find_elements_by_xpath('//div[@class=\"_3Ay6Sb\"]')\n",
    "len(disc_prnct)"
   ]
  },
  {
   "cell_type": "code",
   "execution_count": 48,
   "id": "41e7ee58",
   "metadata": {},
   "outputs": [
    {
     "data": {
      "text/plain": [
       "['60% off',\n",
       " '60% off',\n",
       " '90% off',\n",
       " '81% off',\n",
       " '90% off',\n",
       " '85% off',\n",
       " '88% off',\n",
       " '86% off',\n",
       " '25% off',\n",
       " '87% off',\n",
       " '81% off',\n",
       " '43% off',\n",
       " '84% off',\n",
       " '81% off',\n",
       " '88% off',\n",
       " '50% off',\n",
       " '85% off',\n",
       " '87% off',\n",
       " '80% off',\n",
       " '26% off',\n",
       " '85% off',\n",
       " '87% off',\n",
       " '20% off',\n",
       " '81% off',\n",
       " '85% off',\n",
       " '22% off',\n",
       " '84% off',\n",
       " '50% off',\n",
       " '85% off',\n",
       " '86% off',\n",
       " '66% off',\n",
       " '38% off',\n",
       " '72% off',\n",
       " '70% off',\n",
       " '84% off',\n",
       " '50% off',\n",
       " '88% off',\n",
       " '81% off',\n",
       " '81% off',\n",
       " '60% off']"
      ]
     },
     "execution_count": 48,
     "metadata": {},
     "output_type": "execute_result"
    }
   ],
   "source": [
    "discount_percent1=[]\n",
    "\n",
    "for i in disc_prnct:\n",
    "    discount_percent1.append(i.text)\n",
    "    \n",
    "discount_percent1\n",
    "    "
   ]
  },
  {
   "cell_type": "code",
   "execution_count": 52,
   "id": "3636f78c",
   "metadata": {},
   "outputs": [
    {
     "data": {
      "text/plain": [
       "['79% off',\n",
       " '83% off',\n",
       " '76% off',\n",
       " '89% off',\n",
       " '85% off',\n",
       " '80% off',\n",
       " '77% off',\n",
       " '86% off',\n",
       " '81% off',\n",
       " '60% off',\n",
       " '71% off',\n",
       " '38% off',\n",
       " '88% off',\n",
       " '81% off',\n",
       " '90% off',\n",
       " '88% off',\n",
       " '83% off',\n",
       " '88% off',\n",
       " '86% off',\n",
       " '41% off',\n",
       " '77% off',\n",
       " '82% off',\n",
       " '76% off',\n",
       " '74% off',\n",
       " '84% off',\n",
       " '26% off',\n",
       " '88% off',\n",
       " '43% off',\n",
       " '20% off',\n",
       " '85% off',\n",
       " '84% off',\n",
       " '47% off',\n",
       " '87% off',\n",
       " '70% off',\n",
       " '87% off',\n",
       " '72% off',\n",
       " '80% off',\n",
       " '84% off',\n",
       " '69% off',\n",
       " '50% off']"
      ]
     },
     "execution_count": 52,
     "metadata": {},
     "output_type": "execute_result"
    }
   ],
   "source": [
    "#discount on product in %\n",
    "disc_prnct=driver.find_elements_by_xpath('//div[@class=\"_3Ay6Sb\"]')\n",
    "len(disc_prnct)\n",
    "\n",
    "discount_percent2=[]\n",
    "\n",
    "for i in disc_prnct:\n",
    "    discount_percent2.append(i.text)\n",
    "    \n",
    "discount_percent2"
   ]
  },
  {
   "cell_type": "code",
   "execution_count": 54,
   "id": "bc67dd14",
   "metadata": {},
   "outputs": [
    {
     "data": {
      "text/plain": [
       "['85% off',\n",
       " '77% off',\n",
       " '18% off',\n",
       " '60% off',\n",
       " '88% off',\n",
       " '75% off',\n",
       " '23% off',\n",
       " '80% off',\n",
       " '88% off',\n",
       " '80% off',\n",
       " '88% off',\n",
       " '26% off',\n",
       " '79% off',\n",
       " '87% off',\n",
       " '87% off',\n",
       " '38% off',\n",
       " '66% off',\n",
       " '79% off',\n",
       " '88% off',\n",
       " '41% off']"
      ]
     },
     "execution_count": 54,
     "metadata": {},
     "output_type": "execute_result"
    }
   ],
   "source": [
    "#discount on product in %\n",
    "disc_prnct=driver.find_elements_by_xpath('//div[@class=\"_3Ay6Sb\"]')\n",
    "len(disc_prnct)\n",
    "\n",
    "discount_percent3=[]\n",
    "\n",
    "for i in disc_prnct:\n",
    "    discount_percent3.append(i.text)\n",
    "    \n",
    "discount_percent3=discount_percent3[0:20]\n",
    "discount_percent3"
   ]
  },
  {
   "cell_type": "code",
   "execution_count": 56,
   "id": "0f7da9ee",
   "metadata": {},
   "outputs": [
    {
     "data": {
      "text/plain": [
       "100"
      ]
     },
     "execution_count": 56,
     "metadata": {},
     "output_type": "execute_result"
    }
   ],
   "source": [
    "discount=discount_percent1+discount_percent2+discount_percent3\n",
    "len(discount)"
   ]
  },
  {
   "cell_type": "code",
   "execution_count": 64,
   "id": "45b5a35d",
   "metadata": {},
   "outputs": [
    {
     "data": {
      "text/html": [
       "<div>\n",
       "<style scoped>\n",
       "    .dataframe tbody tr th:only-of-type {\n",
       "        vertical-align: middle;\n",
       "    }\n",
       "\n",
       "    .dataframe tbody tr th {\n",
       "        vertical-align: top;\n",
       "    }\n",
       "\n",
       "    .dataframe thead th {\n",
       "        text-align: right;\n",
       "    }\n",
       "</style>\n",
       "<table border=\"1\" class=\"dataframe\">\n",
       "  <thead>\n",
       "    <tr style=\"text-align: right;\">\n",
       "      <th></th>\n",
       "      <th>products_name</th>\n",
       "      <th>description</th>\n",
       "      <th>prices</th>\n",
       "      <th>discount</th>\n",
       "    </tr>\n",
       "  </thead>\n",
       "  <tbody>\n",
       "    <tr>\n",
       "      <th>0</th>\n",
       "      <td>VINCENT CHASE</td>\n",
       "      <td>by Lenskart Polarized, UV Protection Wayfarer ...</td>\n",
       "      <td>₹799</td>\n",
       "      <td>60% off</td>\n",
       "    </tr>\n",
       "    <tr>\n",
       "      <th>1</th>\n",
       "      <td>VILLAIN</td>\n",
       "      <td>by Lenskart Polarized, UV Protection Wayfarer ...</td>\n",
       "      <td>₹1,533</td>\n",
       "      <td>60% off</td>\n",
       "    </tr>\n",
       "    <tr>\n",
       "      <th>2</th>\n",
       "      <td>Elligator</td>\n",
       "      <td>UV Protection Round Sunglasses (54)</td>\n",
       "      <td>₹248</td>\n",
       "      <td>90% off</td>\n",
       "    </tr>\n",
       "    <tr>\n",
       "      <th>3</th>\n",
       "      <td>SUNBEE</td>\n",
       "      <td>UV Protection, Polarized Wayfarer Sunglasses (...</td>\n",
       "      <td>₹243</td>\n",
       "      <td>81% off</td>\n",
       "    </tr>\n",
       "    <tr>\n",
       "      <th>4</th>\n",
       "      <td>SHAAH COLLECTIONS</td>\n",
       "      <td>UV Protection, Polarized, Mirrored Rectangular...</td>\n",
       "      <td>₹165</td>\n",
       "      <td>90% off</td>\n",
       "    </tr>\n",
       "    <tr>\n",
       "      <th>...</th>\n",
       "      <td>...</td>\n",
       "      <td>...</td>\n",
       "      <td>...</td>\n",
       "      <td>...</td>\n",
       "    </tr>\n",
       "    <tr>\n",
       "      <th>95</th>\n",
       "      <td>VINCENT CHASE</td>\n",
       "      <td>by Lenskart Polarized, UV Protection Wayfarer ...</td>\n",
       "      <td>₹225</td>\n",
       "      <td>38% off</td>\n",
       "    </tr>\n",
       "    <tr>\n",
       "      <th>96</th>\n",
       "      <td>ROZZETTA CRAFT</td>\n",
       "      <td>UV Protection Aviator Sunglasses (54)</td>\n",
       "      <td>₹167</td>\n",
       "      <td>66% off</td>\n",
       "    </tr>\n",
       "    <tr>\n",
       "      <th>97</th>\n",
       "      <td>Fastrack</td>\n",
       "      <td>UV Protection, Gradient Rectangular Sunglasses...</td>\n",
       "      <td>₹235</td>\n",
       "      <td>79% off</td>\n",
       "    </tr>\n",
       "    <tr>\n",
       "      <th>98</th>\n",
       "      <td>New Specs</td>\n",
       "      <td>UV Protection Aviator Sunglasses (54)</td>\n",
       "      <td>₹664</td>\n",
       "      <td>88% off</td>\n",
       "    </tr>\n",
       "    <tr>\n",
       "      <th>99</th>\n",
       "      <td>ROYAL SON</td>\n",
       "      <td>by Lenskart Polarized, UV Protection Aviator S...</td>\n",
       "      <td>₹225</td>\n",
       "      <td>41% off</td>\n",
       "    </tr>\n",
       "  </tbody>\n",
       "</table>\n",
       "<p>100 rows × 4 columns</p>\n",
       "</div>"
      ],
      "text/plain": [
       "        products_name                                        description  \\\n",
       "0       VINCENT CHASE  by Lenskart Polarized, UV Protection Wayfarer ...   \n",
       "1             VILLAIN  by Lenskart Polarized, UV Protection Wayfarer ...   \n",
       "2           Elligator                UV Protection Round Sunglasses (54)   \n",
       "3              SUNBEE  UV Protection, Polarized Wayfarer Sunglasses (...   \n",
       "4   SHAAH COLLECTIONS  UV Protection, Polarized, Mirrored Rectangular...   \n",
       "..                ...                                                ...   \n",
       "95      VINCENT CHASE  by Lenskart Polarized, UV Protection Wayfarer ...   \n",
       "96     ROZZETTA CRAFT              UV Protection Aviator Sunglasses (54)   \n",
       "97           Fastrack  UV Protection, Gradient Rectangular Sunglasses...   \n",
       "98          New Specs              UV Protection Aviator Sunglasses (54)   \n",
       "99          ROYAL SON  by Lenskart Polarized, UV Protection Aviator S...   \n",
       "\n",
       "    prices discount  \n",
       "0     ₹799  60% off  \n",
       "1   ₹1,533  60% off  \n",
       "2     ₹248  90% off  \n",
       "3     ₹243  81% off  \n",
       "4     ₹165  90% off  \n",
       "..     ...      ...  \n",
       "95    ₹225  38% off  \n",
       "96    ₹167  66% off  \n",
       "97    ₹235  79% off  \n",
       "98    ₹664  88% off  \n",
       "99    ₹225  41% off  \n",
       "\n",
       "[100 rows x 4 columns]"
      ]
     },
     "execution_count": 64,
     "metadata": {},
     "output_type": "execute_result"
    }
   ],
   "source": [
    "import pandas as pd\n",
    "flipkart_data=pd.DataFrame({'products_name':names,'description':description,'prices':prices,'discount':discount})\n",
    "flipkart_data"
   ]
  },
  {
   "cell_type": "markdown",
   "id": "3ac42fca",
   "metadata": {},
   "source": [
    "# 5)Scrape 100 reviews data from flipkart.com for iphone11 phone.\n"
   ]
  },
  {
   "cell_type": "code",
   "execution_count": 2,
   "id": "e215b80e",
   "metadata": {},
   "outputs": [],
   "source": [
    "#connect to web driver\n",
    "driver=webdriver.Chrome(r'C:\\Users\\Aditya\\OneDrive\\Desktop\\chromedriver.exe')"
   ]
  },
  {
   "cell_type": "code",
   "execution_count": 3,
   "id": "f6684c87",
   "metadata": {},
   "outputs": [],
   "source": [
    "url=\"https://www.flipkart.com/apple-iphone-11-black-64-gb-includes- earpods-power\u0002adapter/p/itm0f37c2240b217?pid=MOBFKCTSVZAXUHGR&lid=LSTMOBFKC TSVZAXUHGREPBFGI&marketplace\"\n",
    "driver.get(url)"
   ]
  },
  {
   "cell_type": "code",
   "execution_count": 4,
   "id": "22aec203",
   "metadata": {},
   "outputs": [],
   "source": [
    "#click on ratings\n",
    "click_ratings=driver.find_element_by_xpath('//span[@class=\"_2_R_DZ\"]')"
   ]
  },
  {
   "cell_type": "code",
   "execution_count": 6,
   "id": "4501252d",
   "metadata": {},
   "outputs": [],
   "source": [
    "click_ratings.click()"
   ]
  },
  {
   "cell_type": "code",
   "execution_count": 8,
   "id": "186d1657",
   "metadata": {},
   "outputs": [],
   "source": [
    "#rating\n",
    "ratings1=\n"
   ]
  },
  {
   "cell_type": "code",
   "execution_count": 18,
   "id": "7fe41c61",
   "metadata": {},
   "outputs": [
    {
     "data": {
      "text/plain": [
       "['5', '5', '5', '5', '5', '5', '5', '4', '5', '5']"
      ]
     },
     "execution_count": 18,
     "metadata": {},
     "output_type": "execute_result"
    }
   ],
   "source": [
    "r1=[]\n",
    "\n",
    "for i in ratings1:\n",
    "    r1.append(i.text)\n",
    "    \n",
    "r1"
   ]
  },
  {
   "cell_type": "code",
   "execution_count": 20,
   "id": "b5f2141a",
   "metadata": {},
   "outputs": [
    {
     "data": {
      "text/plain": [
       "['5', '5', '5', '5', '5', '5', '5', '5', '5', '4']"
      ]
     },
     "execution_count": 20,
     "metadata": {},
     "output_type": "execute_result"
    }
   ],
   "source": [
    "ratings2=driver.find_elements_by_xpath('//div[@class=\"_3LWZlK _1BLPMq\"]')\n",
    "\n",
    "r2=[]\n",
    "\n",
    "for i in ratings2:\n",
    "    r2.append(i.text)\n",
    "    \n",
    "r2"
   ]
  },
  {
   "cell_type": "code",
   "execution_count": 14,
   "id": "8f3e83ff",
   "metadata": {},
   "outputs": [],
   "source": [
    "rating3=driver.find_elements_by_xpath('//div[@class=\"_3LWZlK _1BLPMq\" or @class=\"_3LWZlK _1rdVr6 _1BLPMq\"]')"
   ]
  },
  {
   "cell_type": "code",
   "execution_count": 15,
   "id": "b44731fc",
   "metadata": {},
   "outputs": [
    {
     "data": {
      "text/plain": [
       "10"
      ]
     },
     "execution_count": 15,
     "metadata": {},
     "output_type": "execute_result"
    }
   ],
   "source": [
    "len(rating3)"
   ]
  },
  {
   "cell_type": "code",
   "execution_count": 16,
   "id": "c217fb45",
   "metadata": {},
   "outputs": [
    {
     "data": {
      "text/plain": [
       "['5', '4', '5', '5', '5', '5', '4', '1', '5', '5']"
      ]
     },
     "execution_count": 16,
     "metadata": {},
     "output_type": "execute_result"
    }
   ],
   "source": [
    "r3=[]\n",
    "for i in rating3:\n",
    "    r3.append(i.text)\n",
    "    \n",
    "r3"
   ]
  },
  {
   "cell_type": "code",
   "execution_count": 17,
   "id": "6e6a0944",
   "metadata": {},
   "outputs": [
    {
     "name": "stdout",
     "output_type": "stream",
     "text": [
      "10\n",
      "['5', '5', '4', '5', '5', '5', '5', '5', '5', '1']\n"
     ]
    }
   ],
   "source": [
    "rating4=driver.find_elements_by_xpath('//div[@class=\"_3LWZlK _1BLPMq\" or @class=\"_3LWZlK _1rdVr6 _1BLPMq\"]')\n",
    "\n",
    "print(len(rating4))\n",
    "\n",
    "r4=[]\n",
    "for i in rating4:\n",
    "    r4.append(i.text)\n",
    "    \n",
    "print(r4)"
   ]
  },
  {
   "cell_type": "code",
   "execution_count": 18,
   "id": "3813e2fc",
   "metadata": {},
   "outputs": [
    {
     "name": "stdout",
     "output_type": "stream",
     "text": [
      "10\n",
      "['4', '5', '5', '4', '1', '5', '5', '5', '5', '5']\n"
     ]
    }
   ],
   "source": [
    "rating5=driver.find_elements_by_xpath('//div[@class=\"_3LWZlK _1BLPMq\" or @class=\"_3LWZlK _1rdVr6 _1BLPMq\"]')\n",
    "\n",
    "print(len(rating5))\n",
    "\n",
    "r5=[]\n",
    "for i in rating5:\n",
    "    r5.append(i.text)\n",
    "    \n",
    "print(r5)"
   ]
  },
  {
   "cell_type": "code",
   "execution_count": 19,
   "id": "94be58a6",
   "metadata": {},
   "outputs": [
    {
     "name": "stdout",
     "output_type": "stream",
     "text": [
      "10\n",
      "['5', '5', '5', '5', '5', '5', '5', '5', '5', '5']\n"
     ]
    }
   ],
   "source": [
    "rating6=driver.find_elements_by_xpath('//div[@class=\"_3LWZlK _1BLPMq\"]')\n",
    "print(len(rating5))\n",
    "\n",
    "r6=[]\n",
    "for i in rating6:\n",
    "    r6.append(i.text)\n",
    "    \n",
    "print(r6)"
   ]
  },
  {
   "cell_type": "code",
   "execution_count": 20,
   "id": "67fe8702",
   "metadata": {},
   "outputs": [
    {
     "name": "stdout",
     "output_type": "stream",
     "text": [
      "10\n",
      "['4', '5', '5', '5', '5', '4', '5', '5', '5', '5']\n"
     ]
    }
   ],
   "source": [
    "rating7=driver.find_elements_by_xpath('//div[@class=\"_3LWZlK _1BLPMq\"]')\n",
    "print(len(rating7))\n",
    "\n",
    "r7=[]\n",
    "for i in rating7:\n",
    "    r7.append(i.text)\n",
    "    \n",
    "print(r7)"
   ]
  },
  {
   "cell_type": "code",
   "execution_count": 22,
   "id": "74f53c46",
   "metadata": {},
   "outputs": [
    {
     "name": "stdout",
     "output_type": "stream",
     "text": [
      "10\n",
      "['5', '1', '5', '5', '1', '5', '5', '5', '5', '5']\n"
     ]
    }
   ],
   "source": [
    "rating8=driver.find_elements_by_xpath('//div[@class=\"_3LWZlK _1BLPMq\" or @class=\"_3LWZlK _1rdVr6 _1BLPMq\"]')\n",
    "print(len(rating8))\n",
    "\n",
    "r8=[]\n",
    "for i in rating8:\n",
    "    r8.append(i.text)\n",
    "    \n",
    "print(r8)"
   ]
  },
  {
   "cell_type": "code",
   "execution_count": 23,
   "id": "ac578fd2",
   "metadata": {},
   "outputs": [
    {
     "name": "stdout",
     "output_type": "stream",
     "text": [
      "10\n",
      "['5', '5', '5', '5', '3', '5', '5', '5', '5', '5']\n"
     ]
    }
   ],
   "source": [
    "rating9=driver.find_elements_by_xpath('//div[@class=\"_3LWZlK _1BLPMq\"]')\n",
    "print(len(rating9))\n",
    "\n",
    "r9=[]\n",
    "for i in rating9:\n",
    "    r9.append(i.text)\n",
    "    \n",
    "print(r9)"
   ]
  },
  {
   "cell_type": "code",
   "execution_count": 24,
   "id": "bcefa4af",
   "metadata": {},
   "outputs": [
    {
     "name": "stdout",
     "output_type": "stream",
     "text": [
      "10\n",
      "['5', '5', '5', '5', '1', '5', '5', '5', '5', '5']\n"
     ]
    }
   ],
   "source": [
    "rating10=driver.find_elements_by_xpath('//div[@class=\"_3LWZlK _1BLPMq\" or @class=\"_3LWZlK _1rdVr6 _1BLPMq\"]')\n",
    "print(len(rating10))\n",
    "\n",
    "r10=[]\n",
    "for i in rating10:\n",
    "    r10.append(i.text)\n",
    "    \n",
    "print(r10)"
   ]
  },
  {
   "cell_type": "code",
   "execution_count": 26,
   "id": "fb108b7f",
   "metadata": {},
   "outputs": [
    {
     "name": "stdout",
     "output_type": "stream",
     "text": [
      "10\n"
     ]
    },
    {
     "data": {
      "text/plain": [
       "['Brilliant',\n",
       " 'Simply awesome',\n",
       " 'Best in the market!',\n",
       " 'Perfect product!',\n",
       " 'Worth every penny',\n",
       " 'Fabulous!',\n",
       " 'Great product',\n",
       " 'Good choice',\n",
       " 'Highly recommended',\n",
       " 'Worth every penny']"
      ]
     },
     "execution_count": 26,
     "metadata": {},
     "output_type": "execute_result"
    }
   ],
   "source": [
    "#review summary\n",
    "revw1=driver.find_elements_by_xpath('//p[@class=\"_2-N8zT\"]')\n",
    "print(len(revw1))\n",
    "rw1=[]\n",
    "for i in revw1:\n",
    "    rw1.append(i.text)\n",
    "    \n",
    "rw1"
   ]
  },
  {
   "cell_type": "code",
   "execution_count": 27,
   "id": "c2f86a28",
   "metadata": {},
   "outputs": [
    {
     "name": "stdout",
     "output_type": "stream",
     "text": [
      "10\n"
     ]
    },
    {
     "data": {
      "text/plain": [
       "['Highly recommended',\n",
       " 'Perfect product!',\n",
       " 'Perfect product!',\n",
       " 'Highly recommended',\n",
       " 'Perfect product!',\n",
       " 'Classy product',\n",
       " 'Worth every penny',\n",
       " 'Worth every penny',\n",
       " 'Worth every penny',\n",
       " 'Nice product']"
      ]
     },
     "execution_count": 27,
     "metadata": {},
     "output_type": "execute_result"
    }
   ],
   "source": [
    "revw2=driver.find_elements_by_xpath('//p[@class=\"_2-N8zT\"]')\n",
    "print(len(revw2))\n",
    "rw2=[]\n",
    "for i in revw2:\n",
    "    rw2.append(i.text)\n",
    "    \n",
    "rw2"
   ]
  },
  {
   "cell_type": "code",
   "execution_count": 28,
   "id": "d4a5f53f",
   "metadata": {},
   "outputs": [
    {
     "name": "stdout",
     "output_type": "stream",
     "text": [
      "10\n"
     ]
    },
    {
     "data": {
      "text/plain": [
       "['Brilliant',\n",
       " 'Good choice',\n",
       " 'Perfect product!',\n",
       " 'Wonderful',\n",
       " 'Terrific purchase',\n",
       " 'Simply awesome',\n",
       " 'Good quality product',\n",
       " 'Very poor',\n",
       " 'Perfect product!',\n",
       " 'Must buy!']"
      ]
     },
     "execution_count": 28,
     "metadata": {},
     "output_type": "execute_result"
    }
   ],
   "source": [
    "revw3=driver.find_elements_by_xpath('//p[@class=\"_2-N8zT\"]')\n",
    "print(len(revw3))\n",
    "rw3=[]\n",
    "for i in revw3:\n",
    "    rw3.append(i.text)\n",
    "    \n",
    "rw3"
   ]
  },
  {
   "cell_type": "code",
   "execution_count": 29,
   "id": "228301ef",
   "metadata": {},
   "outputs": [
    {
     "name": "stdout",
     "output_type": "stream",
     "text": [
      "10\n"
     ]
    },
    {
     "data": {
      "text/plain": [
       "['Must buy!',\n",
       " 'Great product',\n",
       " 'Very Good',\n",
       " 'Wonderful',\n",
       " 'Classy product',\n",
       " 'Awesome',\n",
       " 'Classy product',\n",
       " 'Awesome',\n",
       " 'Perfect product!',\n",
       " 'Very poor']"
      ]
     },
     "execution_count": 29,
     "metadata": {},
     "output_type": "execute_result"
    }
   ],
   "source": [
    "revw4=driver.find_elements_by_xpath('//p[@class=\"_2-N8zT\"]')\n",
    "print(len(revw4))\n",
    "rw4=[]\n",
    "for i in revw4:\n",
    "    rw4.append(i.text)\n",
    "    \n",
    "rw4"
   ]
  },
  {
   "cell_type": "code",
   "execution_count": 30,
   "id": "651b32f9",
   "metadata": {},
   "outputs": [
    {
     "name": "stdout",
     "output_type": "stream",
     "text": [
      "10\n"
     ]
    },
    {
     "data": {
      "text/plain": [
       "['Value-for-money',\n",
       " 'Best in the market!',\n",
       " 'Awesome',\n",
       " 'Value-for-money',\n",
       " 'Worthless',\n",
       " 'Simply awesome',\n",
       " 'Wonderful',\n",
       " 'Terrific',\n",
       " 'Brilliant',\n",
       " 'Excellent']"
      ]
     },
     "execution_count": 30,
     "metadata": {},
     "output_type": "execute_result"
    }
   ],
   "source": [
    "revw5=driver.find_elements_by_xpath('//p[@class=\"_2-N8zT\"]')\n",
    "print(len(revw5))\n",
    "rw5=[]\n",
    "for i in revw5:\n",
    "    rw5.append(i.text)\n",
    "    \n",
    "rw5"
   ]
  },
  {
   "cell_type": "code",
   "execution_count": 31,
   "id": "c6c4d101",
   "metadata": {},
   "outputs": [
    {
     "name": "stdout",
     "output_type": "stream",
     "text": [
      "10\n"
     ]
    },
    {
     "data": {
      "text/plain": [
       "['Mind-blowing purchase',\n",
       " 'Wonderful',\n",
       " 'Perfect product!',\n",
       " 'Classy product',\n",
       " 'Awesome',\n",
       " 'Just wow!',\n",
       " 'Perfect product!',\n",
       " 'Worth every penny',\n",
       " 'Fabulous!',\n",
       " 'Must buy!']"
      ]
     },
     "execution_count": 31,
     "metadata": {},
     "output_type": "execute_result"
    }
   ],
   "source": [
    "revw6=driver.find_elements_by_xpath('//p[@class=\"_2-N8zT\"]')\n",
    "print(len(revw6))\n",
    "rw6=[]\n",
    "for i in revw6:\n",
    "    rw6.append(i.text)\n",
    "    \n",
    "rw6"
   ]
  },
  {
   "cell_type": "code",
   "execution_count": 32,
   "id": "165644dd",
   "metadata": {},
   "outputs": [
    {
     "name": "stdout",
     "output_type": "stream",
     "text": [
      "10\n"
     ]
    },
    {
     "data": {
      "text/plain": [
       "['Good quality product',\n",
       " 'Super!',\n",
       " 'Excellent',\n",
       " 'Classy product',\n",
       " 'Terrific purchase',\n",
       " 'Pretty good',\n",
       " 'Brilliant',\n",
       " 'Simply awesome',\n",
       " 'Fabulous!',\n",
       " 'Terrific purchase']"
      ]
     },
     "execution_count": 32,
     "metadata": {},
     "output_type": "execute_result"
    }
   ],
   "source": [
    "revw7=driver.find_elements_by_xpath('//p[@class=\"_2-N8zT\"]')\n",
    "print(len(revw7))\n",
    "rw7=[]\n",
    "for i in revw7:\n",
    "    rw7.append(i.text)\n",
    "    \n",
    "rw7"
   ]
  },
  {
   "cell_type": "code",
   "execution_count": 33,
   "id": "a34bc8f8",
   "metadata": {},
   "outputs": [
    {
     "name": "stdout",
     "output_type": "stream",
     "text": [
      "10\n"
     ]
    },
    {
     "data": {
      "text/plain": [
       "['Just wow!',\n",
       " 'Absolute rubbish!',\n",
       " 'Great product',\n",
       " 'Excellent',\n",
       " 'Worthless',\n",
       " 'Mind-blowing purchase',\n",
       " 'Mind-blowing purchase',\n",
       " 'Super!',\n",
       " 'Best in the market!',\n",
       " 'Excellent']"
      ]
     },
     "execution_count": 33,
     "metadata": {},
     "output_type": "execute_result"
    }
   ],
   "source": [
    "revw8=driver.find_elements_by_xpath('//p[@class=\"_2-N8zT\"]')\n",
    "print(len(revw8))\n",
    "rw8=[]\n",
    "for i in revw8:\n",
    "    rw8.append(i.text)\n",
    "    \n",
    "rw8"
   ]
  },
  {
   "cell_type": "code",
   "execution_count": 34,
   "id": "fdb1d483",
   "metadata": {},
   "outputs": [
    {
     "name": "stdout",
     "output_type": "stream",
     "text": [
      "10\n"
     ]
    },
    {
     "data": {
      "text/plain": [
       "['Wonderful',\n",
       " 'Awesome',\n",
       " 'Perfect product!',\n",
       " 'Terrific purchase',\n",
       " 'Does the job',\n",
       " 'Just wow!',\n",
       " 'Terrific purchase',\n",
       " 'Worth every penny',\n",
       " 'Great product',\n",
       " 'Mind-blowing purchase']"
      ]
     },
     "execution_count": 34,
     "metadata": {},
     "output_type": "execute_result"
    }
   ],
   "source": [
    "revw9=driver.find_elements_by_xpath('//p[@class=\"_2-N8zT\"]')\n",
    "print(len(revw9))\n",
    "rw9=[]\n",
    "for i in revw9:\n",
    "    rw9.append(i.text)\n",
    "    \n",
    "rw9"
   ]
  },
  {
   "cell_type": "code",
   "execution_count": 35,
   "id": "bc641a89",
   "metadata": {},
   "outputs": [
    {
     "name": "stdout",
     "output_type": "stream",
     "text": [
      "10\n"
     ]
    },
    {
     "data": {
      "text/plain": [
       "['Highly recommended',\n",
       " 'Excellent',\n",
       " 'Fabulous!',\n",
       " 'Excellent',\n",
       " 'Waste of money!',\n",
       " 'Terrific',\n",
       " 'Highly recommended',\n",
       " 'Must buy!',\n",
       " 'Must buy!',\n",
       " 'Excellent']"
      ]
     },
     "execution_count": 35,
     "metadata": {},
     "output_type": "execute_result"
    }
   ],
   "source": [
    "revw10=driver.find_elements_by_xpath('//p[@class=\"_2-N8zT\"]')\n",
    "print(len(revw10))\n",
    "rw10=[]\n",
    "for i in revw10:\n",
    "    rw10.append(i.text)\n",
    "    \n",
    "rw10"
   ]
  },
  {
   "cell_type": "code",
   "execution_count": 48,
   "id": "eb3793e2",
   "metadata": {},
   "outputs": [
    {
     "name": "stdout",
     "output_type": "stream",
     "text": [
      "10\n"
     ]
    },
    {
     "data": {
      "text/plain": [
       "['The Best Phone for the Money  The iPhone 11 offers superb cameras, a more durable design and excellent battery life for an affordable price.  Compelling ultra-wide camera New Night mode is excellent Long battery life',\n",
       " 'Really satisfied with the Product I received... It’s totally genuine and the packaging was also really good so if ur planning to buy just go for it.',\n",
       " 'Great iPhone very snappy experience as apple kind. Upgraded from iPhone 7. Pros -Camera top class - Battery top performed -Chipset no need to say as apple kind -Security as you expect from apple - Display super bright industry leading colour accuracy and super responsive -Build quality as expect from apple sturdy premium durable beautiful stylish. -Os most stable os in smartphone industry  Cons -No 5G -Display is not based on OLED technology -Charger headphones and 1 apple stic... READ MORE',\n",
       " 'Amazing phone with great cameras and better battery which gives you the best performance. I just love the camera .',\n",
       " 'Previously I was using one plus 3t it was a great phone And then I decided to upgrade I am stuck between Samsung s10 plus or iPhone 11 I have seen the specs and everything were good except the display it’s somewhere between 720-1080 and it’s not even an amoled it’s an LCD display But I decided to go with iPhone because I have never used an IOS device I have Been an android user from the past 9 years I ordered IPhone 11 (128gb) product red My experience after using 3 weeks 1. The delivery ... READ MORE',\n",
       " 'This is my first iOS phone. I am very happy with this product. Very much satisfied with this. I love this phone.',\n",
       " 'Amazing Powerful and Durable Gadget.  I’m am very happy with the camera picture quality, Amazing face id unlocked in dark room, Strong battery with perfect screen size as you can carry easily in pocket. This is my third iPhone.  I shifted from android Samsung Note series to iPhone because of the strong build quality and peace of mind for next 3-4 years.  Don’t think to much just go for it and I suggest you to go for minimum 128gb variant or more 256gb.  I’ve attached my puppy pics and no fi... READ MORE',\n",
       " 'So far it’s been an AMAZING experience coming back to iOS after nearly a decade but it’s not as versatile as android though phone is sturdy dropped it accidentally a couple of times and nothing happened fortunately camera is awesome',\n",
       " 'What a camera .....just awesome ..you can feel this iPhone just awesome . Good for gaming also ...try pubg in hd it’s just wow',\n",
       " 'i11 is worthy to buy, too much happy with the product. Thank u flipkart I received the item on time..loved it..']"
      ]
     },
     "execution_count": 48,
     "metadata": {},
     "output_type": "execute_result"
    }
   ],
   "source": [
    "#full review\n",
    "f_rw1=driver.find_elements_by_xpath('//div[@class=\"t-ZTKy\"]')\n",
    "print(len(f_rw1))\n",
    "\n",
    "f_r1=[]\n",
    "for i in f_rw1:\n",
    "    f_r1.append(i.text.replace('\\n',' '))\n",
    "    \n",
    "f_r1"
   ]
  },
  {
   "cell_type": "code",
   "execution_count": 50,
   "id": "36fa3a2d",
   "metadata": {},
   "outputs": [
    {
     "name": "stdout",
     "output_type": "stream",
     "text": [
      "10\n"
     ]
    },
    {
     "data": {
      "text/plain": [
       "['iphone 11 is a very good phone to buy only if you can compromise for the display. The display on this is device is pretty good but you can get other options with better displays in this price segment. If you can survive with an HD+ LCD panel with thicker bezels and a notch up top then this is a very good phone for you. Cameras are awesome, battery backup excellent, great performance and a decent premium look. Good job Apple !',\n",
       " 'It’s a must buy who is looking for an upgrade from previous generation of iPhones. If you are using XR then still you can hold on for sometime and upgrade to 2020 model else this phone is a must buy . Camera quality is amazing and wide angle is something to count upon. Performance wise it’s amazing and feels premium while holding in hand. So a big YES for this device. Go for 128 GB variant as the 4K videos will occupy lots of space and the storage can get over very quickly. Try to buy it with... READ MORE',\n",
       " 'Value for money❤️❤️ Its awesome mobile phone in the world ... Display was very good and bright .. Trust me freinds you r never regret after Buying.. Just go for it.... I love this phone and i switch to iphone x to 11',\n",
       " \"It's my first time to use iOS phone and I am loving my upgradation 😍😍 I love the color, I love the assebility of the phone....I need to learn more about its functionality, but as far as I have seen, it's quite easy and it has a lot of functions to work on, specially if you are a content writer or a blogger you get a lot of content creation platforms and they are really amazing.  This phone not only for good quality photography but a lot of other task too.😍💯\",\n",
       " \"Iphone is just awesome.. battery backup is very very nice.. continuously for 10 hours we can use it.camera is just awesome.. display is just fab.i love it alot..i had to wait 15 days for it as i pre ordered it..overalll it's worth the price..these all images are clicked by my iPhone..and i love it.\",\n",
       " 'Totally in love with this ❤ the camera quality is amazing just love it 😘😘😘 itsss dammnnnnnn amazing... Must buy iPhone 11 this is my best experience ever ☀👌👌🧡🧡🧡🧡🧡 thanku apple ❤',\n",
       " 'Best budget Iphone till date ❤️ go for it guys without second thought. Let me explain you guys about Camera, Display, battery, and performance.  Camera: at this price range there is no comparison of camera, you’ll love the picture quality as well as video quality. I am a Vlogger I wanted an iPhone with 4k video by front camera and I got this phone and I am more than happy 😃  Battery: I use this phone roughly as I am active social media person and I have a youtube channel. so the battery ba... READ MORE',\n",
       " 'It’s been almost a month since I have been using this phone. I upgraded from an iPhone 8. The main issue with my 8 was battery and this phone is just awesome when it comes to battery. It lasts a day and a half for me with my regular use , internet connected always with 4g Can’t move forward without saying this. Battery of this phone is a life saver when I am traveling or at work when I don’t get the option to charge Camera is superb. Front cam selfies and back cam photos are just awesome. ... READ MORE',\n",
       " 'Smooth like butter, camera like fantabulous, sound is crystal clear & its red color is damn attractive, i am just loving it. Must buy if you love photography.  Lucky to get it in sale, thank you Flipkart.',\n",
       " 'Awesome Phone. Slightly high price but worth. Better than iPhone XR. Camera is superb and wide angle camera is very clear. 12MP selfie camera is also very good. A13 Chip gives a very good and smooth performance.']"
      ]
     },
     "execution_count": 50,
     "metadata": {},
     "output_type": "execute_result"
    }
   ],
   "source": [
    "f_rw2=driver.find_elements_by_xpath('//div[@class=\"t-ZTKy\"]')\n",
    "print(len(f_rw2))\n",
    "\n",
    "f_r2=[]\n",
    "for i in f_rw2:\n",
    "    f_r2.append(i.text.replace('\\n',' '))\n",
    "    \n",
    "f_r2"
   ]
  },
  {
   "cell_type": "code",
   "execution_count": 51,
   "id": "66137e05",
   "metadata": {},
   "outputs": [
    {
     "name": "stdout",
     "output_type": "stream",
     "text": [
      "10\n"
     ]
    },
    {
     "data": {
      "text/plain": [
       "['I have migrated from OP 7pro... and trust me, iPhone 11 is totally worth it.. following are the reasons:- 1)there is ABSOLUTELY NO ISSUE WITH THE DISPLAY... its crisp, sharp and I found it to be much much better than OP7 pro. Netflix, Prime video all run crisply... you won’t miss a thing. True Tone works flawlessly...the display brightness is perfect. OP have not calibrated their screens properly. 2) iPhone 11 series have really good cameras... others have spoken in depth about them. 3) bat... READ MORE',\n",
       " 'Looking so good 👍 😍 super 👌 stylish 😎 phone Clean box 📦 good 👍 delivery 👌 fast delivery Original box Original iphone 📱 👌 😍😍😍',\n",
       " 'After 1 month use I found camera quality best compared to my previous Samsung note 10+.Display not good as note 10 also charging too slow.Apple should add fast charger like 11 plus and pro.Best phone for daily use',\n",
       " 'I just directly switch from iphone 6s to iphone 11 .The best premium smartphone I recommend to everyone. Excellent quality and colors the iphone have in 11 series. Camera quality is just awesome and the major feel when we hold in our hands. The sound quality and volume is also higher then the previous models. I will recommend to buy iphone 11 instead of pro models , there is nothing much difference as this model contains everything which fulfill our needs.  Only one thing that I dislike abo... READ MORE',\n",
       " 'The built quality is not very premium. The battery back is great . The LCD panel is not so sharp but the brightness level is very High . Camera is super duper awesome. The red colour which people think is bright is actually very soothing and excellent colour to choose from . The A13 Bionic chip is really a flagship processor and can beat any phone which even has 12 gb ram . Camera module is very great and looks very stylish.',\n",
       " 'Really good actually this is my first apple product am using its really awesome performance wise excellent. Am really happy with this iphone11',\n",
       " 'it is very good at performance. Camera is best like before and very smooth response even in water. Don’t buy 12 mini buy iPhone 11 , it is far better than 12 mini believe me ! Have a nice day \\uf8ff ☺️',\n",
       " 'Reviewing again after 5 months. At the beginning the battery and performance was good but it degraded soon. Also I was facing heating issues. The mobile will heat up like a stove sometimes. You cannot even play Pubg even in low settings properly, performance is not a problem but heating is. Also if you play that game for 10 mins the brightness will be automatically down due to over heating even when the auto brightness is set to off. This will not be solved even if u manually increase the bri... READ MORE',\n",
       " 'It is just awesome mobile for this price from Apple,  After 10 days review  Battery enough for 1 day even 24*7 Internet will be on and mostly internet usage  Camera is just awesome cool , android 64 MP is equal to this just 12 MP  A13 Bionic chip will give more high performance without hanging  Audio stereo speakers will give Dolby atoms sound with crystal clear  Video recording is like cinematic shots of every sec can be a 4K 60fps. Just awesome this phone iPhone 11 loved one',\n",
       " 'Best Apple iPhone that i have bought at a very reasonable price, camera quality is next level just awesome n of superior quality android phones not even close(RIP) to that and also battery is really good but packaging by Flipkart of iPhone was very poor of such a expensive product, firstly im bit worried about the quality of product if i purchased it through online how was the product but i think now this was mine best decision to bought it through Flipkart online because i got genuine Apple... READ MORE']"
      ]
     },
     "execution_count": 51,
     "metadata": {},
     "output_type": "execute_result"
    }
   ],
   "source": [
    "f_rw3=driver.find_elements_by_xpath('//div[@class=\"t-ZTKy\"]')\n",
    "print(len(f_rw3))\n",
    "\n",
    "f_r3=[]\n",
    "for i in f_rw3:\n",
    "    f_r3.append(i.text.replace('\\n',' '))\n",
    "    \n",
    "f_r3"
   ]
  },
  {
   "cell_type": "code",
   "execution_count": 52,
   "id": "4c850857",
   "metadata": {},
   "outputs": [
    {
     "name": "stdout",
     "output_type": "stream",
     "text": [
      "10\n"
     ]
    },
    {
     "data": {
      "text/plain": [
       "['I rate this product 5* as it has got amazing user experience with the best performing A13 bionic processor. The screen responds and graphics rendering is top notch. With casual gaming and internet browsing, the battery lasts for approx. 1 day. Camera is very good. You will fall in love with the portrait mode. You can call me a loyal Apple customer or whatever but I won’t stop praising the products and overall experience. That user experience matters and is worth every penny you pay.  Below ar... READ MORE',\n",
       " \"Again back to apple iphone after a gap of 2-3 years. It's pleasure to use iOS and the quality product by Apple. Iphone 11 still works like a beast in 2021 also. It really capable of doing day to day usage as well as hard core gaming. Battery is awesome. I'm really too much satisfied with it. Apart fto the very gorgious IPS LCD (AMOLED will be better) everything is mind boggling. Iphone💕.\",\n",
       " 'impressive super phone and best in class camera ,sound and face unlock is super fast just see and phone is unlock and fast in daily apps use',\n",
       " 'Super and marvellous phone look very cute and nice sound. I love this phone i think white is good colur.Excellent camer 5*😍😘♥️♥️',\n",
       " 'Well while switching from android to iOS the first thing you need to be careful about is that you will loose all your whatsapp chat backups as both are different operating systems. Camera clarity is awesome and though being an lcd screen clarity and resolution is good. Battery backup is also good unlike previous gen iPhone. So far the experience is good will Padre after a few months of usage.  P.S the black is more of a dark grey shade and not jet black',\n",
       " 'Very excited to have this phone. This phone has the real power unlike the android phones having SD 855 . The battery life is very good and the camera quality is excellent as comapred to redmi and other phones except google pixel. I M enjoying every single bit of it. Would recommed only if you have the budget.',\n",
       " 'Best and amazing product.....phone looks so premium.... battary is also good as expected .... Wide angle camera is so addictive ...if you are a IOS lover....then this phone will be the best choice for you all!!💯🔥',\n",
       " 'Always love the apple products, upgraded from old iPhone 6S plus to this after having my first baby. I just love to click baby’s photos with it. Overall I just love this phone. Battery back up is okay, sound quality is good. Haven’t tested yet waterproof yet. Only one thing I hate is apple could have given charger & headphones in box.',\n",
       " 'Value for money 5 star rating Excellent camera Battery backup full day in single charge.  Tougher and water resistant design, glossy back. The screen has excellent brightness and contrast. Apple A13 Bionic is the fastest smartphone chip on the planet. Excellent battery life, fast charging support. Stereo speakers with great quality.',\n",
       " 'Please DONT buy from here,  I purchased Apple iPhone 11. with an exchange of IPhone 7, the exchange did not go well, iPhone 7 had a small scratch out side screen which i could never identify till date, but the FLIPKART person could, so he reduced 50% from exchange rate. I decided not to trade in, but paid money.  iPhone 11 Detail Below --------------------------------------------- It came with no charging, then i have put for charging, it took lot of time for charging, the phone also showe... READ MORE']"
      ]
     },
     "execution_count": 52,
     "metadata": {},
     "output_type": "execute_result"
    }
   ],
   "source": [
    "f_rw4=driver.find_elements_by_xpath('//div[@class=\"t-ZTKy\"]')\n",
    "print(len(f_rw4))\n",
    "\n",
    "f_r4=[]\n",
    "for i in f_rw4:\n",
    "    f_r4.append(i.text.replace('\\n',' '))\n",
    "    \n",
    "f_r4"
   ]
  },
  {
   "cell_type": "code",
   "execution_count": 53,
   "id": "165a38a0",
   "metadata": {},
   "outputs": [
    {
     "name": "stdout",
     "output_type": "stream",
     "text": [
      "10\n"
     ]
    },
    {
     "data": {
      "text/plain": [
       "[\"Just got this iphone 11 And it is most powerful mobile phone I have used ever  So,go for it if you want a phone with best specification like camera,battery backup,display, A13 bionic chip  That's my review about this phone but yours can be differ from me....\",\n",
       " 'Damn this phone is a blast . Upgraded from android to ios and is a duperb experience. Battery backup is top notch and display also pretty good',\n",
       " 'I dreamt about this day from a long time.... Getting an iPhone with my own money.... Super happy and worth spending every penny',\n",
       " \"I'm Really happy with the product Delivery was fast as well ..it was a gift for my sister and she loved it so much.\",\n",
       " \"Phone is awesome no doubt. But Camera & Display is not great. Performance is mind blowing. But the phone is heating too much when charging or when you regularly used. It's experience after using 1 week. It's heating extrem when I play PUBG for 30 minutes. Go for iPhone 11 pro or 12. Otherwise go for Android phone you will get much better phone in less price.\",\n",
       " 'Excellent camera, good performance, no lag. The lcd display is also good.. but difference come when we watch movie in prime and Netflix, the colours are not vibrant.. as we see in amoled display.. and the charger in box is of 5 watts.. takes more than 3 hours to charge from 0 to 100.. so guys be prepare to buy 18 watts charger . Finally I am an android user, it was my first Iapple phone, I promise u guys the iOS is so smooth.. overall the phone is damn good.... close eyes to buy it.. thanks t... READ MORE',\n",
       " 'This is my first ever I phone. Before this I was using my google nexus 5. But moving from android to iOS is a great experience. It’s worth at this price. I will highly recommend it if you want to move to iOS. The best part of this phone is it’s camera and it’s battery life. This two things have won my heart. I loved it. Happy to have it in my hand. Still exploring its features. And can’t forget to mention Flipkart service. Very prompt service and fast delivery.',\n",
       " 'Really worth of money. i just love it. It is the best phone ever.',\n",
       " 'Amazing phone and on great deal I received with super fast delivery by Flipkart...',\n",
       " 'Awesome...🤩😍😍']"
      ]
     },
     "execution_count": 53,
     "metadata": {},
     "output_type": "execute_result"
    }
   ],
   "source": [
    "f_rw5=driver.find_elements_by_xpath('//div[@class=\"t-ZTKy\"]')\n",
    "print(len(f_rw5))\n",
    "\n",
    "f_r5=[]\n",
    "for i in f_rw5:\n",
    "    f_r5.append(i.text.replace('\\n',' '))\n",
    "    \n",
    "f_r5"
   ]
  },
  {
   "cell_type": "code",
   "execution_count": 54,
   "id": "6709c05e",
   "metadata": {},
   "outputs": [
    {
     "name": "stdout",
     "output_type": "stream",
     "text": [
      "10\n"
     ]
    },
    {
     "data": {
      "text/plain": [
       "['Best Quality Product OF iPhone Series , Sound Quality & Camera quality is very awesome, Battery Life is very Sufficient for 24 hr Backup With Full Internet Access , I love this this Product too much , It is very fast & making me Very fast in all my daily Routine Highlights; 1.Camera: 5 STAR 2.Video Recording: 5 star 3.Night mODE sHOOTING & Camera:4 star 4. Audio Quality: Awesome 5. Battery : 5 Star 6. Touch:5 Star 7. Processor: Very Fast The M... READ MORE',\n",
       " 'Finally purchased iphone 11 instead of XR and its awesome decision',\n",
       " 'Battery backup is extraordinary, camera is decent & performance offered by A13 bionic is awsome. The display is good in practical usage like the visibility of display is very good in direct sun light compare to pro models. Iam extremely satisfied for the money I spent.',\n",
       " 'Superb Product !!! A big and worthy upgrade from mi 3S to iphone 11 . Totally loved it !',\n",
       " 'I am using this phone for 5 days and its one of the best camera out there ❤️ the screen is not oled and i am coming from iphone xs so its little bit not up to the mark i would say But overall value for money💕😍the battery back up is far better than my iphone xs and its worth in my apple ecosystem💫❤️if u are an apple User and have the eco system then go for it❤️though i will be getting the new iphone but its pretty good💫',\n",
       " 'Camera battery and it’s overall performance is good',\n",
       " 'Awesome purchase. Amazing phone with good battery backup. It’s a top notch device. White colour looks amazing. Phone has a few extra feature than iPhone XR. Overall, this is value for money',\n",
       " 'Here is the thing  The only reason why you should buy this phone is for the camera, iOS, and if you have headaches looking at AMOLED display.  I’m not an avid gamer but watch a lot of movies on smartphone. However, my migraine attacks increased considerably after using AMOLED Smartphone. That’s why I made a calculated decision to buy iPhone 11. It has the best LCD display and the blacks, though not as natural as an AMOLED, is better than some of the other smartphones.  Adding to this the ste... READ MORE',\n",
       " 'awesome phone to have. it has got many smart features apart from mind blowing looks, camera, display, battery and sound. have fallen in love with this phone. must buy phone if you have got enough money. thanks to flipkart and apple of course..',\n",
       " 'It’s an amazing product from apple and the camera is simply superb. Phone is faster.Night shot is simply superb and detailing and colour differentiation from camera is an added advantage  This review I have written from iPhone 11 only and I am glad to say outside.  Cons wise if we see HD+ display only, no battery percentage indicator as in older iPhone 8. No assistive touch control button in it No oleophobic coating on back panel glass and finger prints are visible but since I bought mint gr... READ MORE']"
      ]
     },
     "execution_count": 54,
     "metadata": {},
     "output_type": "execute_result"
    }
   ],
   "source": [
    "f_rw6=driver.find_elements_by_xpath('//div[@class=\"t-ZTKy\"]')\n",
    "print(len(f_rw6))\n",
    "\n",
    "f_r6=[]\n",
    "for i in f_rw6:\n",
    "    f_r6.append(i.text.replace('\\n',' '))\n",
    "    \n",
    "f_r6"
   ]
  },
  {
   "cell_type": "code",
   "execution_count": 55,
   "id": "17b70585",
   "metadata": {},
   "outputs": [
    {
     "name": "stdout",
     "output_type": "stream",
     "text": [
      "10\n"
     ]
    },
    {
     "data": {
      "text/plain": [
       "[\"I'm switching this phone to oppo reno 10x zoom It's really impressive Rarely I'm missing smooth display touch response like oppo reno but I really loved it. Camera really impressive\",\n",
       " 'Did an upgrade from 6s plus to iphone 11. Ao far the experience is well and good. Felt smoother than 6s plus. The camera quality is superb. Battery backup is descent. Not a heavy user, and gets power more than a day. Go for it if you need an alrounder iphone in a competitve price.',\n",
       " 'Its a fabulous mobile look awesome performance unbeaten camera like dslr battery good i think this is a beast of mobile',\n",
       " 'We are on apple ecosystem for almost eight years now with couple of iPads and iPhones, including Xr.  Bought iPhone 11 as a gift to my daughter who loves it. We chose for a purple coloured one. Believe me it is gorgeous and towards the lighter shade. Dazzling and brilliant!  The phone is great and does excellent RAM management like any other Apple device.  The screen, though a LCD and lesser ppi as compared to other flagship phones of competitor brands, is a delight to watch with perfect re... READ MORE',\n",
       " 'Upgraded from iphone 6 to 11 best phone for iphone users battery is much better than other iphones camera is awesome love to use it.camera is so clear in night.',\n",
       " 'I was using Iphone 6s and also Oneplus 6t. Both mobiles were perfectly alright in Photos, gaming, and smooth interface . My 6s mobile getting battery issue. thought upgrade to 11. Really like this mobile of its Internal storage (compare to 6s) , camera and its touch feeling. Its a worth buying mobile for me.',\n",
       " 'Excellent camera and display touching very nice and smooth very improvement against iPhone XR and new processor is very fast',\n",
       " \"It's very high performances devise i am like the service of flipkart delevary very fast and packing very nice perfect phone\",\n",
       " \"I can say I'm damn impressed with iPhone 11. As they says iPhone 11 have the toughest glass ever in the smartphone which you'll find on the front and back and it's totally smooth. The fit and finish is full apple quality - there's no sense that any cheaping out has happened in the construction. Without saying it's camera features this review won't complete. The iPhone 11 has a dual camera system, consisting of a wide angle len's that's pretty much same as found on the iPhone XR last year, but... READ MORE\",\n",
       " 'No word to say ..simply Awesome. Love it😘😘😘😘']"
      ]
     },
     "execution_count": 55,
     "metadata": {},
     "output_type": "execute_result"
    }
   ],
   "source": [
    "f_rw7=driver.find_elements_by_xpath('//div[@class=\"t-ZTKy\"]')\n",
    "print(len(f_rw7))\n",
    "\n",
    "f_r7=[]\n",
    "for i in f_rw7:\n",
    "    f_r7.append(i.text.replace('\\n',' '))\n",
    "    \n",
    "f_r7"
   ]
  },
  {
   "cell_type": "code",
   "execution_count": 56,
   "id": "881037f7",
   "metadata": {},
   "outputs": [
    {
     "name": "stdout",
     "output_type": "stream",
     "text": [
      "10\n"
     ]
    },
    {
     "data": {
      "text/plain": [
       "['Best in class. Battery backup is good especially when you play games like Pubg COD. But it is sort of heavy when you hold in hands. Portrait mode is best to click pictures. Stage light effect is awesome. Try to click photos outside in nature because photos inside home or room will not give you the quality in any phone even in DSLR.',\n",
       " 'Products damage',\n",
       " 'Well you all know the specifications . One of a kind. Best iPhone till date. Many enhancements to the camera app with many options. Love the glass body with matte finish in the lens area on the back. Lovely colours to choose from. Best battery in an iPhone till date, enough to last more than a day in normal usage. I tested my iPhone 11 battery and lasted for than 24 hours after full charge still with 30% battery charge left. Watched movies for some time. Normal usage on calls, browsing, musi... READ MORE',\n",
       " 'A perfect phone and a good battery super camera and the sound is dynamic overall the phone is perfect for upgrading from lower iPhone model to iPhone 11',\n",
       " 'New Phone worked for 2 weeks. After it gone dead without any reason and unfortunately lockdown hence at repair center for last 2 weeks. There were a exchange offer for old phone but they deducted amount saying one scratch on edge of old phone, infact any phone if u use for 1 month, if u use ring on ur finger it will come. It was not at all visible. The display, battery, performance for the old phone was perfect, still they deducted. With this experience i suggest you to buy phones from author... READ MORE',\n",
       " 'First thanks to Flipkart for this amazing deal and phone is outstanding. I upgraded from iPhone 7 and this is like very big upgrade. But the packaging was very basic I expected a good packaging as they only wrapped one layer of bubble wrap which I don’t think is enough to protect this expensive phone. And I recommend this phone and seller as well.  And I’m posting this review after using it for 4 days.',\n",
       " 'This will help you more. See if you are planning to buy iPhone 11. I will say. Yes. But there are some plans I just want to disclose before you buy. 1) If you are an existing iPhone X/XS/XS Max/ XR user, better you guys do not think it to buy. You guys have more or less better gadget. 2) If you are an android user and planning to buy premium phone. I will suggest them to please buy iPhone instead of buying an Android. I bet you will never go back to android after using IOS. Now I want to shar... READ MORE',\n",
       " 'This is my first ever iPhone. And I truly don’t regret switching to IOS from my Android.  It is easily an alternative to a DSLR camera. If you’re obsessed with photos and videos, just don’t think twice or don’t compare to other androids(Samsung S10 lite or OnePlus 8/8T), as it’s far better from them in every field. Comparing will only make you confused.  I am getting an average Screen on Time of around 10 hours with 30 percent left. I haven’t let my device discharged below 30 % as it aff... READ MORE',\n",
       " \"The best all rounder iphone. Flipkart is doing a great job. They're delivery services are blazing fast. I got delivery on the same day. Genuine Apple Product. Working great. Talking about review There's no need of review for iphones. They're simply the best.\",\n",
       " 'Amazing camera and feel super machine I am not describe my feeling but this is amazing Phone I am so lucky I have this']"
      ]
     },
     "execution_count": 56,
     "metadata": {},
     "output_type": "execute_result"
    }
   ],
   "source": [
    "f_rw8=driver.find_elements_by_xpath('//div[@class=\"t-ZTKy\"]')\n",
    "print(len(f_rw8))\n",
    "\n",
    "f_r8=[]\n",
    "for i in f_rw8:\n",
    "    f_r8.append(i.text.replace('\\n',' '))\n",
    "    \n",
    "f_r8"
   ]
  },
  {
   "cell_type": "code",
   "execution_count": 57,
   "id": "65ea519a",
   "metadata": {},
   "outputs": [
    {
     "name": "stdout",
     "output_type": "stream",
     "text": [
      "10\n"
     ]
    },
    {
     "data": {
      "text/plain": [
       "['Superfast delivery by Flipkart. Thanks.  1. iPhone 11 is a pretty solid phone for the money you are paying. 2. All the bad reviews about the display is confusing. It’s not that bad. 3. I switched from a Oneplus 7t. I have no complaints about the display quality of iPhone. Yes, it’s not OLED, so, we are missing on the deep blacks. But that’s it. It is a very colour accurate display. Gets adequately bright and I could not find any pixelation. 4. Performance is one of the best, if not best, in ... READ MORE',\n",
       " 'Can’t beat the software and hardware integration of apple. Performs like a beast. Great quality camera 6-7 hours screen on time which is good. Nothing much to complaint about the screen. Good connectivity speeds. Great buy and Flipkart’s delivery top notch as usual',\n",
       " 'Worth the money’ starting first from its performance it beats out all phones , second the smoothness of camera is awesome, contrast ratio is much than expected. Price will not matter if u r a quality person, if not other phones are available with better discount',\n",
       " 'Its Very awesome product working and good camera quality and all about best product and also flipkart is very great deal and offer nice price',\n",
       " \"phone is good but in display is 720p lcd in this price range we can get full hd OLED displays with higher refresh rate processor is very good camera is nice but looks kind of oldish in front of todays phone also there's no charging in box had to buy it seperately\",\n",
       " 'Great iphone. I am writing this review after 2 months of usage. Camera is excellent, especially the nightmode Display perfect Battery backup awesome Sound quality very good Overall Apple gives you a perfect iphone in this range. Really in love with iPhone 11',\n",
       " 'finally an iPhone with very nice battery backup. update from iPhone 7 and happy to have it. camera is not up to the mark in low light but overall a recommended phone if your budget allows 😀',\n",
       " 'iPhone is delivered on time. Display is great u won’t feel that it’s a hd panel. Quality is excellent. Sounds is great it has stereo setup. Camera is good. iOS 14.2 comes in the box. U roughly get 113 gb free if u buy 128 gb. This is my second iPhone and i love it. Value for money.',\n",
       " 'my 1st iphone,iphone 11 and xr also good in that price u can choose between this two phones.. am talking about frount camera it’s too good compared to androids phone',\n",
       " 'beautiful shining, battery performance is too good. only the draw back is my expectations not meeted front cam but back cam is superb.']"
      ]
     },
     "execution_count": 57,
     "metadata": {},
     "output_type": "execute_result"
    }
   ],
   "source": [
    "f_rw9=driver.find_elements_by_xpath('//div[@class=\"t-ZTKy\"]')\n",
    "print(len(f_rw9))\n",
    "\n",
    "f_r9=[]\n",
    "for i in f_rw9:\n",
    "    f_r9.append(i.text.replace('\\n',' '))\n",
    "    \n",
    "f_r9"
   ]
  },
  {
   "cell_type": "code",
   "execution_count": 58,
   "id": "ab3c84f0",
   "metadata": {},
   "outputs": [
    {
     "name": "stdout",
     "output_type": "stream",
     "text": [
      "10\n"
     ]
    },
    {
     "data": {
      "text/plain": [
       "['Iphone11 (4/64)GB Green color',\n",
       " '🤩🤩🤩🤩🤩🤩I loved the Phone.. Every time I pick up the phone it makes me happy... The phone is beast💪💪 and the camera is fabulous 🥰🥰🥰.. I think one of my great purchase from Flipkart.. Thank you Filpkart..',\n",
       " 'Gift this to your loved ones fabulous product and amazing super fast delivery by flipkart',\n",
       " 'Whoever has my kidney, May God Bless You!!!',\n",
       " 'Mobile is not getting charge.Mobile cannot be stated',\n",
       " \"I got this beast today. And I must say the picture quality of its camera is awesome. Both the cameras works fine.  As for as the processing is concerned, it runs without any lag. You can play and do whatever you want without a glitch.  The battery runs for a day with medium and high workload.  The display is good and the speakers are working fine.  The earphones doesn't have any base and you can use it for calling mostly.  The charging time is approximately for 90 minutes for full charging... READ MORE\",\n",
       " 'Amazing camera quality as expected, battery also has very good performance. Display, body, and touch experience is the best I’ve ever had. Sound quality of speakers is more than sufficient. Apple is known for it’s customer friendly security services and I can see it how. The A13 processor is the best in its work. So I would definitely recommend it for everyone who are looking for it, just go for it without delay.  The most amazing thing it the delivery. Flipkart has delivered it in the span ... READ MORE',\n",
       " 'Dear friends... I want to share my experience with you about this amazing I phone 11....this is my first iPhone and special things about this mobile is it has great camera, battery backup and awesome display.... I mean everything is perfect.loved it 👍👍👍',\n",
       " \"Camera is excellent just lack of telephoto mode frankly dose not needed either night mode is just 🙏🙏 12 12 12 mp (2back 1 front) camera lover just don't miss the deal Display lcd but feel like super amoled At46999 with no cost EMI just a best deal\",\n",
       " \"It was amazing experience for me. Honestly i am using iPhone first time so I don't have that much past experience about that. But after using 7 days this mobile i want to give some honest feedback. 1- Display 9 out of 10 2- Camera 9.5 out of 10 3- Battery 7 out of 10 4- Performance 9.5 out of 10 5- Features & Functions 10 out of 10 6- Outer looks and colour 10 out of 10 Rest i think i will understand after using this for few months. I will highly recommend you guys if you have budget then you... READ MORE\"]"
      ]
     },
     "execution_count": 58,
     "metadata": {},
     "output_type": "execute_result"
    }
   ],
   "source": [
    "f_rw10=driver.find_elements_by_xpath('//div[@class=\"t-ZTKy\"]')\n",
    "print(len(f_rw10))\n",
    "\n",
    "f_r10=[]\n",
    "for i in f_rw10:\n",
    "    f_r10.append(i.text.replace('\\n',' '))\n",
    "    \n",
    "f_r10"
   ]
  },
  {
   "cell_type": "markdown",
   "id": "46195ad6",
   "metadata": {},
   "source": [
    "# 6)scrape data for first 100 sneakers from flipkart.com"
   ]
  },
  {
   "cell_type": "code",
   "execution_count": 2,
   "id": "0fe8c403",
   "metadata": {},
   "outputs": [],
   "source": [
    "#connect to web driver\n",
    "driver=webdriver.Chrome(r'C:\\Users\\Aditya\\OneDrive\\Desktop\\chromedriver.exe')"
   ]
  },
  {
   "cell_type": "code",
   "execution_count": 3,
   "id": "55f9043a",
   "metadata": {},
   "outputs": [],
   "source": [
    "url='https://www.flipkart.com/'\n",
    "driver.get(url)"
   ]
  },
  {
   "cell_type": "code",
   "execution_count": 4,
   "id": "458919f3",
   "metadata": {},
   "outputs": [
    {
     "data": {
      "text/plain": [
       "<selenium.webdriver.remote.webelement.WebElement (session=\"a7c7896bc0abc6805c41e91ebc989b0b\", element=\"7a65f658-7b63-4eb1-9002-9621bf69258e\")>"
      ]
     },
     "execution_count": 4,
     "metadata": {},
     "output_type": "execute_result"
    }
   ],
   "source": [
    "search_text=driver.find_element_by_class_name(\"_3704LK\")\n",
    "search_text"
   ]
  },
  {
   "cell_type": "code",
   "execution_count": 16,
   "id": "45944e62",
   "metadata": {},
   "outputs": [],
   "source": [
    "search_text.send_keys('sneakers')"
   ]
  },
  {
   "cell_type": "code",
   "execution_count": 17,
   "id": "060b1be2",
   "metadata": {},
   "outputs": [
    {
     "data": {
      "text/plain": [
       "<selenium.webdriver.remote.webelement.WebElement (session=\"a7c7896bc0abc6805c41e91ebc989b0b\", element=\"bf5f0ebe-2323-40e2-b0f5-df4ec15ec2e2\")>"
      ]
     },
     "execution_count": 17,
     "metadata": {},
     "output_type": "execute_result"
    }
   ],
   "source": [
    "search_btn=driver.find_element_by_xpath('//button[@class=\"L0Z3Pu\"]')\n",
    "search_btn"
   ]
  },
  {
   "cell_type": "code",
   "execution_count": 18,
   "id": "6712aec6",
   "metadata": {},
   "outputs": [],
   "source": [
    "search_btn.click()"
   ]
  },
  {
   "cell_type": "code",
   "execution_count": 57,
   "id": "dc80d6aa",
   "metadata": {},
   "outputs": [
    {
     "data": {
      "text/plain": [
       "40"
      ]
     },
     "execution_count": 57,
     "metadata": {},
     "output_type": "execute_result"
    }
   ],
   "source": [
    "#find element by of rates\n",
    "rate=driver.find_elements_by_xpath('//div[@class=\"_30jeq3\"]')\n",
    "len(rate)"
   ]
  },
  {
   "cell_type": "code",
   "execution_count": 58,
   "id": "43791177",
   "metadata": {},
   "outputs": [
    {
     "data": {
      "text/plain": [
       "'₹649'"
      ]
     },
     "execution_count": 58,
     "metadata": {},
     "output_type": "execute_result"
    }
   ],
   "source": [
    "R1=[]\n",
    "for i in rate:\n",
    "    R1.append(i.text)\n",
    "    \n",
    "R1[0]"
   ]
  },
  {
   "cell_type": "code",
   "execution_count": 59,
   "id": "c9e814de",
   "metadata": {},
   "outputs": [
    {
     "name": "stdout",
     "output_type": "stream",
     "text": [
      "40\n"
     ]
    },
    {
     "data": {
      "text/plain": [
       "'₹399'"
      ]
     },
     "execution_count": 59,
     "metadata": {},
     "output_type": "execute_result"
    }
   ],
   "source": [
    "rate=driver.find_elements_by_xpath('//div[@class=\"_30jeq3\"]')\n",
    "print(len(rate))\n",
    "\n",
    "R2=[]\n",
    "for i in rate:\n",
    "    R2.append(i.text)\n",
    "    \n",
    "R2[0]"
   ]
  },
  {
   "cell_type": "code",
   "execution_count": 60,
   "id": "476310ac",
   "metadata": {},
   "outputs": [
    {
     "name": "stdout",
     "output_type": "stream",
     "text": [
      "40\n",
      "20\n"
     ]
    }
   ],
   "source": [
    "rate=driver.find_elements_by_xpath('//div[@class=\"_30jeq3\"]')\n",
    "print(len(rate))\n",
    "\n",
    "R3=[]\n",
    "for i in rate:\n",
    "    R3.append(i.text)\n",
    "    \n",
    "r3=R3[0:20]\n",
    "\n",
    "print(len(r3))"
   ]
  },
  {
   "cell_type": "code",
   "execution_count": 29,
   "id": "24dd31d2",
   "metadata": {},
   "outputs": [
    {
     "data": {
      "text/plain": [
       "100"
      ]
     },
     "execution_count": 29,
     "metadata": {},
     "output_type": "execute_result"
    }
   ],
   "source": [
    "Rates=R1+R2+r3\n",
    "len(Rates)"
   ]
  },
  {
   "cell_type": "code",
   "execution_count": 36,
   "id": "da8f5f45",
   "metadata": {},
   "outputs": [
    {
     "name": "stdout",
     "output_type": "stream",
     "text": [
      "40\n"
     ]
    },
    {
     "data": {
      "text/plain": [
       "'PUMA'"
      ]
     },
     "execution_count": 36,
     "metadata": {},
     "output_type": "execute_result"
    }
   ],
   "source": [
    "#names of the product\n",
    "name=driver.find_elements_by_xpath('//div[@class=\"_2WkVRV\"]')\n",
    "print(len(name))\n",
    "\n",
    "n1=[]\n",
    "for i in name:\n",
    "    n1.append(i.text)\n",
    "n1[0]"
   ]
  },
  {
   "cell_type": "code",
   "execution_count": 34,
   "id": "052a9ae3",
   "metadata": {},
   "outputs": [
    {
     "name": "stdout",
     "output_type": "stream",
     "text": [
      "40\n"
     ]
    },
    {
     "data": {
      "text/plain": [
       "'aadi'"
      ]
     },
     "execution_count": 34,
     "metadata": {},
     "output_type": "execute_result"
    }
   ],
   "source": [
    "#names of the product\n",
    "name=driver.find_elements_by_xpath('//div[@class=\"_2WkVRV\"]')\n",
    "print(len(name))\n",
    "\n",
    "n2=[]\n",
    "for i in name:\n",
    "    n2.append(i.text)\n",
    "n2[0]"
   ]
  },
  {
   "cell_type": "code",
   "execution_count": 37,
   "id": "39daade6",
   "metadata": {},
   "outputs": [
    {
     "name": "stdout",
     "output_type": "stream",
     "text": [
      "40\n",
      "Robbie jones\n"
     ]
    }
   ],
   "source": [
    "#names of the product\n",
    "name=driver.find_elements_by_xpath('//div[@class=\"_2WkVRV\"]')\n",
    "print(len(name))\n",
    "\n",
    "n3=[]\n",
    "for i in name:\n",
    "    n3.append(i.text)\n",
    "print(n3[0])\n",
    "\n",
    "N3=n3[0:20]"
   ]
  },
  {
   "cell_type": "code",
   "execution_count": 38,
   "id": "262777df",
   "metadata": {},
   "outputs": [
    {
     "data": {
      "text/plain": [
       "100"
      ]
     },
     "execution_count": 38,
     "metadata": {},
     "output_type": "execute_result"
    }
   ],
   "source": [
    "Names=n1+n2+N3\n",
    "len(Names)"
   ]
  },
  {
   "cell_type": "code",
   "execution_count": 40,
   "id": "acc0889e",
   "metadata": {},
   "outputs": [
    {
     "name": "stdout",
     "output_type": "stream",
     "text": [
      "39\n"
     ]
    },
    {
     "data": {
      "text/plain": [
       "'54% off'"
      ]
     },
     "execution_count": 40,
     "metadata": {},
     "output_type": "execute_result"
    }
   ],
   "source": [
    "#discount%\n",
    "discnt=driver.find_elements_by_xpath('//div[@class=\"_3Ay6Sb\"]')\n",
    "print(len(discnt))\n",
    "\n",
    "D1=[]\n",
    "\n",
    "for i in discnt:\n",
    "    D1.append(i.text)\n",
    "    \n",
    "D1[0]"
   ]
  },
  {
   "cell_type": "code",
   "execution_count": 52,
   "id": "b59084d8",
   "metadata": {},
   "outputs": [
    {
     "name": "stdout",
     "output_type": "stream",
     "text": [
      "40\n"
     ]
    },
    {
     "data": {
      "text/plain": [
       "'81% off'"
      ]
     },
     "execution_count": 52,
     "metadata": {},
     "output_type": "execute_result"
    }
   ],
   "source": [
    "#discount%\n",
    "discnt=driver.find_elements_by_xpath('//div[@class=\"_3Ay6Sb\"]')\n",
    "print(len(discnt))\n",
    "\n",
    "D2=[]\n",
    "\n",
    "for i in discnt:\n",
    "    D2.append(i.text)\n",
    "    \n",
    "D2[0]"
   ]
  },
  {
   "cell_type": "code",
   "execution_count": 54,
   "id": "130d3537",
   "metadata": {},
   "outputs": [
    {
     "name": "stdout",
     "output_type": "stream",
     "text": [
      "38\n"
     ]
    },
    {
     "data": {
      "text/plain": [
       "['73% off',\n",
       " '77% off',\n",
       " '59% off',\n",
       " '38% off',\n",
       " '54% off',\n",
       " '40% off',\n",
       " '50% off',\n",
       " '43% off',\n",
       " '48% off',\n",
       " '61% off',\n",
       " '45% off',\n",
       " '50% off',\n",
       " '78% off',\n",
       " '42% off',\n",
       " '60% off',\n",
       " '75% off',\n",
       " '75% off',\n",
       " '87% off',\n",
       " '33% off',\n",
       " '56% off',\n",
       " '52% off']"
      ]
     },
     "execution_count": 54,
     "metadata": {},
     "output_type": "execute_result"
    }
   ],
   "source": [
    "#discount%\n",
    "discnt=driver.find_elements_by_xpath('//div[@class=\"_3Ay6Sb\"]')\n",
    "print(len(discnt))\n",
    "\n",
    "D3=[]\n",
    "\n",
    "for i in discnt:\n",
    "    D3.append(i.text)\n",
    "    \n",
    "d3=D3[0:21]\n",
    "d3"
   ]
  },
  {
   "cell_type": "code",
   "execution_count": 55,
   "id": "322cbeea",
   "metadata": {},
   "outputs": [
    {
     "data": {
      "text/plain": [
       "100"
      ]
     },
     "execution_count": 55,
     "metadata": {},
     "output_type": "execute_result"
    }
   ],
   "source": [
    "discounts=D1+D2+d3\n",
    "\n",
    "len(discounts)"
   ]
  },
  {
   "cell_type": "code",
   "execution_count": 42,
   "id": "16b6282f",
   "metadata": {},
   "outputs": [
    {
     "name": "stdout",
     "output_type": "stream",
     "text": [
      "40\n"
     ]
    },
    {
     "data": {
      "text/plain": [
       "'Puma Smash v2 Buck Sneakers For Men'"
      ]
     },
     "execution_count": 42,
     "metadata": {},
     "output_type": "execute_result"
    }
   ],
   "source": [
    "descrptn=driver.find_elements_by_xpath('//a[@class=\"IRpwTa\" or @class=\"IRpwTa _2-ICcC\"]')\n",
    "print(len(descrptn))\n",
    "\n",
    "Desptn1=[]\n",
    "\n",
    "for i in descrptn:\n",
    "    Desptn1.append(i.text)\n",
    "    \n",
    "Desptn1[0]"
   ]
  },
  {
   "cell_type": "code",
   "execution_count": 47,
   "id": "cff1a57c",
   "metadata": {},
   "outputs": [
    {
     "name": "stdout",
     "output_type": "stream",
     "text": [
      "40\n"
     ]
    },
    {
     "data": {
      "text/plain": [
       "'Modern & Trendy Collection Combo Pack of 02 Shoes for M...'"
      ]
     },
     "execution_count": 47,
     "metadata": {},
     "output_type": "execute_result"
    }
   ],
   "source": [
    "descrptn=driver.find_elements_by_xpath('//a[@class=\"IRpwTa\" or @class=\"IRpwTa _2-ICcC\"]')\n",
    "print(len(descrptn))\n",
    "\n",
    "Desptn2=[]\n",
    "\n",
    "for i in descrptn:\n",
    "    Desptn2.append(i.text)\n",
    "    \n",
    "Desptn2[0]"
   ]
  },
  {
   "cell_type": "code",
   "execution_count": 50,
   "id": "bd936250",
   "metadata": {},
   "outputs": [
    {
     "name": "stdout",
     "output_type": "stream",
     "text": [
      "40\n"
     ]
    },
    {
     "data": {
      "text/plain": [
       "['Sneakers For Men',\n",
       " 'CUBIC_1 Sneakers For Men',\n",
       " 'Comfortable & Smart Sneakers For Men',\n",
       " 'Men Blue Solid Sneakers Sneakers For Men',\n",
       " 'Casual Sneakers Black Shoes For Men Sneakers For Men',\n",
       " 'Trendy Casual Shoes Sneakers For Men',\n",
       " \"Men's Sneakers Fashion Lightweight Running Shoes Tennis...\",\n",
       " 'Sneakers For Men',\n",
       " 'Smash v2 L White- Black Sneakers For Men',\n",
       " 'Sneakers Shoes For Men Black Sneakers For Men',\n",
       " 'Casual Sneakrs For Men Sneakers For Men',\n",
       " 'Sneakers For Men',\n",
       " 'Luxury Fashionable casual sneaker shoes Sneakers For Me...',\n",
       " 'Anzarun Grid Sneakers For Men',\n",
       " 'casual sneakers, loafers,walking and running shoes For ...',\n",
       " 'Roadster Men Grey Solid Suede Finish Sneakers Sneakers ...',\n",
       " 'Sneakers For Men',\n",
       " 'Sneakers For Men',\n",
       " 'Combo Pack Of 4 Casual Sneakers For Men',\n",
       " 'Men White Solid Sneakers Sneakers For Men']"
      ]
     },
     "execution_count": 50,
     "metadata": {},
     "output_type": "execute_result"
    }
   ],
   "source": [
    "descrptn=driver.find_elements_by_xpath('//a[@class=\"IRpwTa\" or @class=\"IRpwTa _2-ICcC\"]')\n",
    "print(len(descrptn))\n",
    "\n",
    "Desptn3=[]\n",
    "\n",
    "for i in descrptn:\n",
    "    Desptn3.append(i.text)\n",
    "    \n",
    "dsr3=Desptn3[0:20]\n",
    "\n",
    "dsr3"
   ]
  },
  {
   "cell_type": "code",
   "execution_count": 51,
   "id": "309289c8",
   "metadata": {},
   "outputs": [
    {
     "data": {
      "text/plain": [
       "100"
      ]
     },
     "execution_count": 51,
     "metadata": {},
     "output_type": "execute_result"
    }
   ],
   "source": [
    "#product name description\n",
    "dsr=Desptn1+Desptn2+dsr3\n",
    "len(dsr)"
   ]
  },
  {
   "cell_type": "markdown",
   "id": "f8582f45",
   "metadata": {},
   "source": [
    "# 7)scraping the data of 100 products price between Rs 7149 to Rs 14099 on  https://www.myntra.com/shoes"
   ]
  },
  {
   "cell_type": "code",
   "execution_count": 3,
   "id": "e57b6a36",
   "metadata": {},
   "outputs": [],
   "source": [
    "#connect to web driver\n",
    "driver=webdriver.Chrome(r'C:\\Users\\Aditya\\OneDrive\\Desktop\\chromedriver.exe')"
   ]
  },
  {
   "cell_type": "code",
   "execution_count": 4,
   "id": "2e3a7554",
   "metadata": {},
   "outputs": [],
   "source": [
    "url='https://www.myntra.com/shoes'\n",
    "driver.get(url)"
   ]
  },
  {
   "cell_type": "code",
   "execution_count": 5,
   "id": "8e3e8957",
   "metadata": {},
   "outputs": [
    {
     "data": {
      "text/plain": [
       "<selenium.webdriver.remote.webelement.WebElement (session=\"e666ecbf238ff98596f30cbbbb1bc13c\", element=\"1894cbb8-0497-4979-994e-f3fa3e304a9e\")>"
      ]
     },
     "execution_count": 5,
     "metadata": {},
     "output_type": "execute_result"
    }
   ],
   "source": [
    "#find element forfilter price\n",
    "check_bx=driver.find_element_by_xpath('/html/body/div[2]/div/div[1]/main/div[3]/div[1]/section/div/div[5]/ul/li[2]/label/div')\n",
    "check_bx"
   ]
  },
  {
   "cell_type": "code",
   "execution_count": 6,
   "id": "3217b55b",
   "metadata": {},
   "outputs": [],
   "source": [
    "check_bx.click()"
   ]
  },
  {
   "cell_type": "code",
   "execution_count": 7,
   "id": "b7a557b8",
   "metadata": {},
   "outputs": [
    {
     "data": {
      "text/plain": [
       "<selenium.webdriver.remote.webelement.WebElement (session=\"e666ecbf238ff98596f30cbbbb1bc13c\", element=\"2a4704c2-ec23-41d9-971a-06dc362909f8\")>"
      ]
     },
     "execution_count": 7,
     "metadata": {},
     "output_type": "execute_result"
    }
   ],
   "source": [
    "#find element for filter color\n",
    "color=driver.find_element_by_xpath('/html/body/div[2]/div/div[1]/main/div[3]/div[1]/section/div/div[6]/ul/li[1]/label/div')\n",
    "color"
   ]
  },
  {
   "cell_type": "code",
   "execution_count": 9,
   "id": "eeebcd7e",
   "metadata": {},
   "outputs": [],
   "source": [
    "color.click()"
   ]
  },
  {
   "cell_type": "code",
   "execution_count": 10,
   "id": "38ae0fa0",
   "metadata": {},
   "outputs": [
    {
     "name": "stdout",
     "output_type": "stream",
     "text": [
      "50\n"
     ]
    },
    {
     "data": {
      "text/plain": [
       "'Nike'"
      ]
     },
     "execution_count": 10,
     "metadata": {},
     "output_type": "execute_result"
    }
   ],
   "source": [
    "#brand of the shoe\n",
    "brand=driver.find_elements_by_xpath('//h3[@class=\"product-brand\"]')\n",
    "print(len(brand))\n",
    "\n",
    "brand1=[]\n",
    "for i in brand:\n",
    "    brand1.append(i.text)\n",
    "brand1[0]"
   ]
  },
  {
   "cell_type": "code",
   "execution_count": 11,
   "id": "f979150e",
   "metadata": {},
   "outputs": [
    {
     "name": "stdout",
     "output_type": "stream",
     "text": [
      "50\n"
     ]
    },
    {
     "data": {
      "text/plain": [
       "'Geox'"
      ]
     },
     "execution_count": 11,
     "metadata": {},
     "output_type": "execute_result"
    }
   ],
   "source": [
    "#brand of the shoe\n",
    "brand=driver.find_elements_by_xpath('//h3[@class=\"product-brand\"]')\n",
    "print(len(brand))\n",
    "\n",
    "brand2=[]\n",
    "for i in brand:\n",
    "    brand2.append(i.text)\n",
    "\n",
    "brand2[0]"
   ]
  },
  {
   "cell_type": "code",
   "execution_count": 14,
   "id": "8267a43a",
   "metadata": {},
   "outputs": [
    {
     "data": {
      "text/plain": [
       "100"
      ]
     },
     "execution_count": 14,
     "metadata": {},
     "output_type": "execute_result"
    }
   ],
   "source": [
    "#Brand Name\n",
    "Brand_name=brand1+brand2\n",
    "len(Brand_name)"
   ]
  },
  {
   "cell_type": "code",
   "execution_count": 12,
   "id": "abe5e237",
   "metadata": {},
   "outputs": [
    {
     "name": "stdout",
     "output_type": "stream",
     "text": [
      "50\n"
     ]
    },
    {
     "data": {
      "text/plain": [
       "'Men AIR ZOOM PEGASUS 38'"
      ]
     },
     "execution_count": 12,
     "metadata": {},
     "output_type": "execute_result"
    }
   ],
   "source": [
    "#short description of the shoe\n",
    "shrt_descrpt=driver.find_elements_by_xpath('//h4[@class=\"product-product\"]')\n",
    "print(len(shrt_descrpt))\n",
    "\n",
    "shrt_descrpt1=[]\n",
    "\n",
    "for i in shrt_descrpt:\n",
    "    shrt_descrpt1.append(i.text)\n",
    "    \n",
    "shrt_descrpt1[0]"
   ]
  },
  {
   "cell_type": "code",
   "execution_count": 13,
   "id": "9163fc6f",
   "metadata": {},
   "outputs": [
    {
     "name": "stdout",
     "output_type": "stream",
     "text": [
      "50\n"
     ]
    },
    {
     "data": {
      "text/plain": [
       "'Women Leather Loafers'"
      ]
     },
     "execution_count": 13,
     "metadata": {},
     "output_type": "execute_result"
    }
   ],
   "source": [
    "#short description of the shoe\n",
    "shrt_descrpt=driver.find_elements_by_xpath('//h4[@class=\"product-product\"]')\n",
    "print(len(shrt_descrpt))\n",
    "\n",
    "shrt_descrpt2=[]\n",
    "\n",
    "for i in shrt_descrpt:\n",
    "    shrt_descrpt2.append(i.text)\n",
    "    \n",
    "shrt_descrpt2[0]"
   ]
  },
  {
   "cell_type": "code",
   "execution_count": 15,
   "id": "ee72d5e0",
   "metadata": {},
   "outputs": [
    {
     "data": {
      "text/plain": [
       "100"
      ]
     },
     "execution_count": 15,
     "metadata": {},
     "output_type": "execute_result"
    }
   ],
   "source": [
    "#short description\n",
    "short_description=shrt_descrpt1+shrt_descrpt2\n",
    "len(short_description)"
   ]
  },
  {
   "cell_type": "code",
   "execution_count": 22,
   "id": "6aa358dd",
   "metadata": {},
   "outputs": [
    {
     "name": "stdout",
     "output_type": "stream",
     "text": [
      "50\n"
     ]
    },
    {
     "data": {
      "text/plain": [
       "'Rs. 10920Rs. 11495(5% OFF)'"
      ]
     },
     "execution_count": 22,
     "metadata": {},
     "output_type": "execute_result"
    }
   ],
   "source": [
    "#rate\n",
    "rate=driver.find_elements_by_xpath('//div [@class=\"product-price\" or @class=\"product-discountedPrice\" ]')\n",
    "print(len(rate))\n",
    "\n",
    "Rate=[]\n",
    "\n",
    "for i in rate:\n",
    "    Rate.append(i.text)\n",
    "    \n",
    "Rate[0]"
   ]
  },
  {
   "cell_type": "code",
   "execution_count": 23,
   "id": "e2e07a11",
   "metadata": {},
   "outputs": [
    {
     "name": "stdout",
     "output_type": "stream",
     "text": [
      "50\n"
     ]
    },
    {
     "data": {
      "text/plain": [
       "'Rs. 7999'"
      ]
     },
     "execution_count": 23,
     "metadata": {},
     "output_type": "execute_result"
    }
   ],
   "source": [
    "#rate\n",
    "rate=driver.find_elements_by_xpath('//div [@class=\"product-price\" or @class=\"product-discountedPrice\" ]')\n",
    "print(len(rate))\n",
    "\n",
    "Rate2=[]\n",
    "\n",
    "for i in rate:\n",
    "    Rate2.append(i.text)\n",
    "    \n",
    "Rate2[0]"
   ]
  },
  {
   "cell_type": "code",
   "execution_count": 24,
   "id": "e2f2a61e",
   "metadata": {},
   "outputs": [
    {
     "data": {
      "text/plain": [
       "100"
      ]
     },
     "execution_count": 24,
     "metadata": {},
     "output_type": "execute_result"
    }
   ],
   "source": [
    "#Rates\n",
    "Rates=Rate+Rate2\n",
    "len(Rates)"
   ]
  },
  {
   "cell_type": "markdown",
   "id": "deba0bcf",
   "metadata": {},
   "source": [
    "# 8)scraping data (price, title and ratings) of laptops at amazon (intel core i7 and intel core i9)"
   ]
  },
  {
   "cell_type": "code",
   "execution_count": 2,
   "id": "d97aa161",
   "metadata": {},
   "outputs": [],
   "source": [
    "#connect to web driver\n",
    "driver=webdriver.Chrome(r'C:\\Users\\Aditya\\OneDrive\\Desktop\\chromedriver.exe')"
   ]
  },
  {
   "cell_type": "code",
   "execution_count": 3,
   "id": "724c29ee",
   "metadata": {},
   "outputs": [],
   "source": [
    "url='https://www.amazon.in/'\n",
    "driver.get(url)"
   ]
  },
  {
   "cell_type": "code",
   "execution_count": 4,
   "id": "6bd26f5f",
   "metadata": {},
   "outputs": [
    {
     "data": {
      "text/plain": [
       "<selenium.webdriver.remote.webelement.WebElement (session=\"970e0d7e0ded500e7eb3e9705a9dd6b7\", element=\"e124847b-050d-4bc9-a930-8d4b7a7f5d29\")>"
      ]
     },
     "execution_count": 4,
     "metadata": {},
     "output_type": "execute_result"
    }
   ],
   "source": [
    "#find element for search box\n",
    "search_bx=driver.find_element_by_xpath('//input[@class=\"nav-input nav-progressive-attribute\"]')\n",
    "search_bx"
   ]
  },
  {
   "cell_type": "code",
   "execution_count": 5,
   "id": "ee85888e",
   "metadata": {},
   "outputs": [],
   "source": [
    "search_bx.send_keys('Laptop')"
   ]
  },
  {
   "cell_type": "code",
   "execution_count": 6,
   "id": "f8b9120b",
   "metadata": {},
   "outputs": [],
   "source": [
    "#element for serch button\n",
    "search_btn=driver.find_element_by_xpath('//span[@class=\"nav-search-submit-text nav-sprite nav-progressive-attribute\"]')"
   ]
  },
  {
   "cell_type": "code",
   "execution_count": 7,
   "id": "20e4fa56",
   "metadata": {},
   "outputs": [],
   "source": [
    "search_btn.click()"
   ]
  },
  {
   "cell_type": "code",
   "execution_count": 108,
   "id": "db35d856",
   "metadata": {},
   "outputs": [
    {
     "data": {
      "text/plain": [
       "<selenium.webdriver.remote.webelement.WebElement (session=\"d0be3bcbba5c9658be98696800ba82af\", element=\"9bea8627-de1b-4ec6-a2b6-b00a0b44f274\")>"
      ]
     },
     "execution_count": 108,
     "metadata": {},
     "output_type": "execute_result"
    }
   ],
   "source": [
    "#intel check box\n",
    "checkbox_manftr=driver.find_element_by_xpath('/html/body/div[1]/div[2]/div[1]/div[2]/div/div[3]/span/div[1]/div/div/div[5]/ul[1]/li[3]/span/a/div/label/i')\n",
    "checkbox_manftr"
   ]
  },
  {
   "cell_type": "code",
   "execution_count": 109,
   "id": "95a066f3",
   "metadata": {},
   "outputs": [],
   "source": [
    "checkbox_manftr.click()"
   ]
  },
  {
   "cell_type": "code",
   "execution_count": 113,
   "id": "0d0d8c2d",
   "metadata": {},
   "outputs": [
    {
     "data": {
      "text/plain": [
       "<selenium.webdriver.remote.webelement.WebElement (session=\"d0be3bcbba5c9658be98696800ba82af\", element=\"b90a808b-33c8-4257-b8ef-e4f765997be9\")>"
      ]
     },
     "execution_count": 113,
     "metadata": {},
     "output_type": "execute_result"
    }
   ],
   "source": [
    "#intel core i7\n",
    "i7=driver.find_element_by_xpath('/html/body/div[1]/div[2]/div[1]/div[2]/div/div[3]/span/div[1]/div/div/div[5]/ul[3]/li[4]/span/a/div/label/i')\n",
    "i7"
   ]
  },
  {
   "cell_type": "code",
   "execution_count": 114,
   "id": "637580c7",
   "metadata": {},
   "outputs": [],
   "source": [
    "i7.click()"
   ]
  },
  {
   "cell_type": "code",
   "execution_count": 115,
   "id": "098e8b92",
   "metadata": {},
   "outputs": [
    {
     "name": "stdout",
     "output_type": "stream",
     "text": [
      "30\n"
     ]
    },
    {
     "data": {
      "text/plain": [
       "['Fujitsu UH-X 11th Gen Intel i7 Core 13.3” (33.78cm) FHD IPS 400Nits Thin & Light Laptop (16GB/512GB SSD/Windows 11/Office 2021/Iris Xe Graphics/Backlit Kb/ Fingerprint Reader/Black/878gms), 4ZR1F38024',\n",
       " 'LG Gram 16 inches Intel Evo 11th Gen Core i7 Ultra-Light Laptop (16 GB RAM, 512 GB SSD, New Windows 11 Home Preload, Iris Xe Graphics, USC -C x 2 (with Power), 1.19 kg, 16Z90P-G.AH85A2, Black)',\n",
       " 'ASUS VivoBook 14 (2021), 14-inch (35.56 cms) FHD, Intel Core i7-1065G7 10th Gen, Thin and Light Laptop (16GB/512GB SSD/Integrated Graphics/Office 2021/Windows 11/Silver/1.6 Kg), X415JA-EK701WS',\n",
       " 'HP Pavilion x360 11th Gen Intel Core i7 14 inches FHD, IPS, Convertible Laptop (16 GB RAM/512GB SSD, B&O/Win 11 Home/Backlit keyboard/FPR/ Alexa-Built in/MS Office/Natural Silver/1.52 Kg) -14-dy1013TU',\n",
       " 'ASUS TUF Gaming F15 (2021), 15.6\" (39.62 cms) FHD 144Hz, Intel Core i7-11600H 11th Gen, 4GB RTX 3050 Graphics, Gaming Laptop (16GB/512GB SSD/Windows 10/Office 2019/Gray/2.3 Kg), FX566HCB-HN299TS',\n",
       " 'ASUS TUF Gaming F15 (2021) 15.6-inch (39.62 cms) FHD 144Hz, Intel Core i7-11800H 11th Gen, RTX 3050 Ti 4GB Graphics, Gaming Laptop (16GB/1TB SSD/Windows 10/Gray/2.3 Kg), FX566HEB-HN248T',\n",
       " 'Lenovo IdeaPad 5 Pro 11th Gen Intel Core i7 14\" (35.56cm)QHD IPS Thin & Light Laptop(16GB/512GB SSD/Iris Xe Graphics/3Yr Warranty/Windows 11/Office 2021/Backlit/300Nits/Storm Grey/1.41Kg), 82L3006YIN',\n",
       " 'MSI Katana GF66 Gaming, Intel i7-11800H, 15.6\" FHD IPS-Level 144Hz Panel Laptop (16GB/512GB NVMe SSD/Windows 10 Home/Nvidia RTX3050Ti 4GB GDDR6/Black/2.25Kg), 11UD-476IN',\n",
       " 'HP Pavilion Gaming 11th Gen Intel Core i7 Processor 39.62 cm(15.6-inch) FHD Gaming Laptop (16GB/512GB SSD/Win 11/NVIDIA RTX 3050 Graphics/MS Office/ Shadow Black & Ultra Violet/2.23 Kg), 15-dk2096TX',\n",
       " 'ASUS TUF Gaming F15 (2021) 15.6-inch (39.62 cms) FHD 144Hz, Intel Core i7-11800H 11th Gen, RTX 3050 4GB Graphics, Gaming Laptop (8GB/1TB SSD/Windows 10/Gray/2.3 Kg), FX566HCB-HN231T, Eclipse Gray']"
      ]
     },
     "execution_count": 115,
     "metadata": {},
     "output_type": "execute_result"
    }
   ],
   "source": [
    "#title of laptop\n",
    "title=driver.find_elements_by_xpath('//span[@class=\"a-size-medium a-color-base a-text-normal\"]')\n",
    "print(len(title))\n",
    "\n",
    "title_i7=[]\n",
    "\n",
    "for i in title:\n",
    "    title_i7.append(i.text)\n",
    "    \n",
    "title1=title_i7[0:10]\n",
    "\n",
    "title1"
   ]
  },
  {
   "cell_type": "code",
   "execution_count": 124,
   "id": "0b171078",
   "metadata": {},
   "outputs": [
    {
     "name": "stdout",
     "output_type": "stream",
     "text": [
      "26\n"
     ]
    },
    {
     "data": {
      "text/plain": [
       "['37', '71', '13', '60', '1', '21', '1', '2', '1', '3']"
      ]
     },
     "execution_count": 124,
     "metadata": {},
     "output_type": "execute_result"
    }
   ],
   "source": [
    "#ratings\n",
    "rating=driver.find_elements_by_xpath('//div[@class=\"a-row a-size-small\"]')\n",
    "print(len(rating))\n",
    "\n",
    "ratings=[]\n",
    "\n",
    "for i in rating:\n",
    "    ratings.append(i.text)\n",
    "    \n",
    "ratings[0:10]"
   ]
  },
  {
   "cell_type": "code",
   "execution_count": 120,
   "id": "4e38aba0",
   "metadata": {},
   "outputs": [
    {
     "name": "stdout",
     "output_type": "stream",
     "text": [
      "29\n"
     ]
    },
    {
     "data": {
      "text/plain": [
       "['92,490',\n",
       " '90,999',\n",
       " '59,990',\n",
       " '86,990',\n",
       " '83,990',\n",
       " '96,990',\n",
       " '1,02,900',\n",
       " '81,990',\n",
       " '98,080',\n",
       " '1,39,457']"
      ]
     },
     "execution_count": 120,
     "metadata": {},
     "output_type": "execute_result"
    }
   ],
   "source": [
    "#i7 prices\n",
    "price=driver.find_elements_by_xpath('//span[@class=\"a-price-whole\"]')\n",
    "print(len(price))\n",
    "\n",
    "prices=[]\n",
    "\n",
    "for i in price:\n",
    "    prices.append(i.text)\n",
    "    \n",
    "prices[0:10]"
   ]
  },
  {
   "cell_type": "code",
   "execution_count": null,
   "id": "8c825061",
   "metadata": {},
   "outputs": [],
   "source": []
  },
  {
   "cell_type": "markdown",
   "id": "e224c6df",
   "metadata": {},
   "source": [
    "# 9)scraping data from ambition box for the job role of data scientist\n",
    "# company name\n",
    "# no of days ago when job was posted\n",
    "# company rating"
   ]
  },
  {
   "cell_type": "code",
   "execution_count": 20,
   "id": "cbee71e8",
   "metadata": {},
   "outputs": [],
   "source": [
    "#connect to web driver\n",
    "driver=webdriver.Chrome(r'C:\\Users\\Aditya\\OneDrive\\Desktop\\chromedriver.exe')"
   ]
  },
  {
   "cell_type": "code",
   "execution_count": 21,
   "id": "f1ded968",
   "metadata": {},
   "outputs": [
    {
     "data": {
      "text/plain": [
       "<selenium.webdriver.remote.webelement.WebElement (session=\"30bd4f6247b559fb4c04c0e7277afe65\", element=\"6bb9036e-c86c-43ae-af75-b28b801fd10c\")>"
      ]
     },
     "execution_count": 21,
     "metadata": {},
     "output_type": "execute_result"
    }
   ],
   "source": [
    "#find element for job description \n",
    "job_dscpr=driver.find_element_by_xpath('/html/body/div/div/div/div[2]/div[1]/div/div/div/div/span/input')\n",
    "job_dscpr"
   ]
  },
  {
   "cell_type": "code",
   "execution_count": 22,
   "id": "2dc2c27d",
   "metadata": {},
   "outputs": [],
   "source": [
    "job_dscpr.send_keys('Data Scientist')"
   ]
  },
  {
   "cell_type": "code",
   "execution_count": 26,
   "id": "bf231883",
   "metadata": {},
   "outputs": [
    {
     "data": {
      "text/plain": [
       "<selenium.webdriver.remote.webelement.WebElement (session=\"30bd4f6247b559fb4c04c0e7277afe65\", element=\"07af8c0f-75b6-417e-bc4d-c559f4cddf1e\")>"
      ]
     },
     "execution_count": 26,
     "metadata": {},
     "output_type": "execute_result"
    }
   ],
   "source": [
    "search_btn=driver.find_element_by_xpath('/html/body/div/div/div/div[2]/div[1]/div/div/div/button')\n",
    "search_btn"
   ]
  },
  {
   "cell_type": "code",
   "execution_count": 27,
   "id": "8f7d073e",
   "metadata": {},
   "outputs": [],
   "source": [
    "search_btn.click()"
   ]
  },
  {
   "cell_type": "code",
   "execution_count": 28,
   "id": "9955676f",
   "metadata": {},
   "outputs": [
    {
     "data": {
      "text/plain": [
       "<selenium.webdriver.remote.webelement.WebElement (session=\"30bd4f6247b559fb4c04c0e7277afe65\", element=\"c34f46a6-03e3-48aa-93b9-4f86d2350a20\")>"
      ]
     },
     "execution_count": 28,
     "metadata": {},
     "output_type": "execute_result"
    }
   ],
   "source": [
    "#location\n",
    "location=driver.find_element_by_xpath('/html/body/div/div/div/div[2]/div[2]/div[1]/div/div/div/div[2]/div[2]/div/div[2]/input')\n",
    "location"
   ]
  },
  {
   "cell_type": "code",
   "execution_count": 29,
   "id": "e88ef907",
   "metadata": {},
   "outputs": [],
   "source": [
    "location.send_keys('Noida')"
   ]
  },
  {
   "cell_type": "code",
   "execution_count": 32,
   "id": "79d074ae",
   "metadata": {},
   "outputs": [
    {
     "data": {
      "text/plain": [
       "<selenium.webdriver.remote.webelement.WebElement (session=\"30bd4f6247b559fb4c04c0e7277afe65\", element=\"d0453bc9-a364-4e67-b4ae-a2109ef14ca5\")>"
      ]
     },
     "execution_count": 32,
     "metadata": {},
     "output_type": "execute_result"
    }
   ],
   "source": [
    "location_click=driver.find_element_by_xpath('/html/body/div/div/div/div[2]/div[2]/div[1]/div/div/div/div[2]/div[2]/div/div[3]/div[1]/div[1]/div/label')\n",
    "location_click"
   ]
  },
  {
   "cell_type": "code",
   "execution_count": 33,
   "id": "a9b03c9b",
   "metadata": {},
   "outputs": [],
   "source": [
    "location_click.click()"
   ]
  },
  {
   "cell_type": "code",
   "execution_count": 35,
   "id": "06b50962",
   "metadata": {},
   "outputs": [
    {
     "name": "stdout",
     "output_type": "stream",
     "text": [
      "10\n"
     ]
    },
    {
     "data": {
      "text/plain": [
       "['Jubilant Foodworks Limited',\n",
       " 'HCL Technologies',\n",
       " 'EY GDS',\n",
       " 'Tavant Technologies India Pvt. Ltd.',\n",
       " 'Denave India Pvt Ltd.',\n",
       " 'EXL Service',\n",
       " 'CHT Sapiense',\n",
       " 'Pitney Bowes India Pvt ltd',\n",
       " 'Zyoin',\n",
       " 'Ameriprise Financial']"
      ]
     },
     "execution_count": 35,
     "metadata": {},
     "output_type": "execute_result"
    }
   ],
   "source": [
    "#name of the compay\n",
    "company=driver.find_elements_by_xpath('//p[@class=\"company body-medium\"]')\n",
    "print(len(company))\n",
    "\n",
    "company_name=[]\n",
    "\n",
    "for i in company:\n",
    "    company_name.append(i.text)\n",
    "    \n",
    "company_name"
   ]
  },
  {
   "cell_type": "code",
   "execution_count": 46,
   "id": "93fac047",
   "metadata": {},
   "outputs": [
    {
     "name": "stdout",
     "output_type": "stream",
     "text": [
      "20\n"
     ]
    },
    {
     "data": {
      "text/plain": [
       "['12d ago',\n",
       " '26d ago',\n",
       " '27d ago',\n",
       " '7d ago',\n",
       " '7d ago',\n",
       " '20d ago',\n",
       " '1d ago',\n",
       " '27d ago',\n",
       " '5d ago',\n",
       " '1mon ago']"
      ]
     },
     "execution_count": 46,
     "metadata": {},
     "output_type": "execute_result"
    }
   ],
   "source": [
    "#no of days ago\n",
    "days_ago=driver.find_elements_by_xpath('//span[@class=\"body-small-l\"]')\n",
    "print(len(days_ago))\n",
    "\n",
    "days=[]\n",
    "for i in days_ago:\n",
    "    days.append(i.text)\n",
    "    \n",
    "days_ago=days[0::2]\n",
    "days_ago"
   ]
  },
  {
   "cell_type": "code",
   "execution_count": 47,
   "id": "c19fb717",
   "metadata": {},
   "outputs": [
    {
     "name": "stdout",
     "output_type": "stream",
     "text": [
      "10\n"
     ]
    },
    {
     "data": {
      "text/plain": [
       "['3.9', '3.8', '3.7', '4.0', '4.0', '3.8', '3.8', '4.2', '4.1', '4.0']"
      ]
     },
     "execution_count": 47,
     "metadata": {},
     "output_type": "execute_result"
    }
   ],
   "source": [
    "#company rating\n",
    "rating_company=driver.find_elements_by_xpath('//span[@class=\"body-small\"]')\n",
    "print(len(rating_company))\n",
    "\n",
    "rating=[]\n",
    "\n",
    "for i in rating_company:\n",
    "    rating.append(i.text)\n",
    "    \n",
    "rating"
   ]
  },
  {
   "cell_type": "code",
   "execution_count": 48,
   "id": "b6ca7437",
   "metadata": {},
   "outputs": [
    {
     "data": {
      "text/html": [
       "<div>\n",
       "<style scoped>\n",
       "    .dataframe tbody tr th:only-of-type {\n",
       "        vertical-align: middle;\n",
       "    }\n",
       "\n",
       "    .dataframe tbody tr th {\n",
       "        vertical-align: top;\n",
       "    }\n",
       "\n",
       "    .dataframe thead th {\n",
       "        text-align: right;\n",
       "    }\n",
       "</style>\n",
       "<table border=\"1\" class=\"dataframe\">\n",
       "  <thead>\n",
       "    <tr style=\"text-align: right;\">\n",
       "      <th></th>\n",
       "      <th>company name</th>\n",
       "      <th>posted no of days ago</th>\n",
       "      <th>company_rating</th>\n",
       "    </tr>\n",
       "  </thead>\n",
       "  <tbody>\n",
       "    <tr>\n",
       "      <th>0</th>\n",
       "      <td>Jubilant Foodworks Limited</td>\n",
       "      <td>12d ago</td>\n",
       "      <td>3.9</td>\n",
       "    </tr>\n",
       "    <tr>\n",
       "      <th>1</th>\n",
       "      <td>HCL Technologies</td>\n",
       "      <td>26d ago</td>\n",
       "      <td>3.8</td>\n",
       "    </tr>\n",
       "    <tr>\n",
       "      <th>2</th>\n",
       "      <td>EY GDS</td>\n",
       "      <td>27d ago</td>\n",
       "      <td>3.7</td>\n",
       "    </tr>\n",
       "    <tr>\n",
       "      <th>3</th>\n",
       "      <td>Tavant Technologies India Pvt. Ltd.</td>\n",
       "      <td>7d ago</td>\n",
       "      <td>4.0</td>\n",
       "    </tr>\n",
       "    <tr>\n",
       "      <th>4</th>\n",
       "      <td>Denave India Pvt Ltd.</td>\n",
       "      <td>7d ago</td>\n",
       "      <td>4.0</td>\n",
       "    </tr>\n",
       "    <tr>\n",
       "      <th>5</th>\n",
       "      <td>EXL Service</td>\n",
       "      <td>20d ago</td>\n",
       "      <td>3.8</td>\n",
       "    </tr>\n",
       "    <tr>\n",
       "      <th>6</th>\n",
       "      <td>CHT Sapiense</td>\n",
       "      <td>1d ago</td>\n",
       "      <td>3.8</td>\n",
       "    </tr>\n",
       "    <tr>\n",
       "      <th>7</th>\n",
       "      <td>Pitney Bowes India Pvt ltd</td>\n",
       "      <td>27d ago</td>\n",
       "      <td>4.2</td>\n",
       "    </tr>\n",
       "    <tr>\n",
       "      <th>8</th>\n",
       "      <td>Zyoin</td>\n",
       "      <td>5d ago</td>\n",
       "      <td>4.1</td>\n",
       "    </tr>\n",
       "    <tr>\n",
       "      <th>9</th>\n",
       "      <td>Ameriprise Financial</td>\n",
       "      <td>1mon ago</td>\n",
       "      <td>4.0</td>\n",
       "    </tr>\n",
       "  </tbody>\n",
       "</table>\n",
       "</div>"
      ],
      "text/plain": [
       "                          company name posted no of days ago company_rating\n",
       "0           Jubilant Foodworks Limited               12d ago            3.9\n",
       "1                     HCL Technologies               26d ago            3.8\n",
       "2                               EY GDS               27d ago            3.7\n",
       "3  Tavant Technologies India Pvt. Ltd.                7d ago            4.0\n",
       "4                Denave India Pvt Ltd.                7d ago            4.0\n",
       "5                          EXL Service               20d ago            3.8\n",
       "6                         CHT Sapiense                1d ago            3.8\n",
       "7           Pitney Bowes India Pvt ltd               27d ago            4.2\n",
       "8                                Zyoin                5d ago            4.1\n",
       "9                 Ameriprise Financial              1mon ago            4.0"
      ]
     },
     "execution_count": 48,
     "metadata": {},
     "output_type": "execute_result"
    }
   ],
   "source": [
    "import pandas as pd\n",
    "df=pd.DataFrame({'company name':company_name,'posted no of days ago':days_ago,'company_rating':rating})\n",
    "df"
   ]
  },
  {
   "cell_type": "markdown",
   "id": "5135c844",
   "metadata": {},
   "source": [
    "# 10)scrap the salary for data scientist, company name,no of salariesm, average salary,min salary,max salary"
   ]
  },
  {
   "cell_type": "code",
   "execution_count": 49,
   "id": "d1342019",
   "metadata": {},
   "outputs": [],
   "source": [
    "#connect to web driver\n",
    "driver=webdriver.Chrome(r'C:\\Users\\Aditya\\OneDrive\\Desktop\\chromedriver.exe')"
   ]
  },
  {
   "cell_type": "code",
   "execution_count": 51,
   "id": "05002969",
   "metadata": {},
   "outputs": [],
   "source": [
    "url='https://www.ambitionbox.com/'\n",
    "driver.get(url)"
   ]
  },
  {
   "cell_type": "code",
   "execution_count": 76,
   "id": "71b3276a",
   "metadata": {},
   "outputs": [],
   "source": [
    "#salaries\n",
    "sal=driver.find_element_by_xpath('/html/body/div[1]/nav/nav/a[4]')\n",
    "sal.click()"
   ]
  },
  {
   "cell_type": "code",
   "execution_count": 77,
   "id": "472195fb",
   "metadata": {},
   "outputs": [],
   "source": [
    "#job search box\n",
    "job_searchbx=driver.find_element_by_xpath(\"/html/body/div/div/div/main/section[1]/div[2]/div[1]/span/input\")\n",
    "job_searchbx.send_keys('Data Scientist')"
   ]
  },
  {
   "cell_type": "code",
   "execution_count": 84,
   "id": "a165646a",
   "metadata": {},
   "outputs": [
    {
     "name": "stdout",
     "output_type": "stream",
     "text": [
      "10\n"
     ]
    },
    {
     "data": {
      "text/plain": [
       "['Walmart',\n",
       " 'Ab Inbev',\n",
       " 'ZS',\n",
       " 'Optum',\n",
       " 'Fractal Analytics',\n",
       " 'Tiger Analytics',\n",
       " 'UnitedHealth',\n",
       " 'Verizon',\n",
       " 'Ganit Business Solutions',\n",
       " 'Ericsson']"
      ]
     },
     "execution_count": 84,
     "metadata": {},
     "output_type": "execute_result"
    }
   ],
   "source": [
    "#compay name\n",
    "name=driver.find_elements_by_xpath('//a[@data-v-2bae05f7]')\n",
    "print(len(name))\n",
    "\n",
    "names=[]\n",
    "\n",
    "for i in name:\n",
    "    names.append(i.text)\n",
    "    \n",
    "names"
   ]
  },
  {
   "cell_type": "code",
   "execution_count": 95,
   "id": "e9ea3d4f",
   "metadata": {},
   "outputs": [
    {
     "name": "stdout",
     "output_type": "stream",
     "text": [
      "20\n"
     ]
    },
    {
     "data": {
      "text/plain": [
       "['based on 10 salaries',\n",
       " 'based on 25 salaries',\n",
       " 'based on 13 salaries',\n",
       " 'based on 25 salaries',\n",
       " 'based on 75 salaries',\n",
       " 'based on 30 salaries',\n",
       " 'based on 51 salaries',\n",
       " 'based on 14 salaries',\n",
       " 'based on 13 salaries',\n",
       " 'based on 43 salaries']"
      ]
     },
     "execution_count": 95,
     "metadata": {},
     "output_type": "execute_result"
    }
   ],
   "source": [
    "#salaries\n",
    "sal=driver.find_elements_by_xpath('//span[@data-v-2bae05f7]')\n",
    "print(len(sal))\n",
    "\n",
    "sal1=[]\n",
    "\n",
    "for i in sal:\n",
    "    sal1.append(i.text.replace('.',''))\n",
    "    \n",
    "sal1=sal1[0::2]\n",
    "sal1"
   ]
  },
  {
   "cell_type": "code",
   "execution_count": 97,
   "id": "f9c070fe",
   "metadata": {},
   "outputs": [
    {
     "name": "stdout",
     "output_type": "stream",
     "text": [
      "20\n"
     ]
    },
    {
     "data": {
      "text/plain": [
       "['₹ 17.7L',\n",
       " '₹ 15.0L',\n",
       " '₹ 9.8L',\n",
       " '₹ 11.0L',\n",
       " '₹ 9.5L',\n",
       " '₹ 9.0L',\n",
       " '₹ 8.3L',\n",
       " '₹ 10.0L',\n",
       " '₹ 8.5L',\n",
       " '₹ 5.8L']"
      ]
     },
     "execution_count": 97,
     "metadata": {},
     "output_type": "execute_result"
    }
   ],
   "source": [
    "#min salary\n",
    "min_sal=driver.find_elements_by_xpath('//div[@class=\"value body-medium\"]')\n",
    "\n",
    "print(len(min_sal))\n",
    "\n",
    "min_sal1=[]\n",
    "\n",
    "for i in min_sal:\n",
    "    min_sal1.append(i.text)\n",
    "    \n",
    "min_sal1=min_sal1[0::2]\n",
    "min_sal1"
   ]
  },
  {
   "cell_type": "code",
   "execution_count": 100,
   "id": "10090d26",
   "metadata": {},
   "outputs": [
    {
     "name": "stdout",
     "output_type": "stream",
     "text": [
      "20\n"
     ]
    },
    {
     "data": {
      "text/plain": [
       "['₹ 35.0L',\n",
       " '₹ 25.5L',\n",
       " '₹ 20.0L',\n",
       " '₹ 21.3L',\n",
       " '₹ 22.0L',\n",
       " '₹ 18.5L',\n",
       " '₹ 20.5L',\n",
       " '₹ 21.0L',\n",
       " '₹ 15.0L',\n",
       " '₹ 24.0L']"
      ]
     },
     "execution_count": 100,
     "metadata": {},
     "output_type": "execute_result"
    }
   ],
   "source": [
    "#min salary\n",
    "max_sal=driver.find_elements_by_xpath('//div[@class=\"value body-medium\"]')\n",
    "\n",
    "print(len(max_sal))\n",
    "\n",
    "max_sal1=[]\n",
    "\n",
    "for i in max_sal:\n",
    "    max_sal1.append(i.text)\n",
    "    \n",
    "max_sal1=max_sal1[1::2]\n",
    "max_sal1"
   ]
  },
  {
   "cell_type": "code",
   "execution_count": 99,
   "id": "81fe6576",
   "metadata": {},
   "outputs": [
    {
     "name": "stdout",
     "output_type": "stream",
     "text": [
      "10\n"
     ]
    },
    {
     "data": {
      "text/plain": [
       "['₹ 28.7L',\n",
       " '₹ 20.2L',\n",
       " '₹ 15.5L',\n",
       " '₹ 15.1L',\n",
       " '₹ 15.1L',\n",
       " '₹ 14.2L',\n",
       " '₹ 13.8L',\n",
       " '₹ 12.7L',\n",
       " '₹ 12.4L',\n",
       " '₹ 11.9L']"
      ]
     },
     "execution_count": 99,
     "metadata": {},
     "output_type": "execute_result"
    }
   ],
   "source": [
    "#avg salary\n",
    "avg_sal=driver.find_elements_by_xpath('//p[@class=\"averageCtc\"]')\n",
    "\n",
    "print(len(avg_sal))\n",
    "\n",
    "avg_sal1=[]\n",
    "\n",
    "for i in avg_sal:\n",
    "    avg_sal1.append(i.text)\n",
    "    \n",
    "\n",
    "avg_sal1"
   ]
  },
  {
   "cell_type": "code",
   "execution_count": 101,
   "id": "412299da",
   "metadata": {},
   "outputs": [
    {
     "data": {
      "text/html": [
       "<div>\n",
       "<style scoped>\n",
       "    .dataframe tbody tr th:only-of-type {\n",
       "        vertical-align: middle;\n",
       "    }\n",
       "\n",
       "    .dataframe tbody tr th {\n",
       "        vertical-align: top;\n",
       "    }\n",
       "\n",
       "    .dataframe thead th {\n",
       "        text-align: right;\n",
       "    }\n",
       "</style>\n",
       "<table border=\"1\" class=\"dataframe\">\n",
       "  <thead>\n",
       "    <tr style=\"text-align: right;\">\n",
       "      <th></th>\n",
       "      <th>company name</th>\n",
       "      <th>no of salaries</th>\n",
       "      <th>minimum salary</th>\n",
       "      <th>average salry</th>\n",
       "      <th>max salary</th>\n",
       "    </tr>\n",
       "  </thead>\n",
       "  <tbody>\n",
       "    <tr>\n",
       "      <th>0</th>\n",
       "      <td>Walmart</td>\n",
       "      <td>based on 10 salaries</td>\n",
       "      <td>₹ 35.0L</td>\n",
       "      <td>₹ 28.7L</td>\n",
       "      <td>₹ 35.0L</td>\n",
       "    </tr>\n",
       "    <tr>\n",
       "      <th>1</th>\n",
       "      <td>Ab Inbev</td>\n",
       "      <td>based on 25 salaries</td>\n",
       "      <td>₹ 25.5L</td>\n",
       "      <td>₹ 20.2L</td>\n",
       "      <td>₹ 25.5L</td>\n",
       "    </tr>\n",
       "    <tr>\n",
       "      <th>2</th>\n",
       "      <td>ZS</td>\n",
       "      <td>based on 13 salaries</td>\n",
       "      <td>₹ 20.0L</td>\n",
       "      <td>₹ 15.5L</td>\n",
       "      <td>₹ 20.0L</td>\n",
       "    </tr>\n",
       "    <tr>\n",
       "      <th>3</th>\n",
       "      <td>Optum</td>\n",
       "      <td>based on 25 salaries</td>\n",
       "      <td>₹ 21.3L</td>\n",
       "      <td>₹ 15.1L</td>\n",
       "      <td>₹ 21.3L</td>\n",
       "    </tr>\n",
       "    <tr>\n",
       "      <th>4</th>\n",
       "      <td>Fractal Analytics</td>\n",
       "      <td>based on 75 salaries</td>\n",
       "      <td>₹ 22.0L</td>\n",
       "      <td>₹ 15.1L</td>\n",
       "      <td>₹ 22.0L</td>\n",
       "    </tr>\n",
       "    <tr>\n",
       "      <th>5</th>\n",
       "      <td>Tiger Analytics</td>\n",
       "      <td>based on 30 salaries</td>\n",
       "      <td>₹ 18.5L</td>\n",
       "      <td>₹ 14.2L</td>\n",
       "      <td>₹ 18.5L</td>\n",
       "    </tr>\n",
       "    <tr>\n",
       "      <th>6</th>\n",
       "      <td>UnitedHealth</td>\n",
       "      <td>based on 51 salaries</td>\n",
       "      <td>₹ 20.5L</td>\n",
       "      <td>₹ 13.8L</td>\n",
       "      <td>₹ 20.5L</td>\n",
       "    </tr>\n",
       "    <tr>\n",
       "      <th>7</th>\n",
       "      <td>Verizon</td>\n",
       "      <td>based on 14 salaries</td>\n",
       "      <td>₹ 21.0L</td>\n",
       "      <td>₹ 12.7L</td>\n",
       "      <td>₹ 21.0L</td>\n",
       "    </tr>\n",
       "    <tr>\n",
       "      <th>8</th>\n",
       "      <td>Ganit Business Solutions</td>\n",
       "      <td>based on 13 salaries</td>\n",
       "      <td>₹ 15.0L</td>\n",
       "      <td>₹ 12.4L</td>\n",
       "      <td>₹ 15.0L</td>\n",
       "    </tr>\n",
       "    <tr>\n",
       "      <th>9</th>\n",
       "      <td>Ericsson</td>\n",
       "      <td>based on 43 salaries</td>\n",
       "      <td>₹ 24.0L</td>\n",
       "      <td>₹ 11.9L</td>\n",
       "      <td>₹ 24.0L</td>\n",
       "    </tr>\n",
       "  </tbody>\n",
       "</table>\n",
       "</div>"
      ],
      "text/plain": [
       "               company name        no of salaries minimum salary  \\\n",
       "0                   Walmart  based on 10 salaries        ₹ 35.0L   \n",
       "1                  Ab Inbev  based on 25 salaries        ₹ 25.5L   \n",
       "2                        ZS  based on 13 salaries        ₹ 20.0L   \n",
       "3                     Optum  based on 25 salaries        ₹ 21.3L   \n",
       "4         Fractal Analytics  based on 75 salaries        ₹ 22.0L   \n",
       "5           Tiger Analytics  based on 30 salaries        ₹ 18.5L   \n",
       "6              UnitedHealth  based on 51 salaries        ₹ 20.5L   \n",
       "7                   Verizon  based on 14 salaries        ₹ 21.0L   \n",
       "8  Ganit Business Solutions  based on 13 salaries        ₹ 15.0L   \n",
       "9                  Ericsson  based on 43 salaries        ₹ 24.0L   \n",
       "\n",
       "  average salry max salary  \n",
       "0       ₹ 28.7L    ₹ 35.0L  \n",
       "1       ₹ 20.2L    ₹ 25.5L  \n",
       "2       ₹ 15.5L    ₹ 20.0L  \n",
       "3       ₹ 15.1L    ₹ 21.3L  \n",
       "4       ₹ 15.1L    ₹ 22.0L  \n",
       "5       ₹ 14.2L    ₹ 18.5L  \n",
       "6       ₹ 13.8L    ₹ 20.5L  \n",
       "7       ₹ 12.7L    ₹ 21.0L  \n",
       "8       ₹ 12.4L    ₹ 15.0L  \n",
       "9       ₹ 11.9L    ₹ 24.0L  "
      ]
     },
     "execution_count": 101,
     "metadata": {},
     "output_type": "execute_result"
    }
   ],
   "source": [
    "import pandas as pd \n",
    "df=pd.DataFrame({'company name':names,'no of salaries':sal1,'minimum salary':min_sal1,'average salry':avg_sal1,'max salary':max_sal1})\n",
    "df"
   ]
  },
  {
   "cell_type": "code",
   "execution_count": null,
   "id": "4805bb7f",
   "metadata": {},
   "outputs": [],
   "source": []
  }
 ],
 "metadata": {
  "kernelspec": {
   "display_name": "Python 3",
   "language": "python",
   "name": "python3"
  },
  "language_info": {
   "codemirror_mode": {
    "name": "ipython",
    "version": 3
   },
   "file_extension": ".py",
   "mimetype": "text/x-python",
   "name": "python",
   "nbconvert_exporter": "python",
   "pygments_lexer": "ipython3",
   "version": "3.8.8"
  }
 },
 "nbformat": 4,
 "nbformat_minor": 5
}
