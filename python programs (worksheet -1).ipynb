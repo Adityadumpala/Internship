{
 "cells": [
  {
   "cell_type": "markdown",
   "id": "8c3f23cd",
   "metadata": {},
   "source": [
    "# find the factorial number"
   ]
  },
  {
   "cell_type": "code",
   "execution_count": 13,
   "id": "5fbbba49",
   "metadata": {},
   "outputs": [
    {
     "name": "stdout",
     "output_type": "stream",
     "text": [
      "enter the number:1\n",
      "factorial of 1 is 1\n"
     ]
    }
   ],
   "source": [
    "num=int(input('enter the number:')) #using input method\n",
    "\n",
    "factorial=1\n",
    "\n",
    "if num<0: #check if the number is 0,positive or negative\n",
    "    \n",
    "    print('sorry,factorial does not exists negative numbers') \n",
    "    \n",
    "else:\n",
    "    for i in range(1,num+1):\n",
    "        \n",
    "        factorial=factorial*i\n",
    "            \n",
    "    print('factorial of',num,'is',factorial)\n",
    "        "
   ]
  },
  {
   "cell_type": "markdown",
   "id": "a6054327",
   "metadata": {},
   "source": [
    "# programme for check the number is prime or composite"
   ]
  },
  {
   "cell_type": "code",
   "execution_count": 14,
   "id": "0148ebd3",
   "metadata": {},
   "outputs": [
    {
     "name": "stdout",
     "output_type": "stream",
     "text": [
      "enter a number0\n",
      "number needs to be greater than 1\n"
     ]
    }
   ],
   "source": [
    "\n",
    "number=int(input('enter a number'))\n",
    "\n",
    "if number < 1:\n",
    "    \n",
    "    print('number needs to be greater than 1')\n",
    "    \n",
    "elif number == 1:\n",
    "    \n",
    "    print(number,'is neither prime nor composite')\n",
    "else:\n",
    "    \n",
    "    for i in range(2,number):\n",
    "        \n",
    "        if number % i == 0:\n",
    "            \n",
    "            print(number,'is a composite number')\n",
    "            \n",
    "            break\n",
    "    else:\n",
    "        print(number,'is a prime number')"
   ]
  },
  {
   "cell_type": "markdown",
   "id": "1d827817",
   "metadata": {},
   "source": [
    "# programme for check the string is palindrome or not"
   ]
  },
  {
   "cell_type": "code",
   "execution_count": 22,
   "id": "c21b7eb0",
   "metadata": {},
   "outputs": [
    {
     "name": "stdout",
     "output_type": "stream",
     "text": [
      "type a string to check is a palindrome45\n",
      "the string is not palindrome\n"
     ]
    }
   ],
   "source": [
    "\n",
    "\n",
    "my_string=input('type a string to check is a palindrome')\n",
    "\n",
    "my_string=my_string.casefold() #make it suitable for caseless comparison \n",
    "\n",
    "rev_strg=my_string[::-1] #reverse the given word by using slicing method\n",
    "\n",
    "if list(my_string)==list(rev_strg): #comparing the two strings\n",
    "\n",
    "    print('the string is palindrome') #if the condition is true\n",
    "else:\n",
    "    \n",
    "    print('the string is not palindrome') #if the condition is not true\n",
    "    "
   ]
  },
  {
   "cell_type": "markdown",
   "id": "0931540e",
   "metadata": {},
   "source": [
    "# Programme for find the third side of the triangle by using two sides of the triangle"
   ]
  },
  {
   "cell_type": "code",
   "execution_count": 9,
   "id": "25d03cc0",
   "metadata": {},
   "outputs": [
    {
     "name": "stdout",
     "output_type": "stream",
     "text": [
      "enter base=3\n",
      "enter perpendicular=4\n",
      "HYPOTENUSE IS = 5.0\n"
     ]
    }
   ],
   "source": [
    "\n",
    "#find hypotenuse using base and perpendicular values\n",
    "import math\n",
    "B=int(input('enter base='))\n",
    "P=int(input('enter perpendicular='))\n",
    "H=math.sqrt(B*B+P*P)\n",
    "print('HYPOTENUSE IS =',H)"
   ]
  },
  {
   "cell_type": "code",
   "execution_count": 7,
   "id": "3eb4dda1",
   "metadata": {},
   "outputs": [
    {
     "name": "stdout",
     "output_type": "stream",
     "text": [
      "Input lengths of p and h triangle sides:\n",
      "a: 4\n",
      "b: 5\n",
      "The length of the hypotenuse is: 3.0\n"
     ]
    }
   ],
   "source": [
    "#find perpendicular value by using hypotenuse and perpendicular\n",
    "\n",
    "from math import sqrt\n",
    "\n",
    "print(\"Input lengths of p and h triangle sides:\")\n",
    "\n",
    "p = float(input(\"a: \"))\n",
    "\n",
    "h = float(input(\"b: \"))\n",
    "\n",
    "base = sqrt(h*h-p*p)\n",
    "\n",
    "print(\"The length of the hypotenuse is:\", base )\n",
    "\n"
   ]
  },
  {
   "cell_type": "markdown",
   "id": "78624758",
   "metadata": {},
   "source": [
    "# frequency of characgters present in the string"
   ]
  },
  {
   "cell_type": "code",
   "execution_count": 10,
   "id": "6c0974b7",
   "metadata": {},
   "outputs": [
    {
     "name": "stdout",
     "output_type": "stream",
     "text": [
      "Given String:  ADITYA\n",
      "Frequency of each character :\n",
      "  {'A': 2, 'I': 1, 'Y': 1, 'T': 1, 'D': 1}\n"
     ]
    }
   ],
   "source": [
    "strA = \"ADITYA\"\n",
    "print(\"Given String: \",strA)\n",
    "# Using counter\n",
    "res = {}\n",
    "\n",
    "res={n: strA.count(n) for n in set(strA)}\n",
    "\n",
    "# Result\n",
    "print(\"Frequency of each character :\\n \",res)"
   ]
  },
  {
   "cell_type": "code",
   "execution_count": null,
   "id": "9dc81ab3",
   "metadata": {},
   "outputs": [],
   "source": []
  },
  {
   "cell_type": "code",
   "execution_count": null,
   "id": "aad4a530",
   "metadata": {},
   "outputs": [],
   "source": []
  }
 ],
 "metadata": {
  "kernelspec": {
   "display_name": "Python 3",
   "language": "python",
   "name": "python3"
  },
  "language_info": {
   "codemirror_mode": {
    "name": "ipython",
    "version": 3
   },
   "file_extension": ".py",
   "mimetype": "text/x-python",
   "name": "python",
   "nbconvert_exporter": "python",
   "pygments_lexer": "ipython3",
   "version": "3.8.8"
  }
 },
 "nbformat": 4,
 "nbformat_minor": 5
}
